{
 "cells": [
  {
   "cell_type": "code",
   "execution_count": 1,
   "metadata": {},
   "outputs": [],
   "source": [
    "import numpy as np\n",
    "import pandas as pd\n",
    "import seaborn as sns\n",
    "import matplotlib.pyplot as plt\n",
    "import matplotlib as mpl\n",
    "import pingouin as pg\n",
    "import sys\n",
    "from scipy.stats import shapiro, levene\n",
    "import pickle"
   ]
  },
  {
   "cell_type": "code",
   "execution_count": 2,
   "metadata": {},
   "outputs": [],
   "source": [
    "# load file with plotting stlye definitions\n",
    "sys.path.append('../')\n",
    "plt.style.use('plotting_style.mpltstyle')\n",
    "sns.set_style('whitegrid')"
   ]
  },
  {
   "cell_type": "code",
   "execution_count": 3,
   "metadata": {},
   "outputs": [],
   "source": [
    "import warnings\n",
    "\n",
    "# Disable future warnings\n",
    "warnings.simplefilter(action='ignore', category=FutureWarning)"
   ]
  },
  {
   "cell_type": "markdown",
   "metadata": {},
   "source": [
    "# Descriptive Statistics depending on Gender"
   ]
  },
  {
   "cell_type": "code",
   "execution_count": 4,
   "metadata": {},
   "outputs": [],
   "source": [
    "# load the data of each trial (including moves, reward, RT, time out, ID of performed sequence of actions)\n",
    "df = pd.read_csv('../data_empirical/data_cleaned.csv', header=0)\n",
    "\n",
    "dfDemographics = pd.read_csv('../data_empirical/demographic_data_IDs.csv')"
   ]
  },
  {
   "cell_type": "code",
   "execution_count": 5,
   "metadata": {},
   "outputs": [
    {
     "data": {
      "text/html": [
       "<div>\n",
       "<style scoped>\n",
       "    .dataframe tbody tr th:only-of-type {\n",
       "        vertical-align: middle;\n",
       "    }\n",
       "\n",
       "    .dataframe tbody tr th {\n",
       "        vertical-align: top;\n",
       "    }\n",
       "\n",
       "    .dataframe thead th {\n",
       "        text-align: right;\n",
       "    }\n",
       "</style>\n",
       "<table border=\"1\" class=\"dataframe\">\n",
       "  <thead>\n",
       "    <tr style=\"text-align: right;\">\n",
       "      <th></th>\n",
       "      <th>Record_ID</th>\n",
       "      <th>Age</th>\n",
       "      <th>Gender</th>\n",
       "      <th>file_name</th>\n",
       "      <th>Participant_ID</th>\n",
       "    </tr>\n",
       "  </thead>\n",
       "  <tbody>\n",
       "    <tr>\n",
       "      <th>0</th>\n",
       "      <td>1</td>\n",
       "      <td>19</td>\n",
       "      <td>weiblich</td>\n",
       "      <td>1634746180.csv</td>\n",
       "      <td>8</td>\n",
       "    </tr>\n",
       "    <tr>\n",
       "      <th>1</th>\n",
       "      <td>3</td>\n",
       "      <td>35</td>\n",
       "      <td>weiblich</td>\n",
       "      <td>1634753718.csv</td>\n",
       "      <td>36</td>\n",
       "    </tr>\n",
       "    <tr>\n",
       "      <th>2</th>\n",
       "      <td>5</td>\n",
       "      <td>25</td>\n",
       "      <td>weiblich</td>\n",
       "      <td>1634893289.csv</td>\n",
       "      <td>32</td>\n",
       "    </tr>\n",
       "    <tr>\n",
       "      <th>3</th>\n",
       "      <td>6</td>\n",
       "      <td>24</td>\n",
       "      <td>weiblich</td>\n",
       "      <td>1635170782.csv</td>\n",
       "      <td>0</td>\n",
       "    </tr>\n",
       "    <tr>\n",
       "      <th>4</th>\n",
       "      <td>7</td>\n",
       "      <td>27</td>\n",
       "      <td>weiblich</td>\n",
       "      <td>1634933833.csv</td>\n",
       "      <td>24</td>\n",
       "    </tr>\n",
       "    <tr>\n",
       "      <th>...</th>\n",
       "      <td>...</td>\n",
       "      <td>...</td>\n",
       "      <td>...</td>\n",
       "      <td>...</td>\n",
       "      <td>...</td>\n",
       "    </tr>\n",
       "    <tr>\n",
       "      <th>65</th>\n",
       "      <td>131</td>\n",
       "      <td>23</td>\n",
       "      <td>weiblich</td>\n",
       "      <td>1636031635.csv</td>\n",
       "      <td>40</td>\n",
       "    </tr>\n",
       "    <tr>\n",
       "      <th>66</th>\n",
       "      <td>133</td>\n",
       "      <td>18</td>\n",
       "      <td>männlich</td>\n",
       "      <td>1636044587.csv</td>\n",
       "      <td>58</td>\n",
       "    </tr>\n",
       "    <tr>\n",
       "      <th>67</th>\n",
       "      <td>134</td>\n",
       "      <td>26</td>\n",
       "      <td>männlich</td>\n",
       "      <td>1636070864.csv</td>\n",
       "      <td>34</td>\n",
       "    </tr>\n",
       "    <tr>\n",
       "      <th>68</th>\n",
       "      <td>136</td>\n",
       "      <td>31</td>\n",
       "      <td>weiblich</td>\n",
       "      <td>1636152235.csv</td>\n",
       "      <td>42</td>\n",
       "    </tr>\n",
       "    <tr>\n",
       "      <th>69</th>\n",
       "      <td>138</td>\n",
       "      <td>18</td>\n",
       "      <td>weiblich</td>\n",
       "      <td>1636322981.csv</td>\n",
       "      <td>23</td>\n",
       "    </tr>\n",
       "  </tbody>\n",
       "</table>\n",
       "<p>70 rows × 5 columns</p>\n",
       "</div>"
      ],
      "text/plain": [
       "    Record_ID  Age    Gender       file_name  Participant_ID\n",
       "0           1   19  weiblich  1634746180.csv               8\n",
       "1           3   35  weiblich  1634753718.csv              36\n",
       "2           5   25  weiblich  1634893289.csv              32\n",
       "3           6   24  weiblich  1635170782.csv               0\n",
       "4           7   27  weiblich  1634933833.csv              24\n",
       "..        ...  ...       ...             ...             ...\n",
       "65        131   23  weiblich  1636031635.csv              40\n",
       "66        133   18  männlich  1636044587.csv              58\n",
       "67        134   26  männlich  1636070864.csv              34\n",
       "68        136   31  weiblich  1636152235.csv              42\n",
       "69        138   18  weiblich  1636322981.csv              23\n",
       "\n",
       "[70 rows x 5 columns]"
      ]
     },
     "execution_count": 5,
     "metadata": {},
     "output_type": "execute_result"
    }
   ],
   "source": [
    "dfDemographics"
   ]
  },
  {
   "cell_type": "code",
   "execution_count": 8,
   "metadata": {},
   "outputs": [
    {
     "data": {
      "text/html": [
       "<div>\n",
       "<style scoped>\n",
       "    .dataframe tbody tr th:only-of-type {\n",
       "        vertical-align: middle;\n",
       "    }\n",
       "\n",
       "    .dataframe tbody tr th {\n",
       "        vertical-align: top;\n",
       "    }\n",
       "\n",
       "    .dataframe thead th {\n",
       "        text-align: right;\n",
       "    }\n",
       "</style>\n",
       "<table border=\"1\" class=\"dataframe\">\n",
       "  <thead>\n",
       "    <tr style=\"text-align: right;\">\n",
       "      <th></th>\n",
       "      <th>mean</th>\n",
       "      <th>std</th>\n",
       "    </tr>\n",
       "    <tr>\n",
       "      <th>Gender</th>\n",
       "      <th></th>\n",
       "      <th></th>\n",
       "    </tr>\n",
       "  </thead>\n",
       "  <tbody>\n",
       "    <tr>\n",
       "      <th>männlich</th>\n",
       "      <td>25.50</td>\n",
       "      <td>5.246553</td>\n",
       "    </tr>\n",
       "    <tr>\n",
       "      <th>weiblich</th>\n",
       "      <td>23.48</td>\n",
       "      <td>4.277325</td>\n",
       "    </tr>\n",
       "  </tbody>\n",
       "</table>\n",
       "</div>"
      ],
      "text/plain": [
       "           mean       std\n",
       "Gender                   \n",
       "männlich  25.50  5.246553\n",
       "weiblich  23.48  4.277325"
      ]
     },
     "execution_count": 8,
     "metadata": {},
     "output_type": "execute_result"
    }
   ],
   "source": [
    "dfDemographics['Age'].groupby(dfDemographics['Gender']).agg(['mean', 'std'])"
   ]
  },
  {
   "cell_type": "code",
   "execution_count": null,
   "metadata": {},
   "outputs": [],
   "source": []
  },
  {
   "cell_type": "code",
   "execution_count": 6,
   "metadata": {},
   "outputs": [],
   "source": [
    "# add DAS indicator column to df\n",
    "IdxDAS = 4 # set DAS index\n",
    "df['DAS'] = np.where(df['sequence_ID']==IdxDAS, 1, 0)\n",
    "\n",
    "# set RT and DAS of time out trials to NaN\n",
    "df.loc[df['time_out']==1, ['RT', 'DAS']] = np.NaN\n",
    "\n",
    "# add columns that code for the halfves and segments of the experiment\n",
    "df['half'] = pd.cut(df['blockN'], 2, labels=np.arange(2))\n",
    "df['segment'] = pd.cut(df['blockN'], 4, labels=np.arange(4))\n",
    "\n",
    "# select the measures\n",
    "measures = ['DAS', 'reward', 'RT', 'time_out']"
   ]
  },
  {
   "cell_type": "code",
   "execution_count": 7,
   "metadata": {},
   "outputs": [],
   "source": [
    "dfStats = pd.DataFrame()\n",
    "dfStats['ID'] = dfDemographics['Participant_ID']\n",
    "dfStats['gender'] = dfDemographics['Gender']\n",
    "dfStats.sort_values('ID', inplace=True)\n",
    "dfStats.set_index('ID', inplace=True)"
   ]
  },
  {
   "cell_type": "code",
   "execution_count": 8,
   "metadata": {},
   "outputs": [],
   "source": [
    "dfMeans = df[measures].groupby(df['Participant_ID']).mean().round(2).reset_index()\n",
    "\n",
    "dfStats['p(DAS)'] = dfMeans['DAS']\n",
    "dfStats['reward'] = dfMeans['reward']\n",
    "dfStats['RT'] = dfMeans['RT']\n",
    "dfStats['time_outs'] = df['time_out'].groupby(df['Participant_ID']).sum()"
   ]
  },
  {
   "cell_type": "code",
   "execution_count": 9,
   "metadata": {},
   "outputs": [
    {
     "data": {
      "text/html": [
       "<div>\n",
       "<style scoped>\n",
       "    .dataframe tbody tr th:only-of-type {\n",
       "        vertical-align: middle;\n",
       "    }\n",
       "\n",
       "    .dataframe tbody tr th {\n",
       "        vertical-align: top;\n",
       "    }\n",
       "\n",
       "    .dataframe thead tr th {\n",
       "        text-align: left;\n",
       "    }\n",
       "\n",
       "    .dataframe thead tr:last-of-type th {\n",
       "        text-align: right;\n",
       "    }\n",
       "</style>\n",
       "<table border=\"1\" class=\"dataframe\">\n",
       "  <thead>\n",
       "    <tr>\n",
       "      <th></th>\n",
       "      <th colspan=\"2\" halign=\"left\">p(DAS)</th>\n",
       "      <th colspan=\"2\" halign=\"left\">reward</th>\n",
       "      <th colspan=\"2\" halign=\"left\">RT</th>\n",
       "      <th colspan=\"2\" halign=\"left\">time_outs</th>\n",
       "    </tr>\n",
       "    <tr>\n",
       "      <th></th>\n",
       "      <th>mean</th>\n",
       "      <th>std</th>\n",
       "      <th>mean</th>\n",
       "      <th>std</th>\n",
       "      <th>mean</th>\n",
       "      <th>std</th>\n",
       "      <th>mean</th>\n",
       "      <th>std</th>\n",
       "    </tr>\n",
       "    <tr>\n",
       "      <th>gender</th>\n",
       "      <th></th>\n",
       "      <th></th>\n",
       "      <th></th>\n",
       "      <th></th>\n",
       "      <th></th>\n",
       "      <th></th>\n",
       "      <th></th>\n",
       "      <th></th>\n",
       "    </tr>\n",
       "  </thead>\n",
       "  <tbody>\n",
       "    <tr>\n",
       "      <th>männlich</th>\n",
       "      <td>0.57</td>\n",
       "      <td>0.17</td>\n",
       "      <td>82.69</td>\n",
       "      <td>5.79</td>\n",
       "      <td>1481.13</td>\n",
       "      <td>274.59</td>\n",
       "      <td>3.30</td>\n",
       "      <td>2.74</td>\n",
       "    </tr>\n",
       "    <tr>\n",
       "      <th>weiblich</th>\n",
       "      <td>0.53</td>\n",
       "      <td>0.19</td>\n",
       "      <td>79.89</td>\n",
       "      <td>5.93</td>\n",
       "      <td>1755.47</td>\n",
       "      <td>415.56</td>\n",
       "      <td>5.32</td>\n",
       "      <td>3.89</td>\n",
       "    </tr>\n",
       "  </tbody>\n",
       "</table>\n",
       "</div>"
      ],
      "text/plain": [
       "         p(DAS)       reward             RT         time_outs      \n",
       "           mean   std   mean   std     mean     std      mean   std\n",
       "gender                                                             \n",
       "männlich   0.57  0.17  82.69  5.79  1481.13  274.59      3.30  2.74\n",
       "weiblich   0.53  0.19  79.89  5.93  1755.47  415.56      5.32  3.89"
      ]
     },
     "execution_count": 9,
     "metadata": {},
     "output_type": "execute_result"
    }
   ],
   "source": [
    "dfStats.groupby('gender').agg(['mean', 'std']).round(2)"
   ]
  },
  {
   "cell_type": "markdown",
   "metadata": {},
   "source": [
    "### p(DAS)"
   ]
  },
  {
   "cell_type": "code",
   "execution_count": 10,
   "metadata": {},
   "outputs": [
    {
     "name": "stdout",
     "output_type": "stream",
     "text": [
      "0.9620251590465091\n",
      "0.10808058730649966\n"
     ]
    }
   ],
   "source": [
    "stats, p = shapiro(dfStats.loc[dfStats['gender']=='weiblich', 'p(DAS)'])\n",
    "print(stats)\n",
    "print(p)"
   ]
  },
  {
   "cell_type": "code",
   "execution_count": 11,
   "metadata": {},
   "outputs": [
    {
     "name": "stdout",
     "output_type": "stream",
     "text": [
      "0.9265710946889408\n",
      "0.13262881898168333\n"
     ]
    }
   ],
   "source": [
    "stats, p = shapiro(dfStats.loc[dfStats['gender']=='männlich', 'p(DAS)'])\n",
    "print(stats)\n",
    "print(p)"
   ]
  },
  {
   "cell_type": "code",
   "execution_count": 12,
   "metadata": {},
   "outputs": [
    {
     "name": "stdout",
     "output_type": "stream",
     "text": [
      "0.51524311611413\n",
      "0.475336765614812\n"
     ]
    }
   ],
   "source": [
    "stats, p = levene(dfStats.loc[dfStats['gender']=='männlich', 'p(DAS)'], dfStats.loc[dfStats['gender']=='weiblich', 'p(DAS)'])\n",
    "print(stats)\n",
    "print(p)"
   ]
  },
  {
   "cell_type": "code",
   "execution_count": 13,
   "metadata": {},
   "outputs": [
    {
     "data": {
      "text/html": [
       "<div>\n",
       "<style scoped>\n",
       "    .dataframe tbody tr th:only-of-type {\n",
       "        vertical-align: middle;\n",
       "    }\n",
       "\n",
       "    .dataframe tbody tr th {\n",
       "        vertical-align: top;\n",
       "    }\n",
       "\n",
       "    .dataframe thead th {\n",
       "        text-align: right;\n",
       "    }\n",
       "</style>\n",
       "<table border=\"1\" class=\"dataframe\">\n",
       "  <thead>\n",
       "    <tr style=\"text-align: right;\">\n",
       "      <th></th>\n",
       "      <th>T</th>\n",
       "      <th>dof</th>\n",
       "      <th>alternative</th>\n",
       "      <th>p-val</th>\n",
       "      <th>CI95%</th>\n",
       "      <th>cohen-d</th>\n",
       "      <th>BF10</th>\n",
       "      <th>power</th>\n",
       "    </tr>\n",
       "  </thead>\n",
       "  <tbody>\n",
       "    <tr>\n",
       "      <th>T-test</th>\n",
       "      <td>-0.813594</td>\n",
       "      <td>39.542595</td>\n",
       "      <td>two-sided</td>\n",
       "      <td>0.42075</td>\n",
       "      <td>[-0.13, 0.06]</td>\n",
       "      <td>0.203805</td>\n",
       "      <td>0.353</td>\n",
       "      <td>0.118245</td>\n",
       "    </tr>\n",
       "  </tbody>\n",
       "</table>\n",
       "</div>"
      ],
      "text/plain": [
       "               T        dof alternative    p-val          CI95%   cohen-d  \\\n",
       "T-test -0.813594  39.542595   two-sided  0.42075  [-0.13, 0.06]  0.203805   \n",
       "\n",
       "         BF10     power  \n",
       "T-test  0.353  0.118245  "
      ]
     },
     "execution_count": 13,
     "metadata": {},
     "output_type": "execute_result"
    }
   ],
   "source": [
    "pg.ttest(x=dfStats.loc[dfStats['gender']=='weiblich', 'p(DAS)'],\n",
    "         y=dfStats.loc[dfStats['gender']=='männlich', 'p(DAS)'])"
   ]
  },
  {
   "cell_type": "code",
   "execution_count": null,
   "metadata": {},
   "outputs": [],
   "source": []
  },
  {
   "cell_type": "markdown",
   "metadata": {},
   "source": [
    "### Reward"
   ]
  },
  {
   "cell_type": "code",
   "execution_count": 14,
   "metadata": {},
   "outputs": [
    {
     "name": "stdout",
     "output_type": "stream",
     "text": [
      "0.8991672691247901\n",
      "0.00045105845653684723\n"
     ]
    }
   ],
   "source": [
    "stats, p = shapiro(dfStats.loc[dfStats['gender']=='weiblich', 'reward'])\n",
    "print(stats)\n",
    "print(p)"
   ]
  },
  {
   "cell_type": "code",
   "execution_count": 15,
   "metadata": {},
   "outputs": [
    {
     "name": "stdout",
     "output_type": "stream",
     "text": [
      "0.7793868448000035\n",
      "0.000432523429335665\n"
     ]
    }
   ],
   "source": [
    "stats, p = shapiro(dfStats.loc[dfStats['gender']=='männlich', 'reward'])\n",
    "print(stats)\n",
    "print(p)"
   ]
  },
  {
   "cell_type": "code",
   "execution_count": 16,
   "metadata": {},
   "outputs": [
    {
     "name": "stdout",
     "output_type": "stream",
     "text": [
      "0.5393225551124053\n",
      "0.46523853258559533\n"
     ]
    }
   ],
   "source": [
    "stats, p = levene(dfStats.loc[dfStats['gender']=='männlich', 'reward'], dfStats.loc[dfStats['gender']=='weiblich', 'reward'])\n",
    "print(stats)\n",
    "print(p)"
   ]
  },
  {
   "cell_type": "code",
   "execution_count": 26,
   "metadata": {},
   "outputs": [
    {
     "data": {
      "text/html": [
       "<div>\n",
       "<style scoped>\n",
       "    .dataframe tbody tr th:only-of-type {\n",
       "        vertical-align: middle;\n",
       "    }\n",
       "\n",
       "    .dataframe tbody tr th {\n",
       "        vertical-align: top;\n",
       "    }\n",
       "\n",
       "    .dataframe thead th {\n",
       "        text-align: right;\n",
       "    }\n",
       "</style>\n",
       "<table border=\"1\" class=\"dataframe\">\n",
       "  <thead>\n",
       "    <tr style=\"text-align: right;\">\n",
       "      <th></th>\n",
       "      <th>U-val</th>\n",
       "      <th>alternative</th>\n",
       "      <th>p-val</th>\n",
       "      <th>RBC</th>\n",
       "      <th>CLES</th>\n",
       "    </tr>\n",
       "  </thead>\n",
       "  <tbody>\n",
       "    <tr>\n",
       "      <th>MWU</th>\n",
       "      <td>302.0</td>\n",
       "      <td>two-sided</td>\n",
       "      <td>0.01024</td>\n",
       "      <td>0.396</td>\n",
       "      <td>0.302</td>\n",
       "    </tr>\n",
       "  </tbody>\n",
       "</table>\n",
       "</div>"
      ],
      "text/plain": [
       "     U-val alternative    p-val    RBC   CLES\n",
       "MWU  302.0   two-sided  0.01024  0.396  0.302"
      ]
     },
     "execution_count": 26,
     "metadata": {},
     "output_type": "execute_result"
    }
   ],
   "source": [
    "pg.mwu(x=dfStats.loc[dfStats['gender']=='weiblich', 'reward'],\n",
    "         y=dfStats.loc[dfStats['gender']=='männlich', 'reward'])"
   ]
  },
  {
   "cell_type": "code",
   "execution_count": null,
   "metadata": {},
   "outputs": [],
   "source": []
  },
  {
   "cell_type": "markdown",
   "metadata": {},
   "source": [
    "### Reaction Time (RT)"
   ]
  },
  {
   "cell_type": "code",
   "execution_count": 18,
   "metadata": {},
   "outputs": [
    {
     "name": "stdout",
     "output_type": "stream",
     "text": [
      "0.8987823399721637\n",
      "0.000438107177584692\n"
     ]
    }
   ],
   "source": [
    "stats, p = shapiro(dfStats.loc[dfStats['gender']=='weiblich', 'RT'])\n",
    "print(stats)\n",
    "print(p)"
   ]
  },
  {
   "cell_type": "code",
   "execution_count": 19,
   "metadata": {},
   "outputs": [
    {
     "name": "stdout",
     "output_type": "stream",
     "text": [
      "0.8725364031228169\n",
      "0.01302287545946309\n"
     ]
    }
   ],
   "source": [
    "stats, p = shapiro(dfStats.loc[dfStats['gender']=='männlich', 'RT'])\n",
    "print(stats)\n",
    "print(p)"
   ]
  },
  {
   "cell_type": "code",
   "execution_count": 20,
   "metadata": {},
   "outputs": [
    {
     "name": "stdout",
     "output_type": "stream",
     "text": [
      "2.2437369588252967\n",
      "0.1387843292195007\n"
     ]
    }
   ],
   "source": [
    "stats, p = levene(dfStats.loc[dfStats['gender']=='männlich', 'RT'], dfStats.loc[dfStats['gender']=='weiblich', 'RT'])\n",
    "print(stats)\n",
    "print(p)"
   ]
  },
  {
   "cell_type": "code",
   "execution_count": 24,
   "metadata": {},
   "outputs": [
    {
     "data": {
      "text/html": [
       "<div>\n",
       "<style scoped>\n",
       "    .dataframe tbody tr th:only-of-type {\n",
       "        vertical-align: middle;\n",
       "    }\n",
       "\n",
       "    .dataframe tbody tr th {\n",
       "        vertical-align: top;\n",
       "    }\n",
       "\n",
       "    .dataframe thead th {\n",
       "        text-align: right;\n",
       "    }\n",
       "</style>\n",
       "<table border=\"1\" class=\"dataframe\">\n",
       "  <thead>\n",
       "    <tr style=\"text-align: right;\">\n",
       "      <th></th>\n",
       "      <th>U-val</th>\n",
       "      <th>alternative</th>\n",
       "      <th>p-val</th>\n",
       "      <th>RBC</th>\n",
       "      <th>CLES</th>\n",
       "    </tr>\n",
       "  </thead>\n",
       "  <tbody>\n",
       "    <tr>\n",
       "      <th>MWU</th>\n",
       "      <td>723.0</td>\n",
       "      <td>two-sided</td>\n",
       "      <td>0.00382</td>\n",
       "      <td>-0.446</td>\n",
       "      <td>0.723</td>\n",
       "    </tr>\n",
       "  </tbody>\n",
       "</table>\n",
       "</div>"
      ],
      "text/plain": [
       "     U-val alternative    p-val    RBC   CLES\n",
       "MWU  723.0   two-sided  0.00382 -0.446  0.723"
      ]
     },
     "execution_count": 24,
     "metadata": {},
     "output_type": "execute_result"
    }
   ],
   "source": [
    "pg.mwu(x=dfStats.loc[dfStats['gender']=='weiblich', 'RT'].to_numpy(),\n",
    "         y=dfStats.loc[dfStats['gender']=='männlich', 'RT'].to_numpy())"
   ]
  },
  {
   "cell_type": "code",
   "execution_count": null,
   "metadata": {},
   "outputs": [],
   "source": []
  },
  {
   "cell_type": "markdown",
   "metadata": {},
   "source": [
    "### Time Outs"
   ]
  },
  {
   "cell_type": "code",
   "execution_count": 22,
   "metadata": {},
   "outputs": [
    {
     "name": "stdout",
     "output_type": "stream",
     "text": [
      "0.9408818100282254\n",
      "0.014601528865072532\n"
     ]
    }
   ],
   "source": [
    "stats, p = shapiro(dfStats.loc[dfStats['gender']=='weiblich', 'time_outs'])\n",
    "print(stats)\n",
    "print(p)"
   ]
  },
  {
   "cell_type": "code",
   "execution_count": 23,
   "metadata": {},
   "outputs": [
    {
     "name": "stdout",
     "output_type": "stream",
     "text": [
      "0.9161057514679756\n",
      "0.08339821828287507\n"
     ]
    }
   ],
   "source": [
    "stats, p = shapiro(dfStats.loc[dfStats['gender']=='männlich', 'time_outs'])\n",
    "print(stats)\n",
    "print(p)"
   ]
  },
  {
   "cell_type": "code",
   "execution_count": 21,
   "metadata": {},
   "outputs": [
    {
     "name": "stdout",
     "output_type": "stream",
     "text": [
      "3.0026781631719905\n",
      "0.08766016530733838\n"
     ]
    }
   ],
   "source": [
    "stats, p = levene(dfStats.loc[dfStats['gender']=='männlich', 'time_outs'], dfStats.loc[dfStats['gender']=='weiblich', 'time_outs'])\n",
    "print(stats)\n",
    "print(p)"
   ]
  },
  {
   "cell_type": "code",
   "execution_count": 25,
   "metadata": {},
   "outputs": [
    {
     "data": {
      "text/html": [
       "<div>\n",
       "<style scoped>\n",
       "    .dataframe tbody tr th:only-of-type {\n",
       "        vertical-align: middle;\n",
       "    }\n",
       "\n",
       "    .dataframe tbody tr th {\n",
       "        vertical-align: top;\n",
       "    }\n",
       "\n",
       "    .dataframe thead th {\n",
       "        text-align: right;\n",
       "    }\n",
       "</style>\n",
       "<table border=\"1\" class=\"dataframe\">\n",
       "  <thead>\n",
       "    <tr style=\"text-align: right;\">\n",
       "      <th></th>\n",
       "      <th>U-val</th>\n",
       "      <th>alternative</th>\n",
       "      <th>p-val</th>\n",
       "      <th>RBC</th>\n",
       "      <th>CLES</th>\n",
       "    </tr>\n",
       "  </thead>\n",
       "  <tbody>\n",
       "    <tr>\n",
       "      <th>MWU</th>\n",
       "      <td>654.5</td>\n",
       "      <td>two-sided</td>\n",
       "      <td>0.043799</td>\n",
       "      <td>-0.309</td>\n",
       "      <td>0.6545</td>\n",
       "    </tr>\n",
       "  </tbody>\n",
       "</table>\n",
       "</div>"
      ],
      "text/plain": [
       "     U-val alternative     p-val    RBC    CLES\n",
       "MWU  654.5   two-sided  0.043799 -0.309  0.6545"
      ]
     },
     "execution_count": 25,
     "metadata": {},
     "output_type": "execute_result"
    }
   ],
   "source": [
    "pg.mwu(x=dfStats.loc[dfStats['gender']=='weiblich', 'time_outs'],\n",
    "         y=dfStats.loc[dfStats['gender']=='männlich', 'time_outs'])"
   ]
  },
  {
   "cell_type": "code",
   "execution_count": null,
   "metadata": {},
   "outputs": [],
   "source": []
  },
  {
   "cell_type": "code",
   "execution_count": 56,
   "metadata": {},
   "outputs": [
    {
     "name": "stdout",
     "output_type": "stream",
     "text": [
      "Last updated: Tue Dec 10 2024\n",
      "\n",
      "Python implementation: CPython\n",
      "Python version       : 3.11.0\n",
      "IPython version      : 8.20.0\n",
      "\n",
      "matplotlib: 3.8.4\n",
      "numpy     : 1.25.2\n",
      "sys       : 3.11.0 | packaged by conda-forge | (main, Jan 15 2023, 05:44:48) [Clang 14.0.6 ]\n",
      "pandas    : 2.2.1\n",
      "seaborn   : 0.12.2\n",
      "pingouin  : 0.5.4\n",
      "\n",
      "Watermark: 2.3.1\n",
      "\n"
     ]
    }
   ],
   "source": [
    "# print date of last changes and version numbers\n",
    "%load_ext watermark\n",
    "\n",
    "%watermark -n -u -v -iv -w"
   ]
  }
 ],
 "metadata": {
  "kernelspec": {
   "display_name": "pymc_env",
   "language": "python",
   "name": "python3"
  },
  "language_info": {
   "codemirror_mode": {
    "name": "ipython",
    "version": 3
   },
   "file_extension": ".py",
   "mimetype": "text/x-python",
   "name": "python",
   "nbconvert_exporter": "python",
   "pygments_lexer": "ipython3",
   "version": "3.11.0"
  }
 },
 "nbformat": 4,
 "nbformat_minor": 2
}
