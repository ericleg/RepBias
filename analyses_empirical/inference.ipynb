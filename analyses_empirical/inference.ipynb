{
 "cells": [
  {
   "cell_type": "code",
   "execution_count": 1,
   "metadata": {},
   "outputs": [],
   "source": [
    "import pandas as pd\n",
    "import pickle\n",
    "import sys"
   ]
  },
  {
   "cell_type": "code",
   "execution_count": 2,
   "metadata": {},
   "outputs": [],
   "source": [
    "# load own functions\n",
    "sys.path.append('../') # add path of parent directory to find the functions folder\n",
    "from functions import inference"
   ]
  },
  {
   "cell_type": "markdown",
   "metadata": {},
   "source": [
    "# Parameter Inference\n",
    "based on MCMC with PyMC"
   ]
  },
  {
   "cell_type": "markdown",
   "metadata": {},
   "source": [
    "### Preparation"
   ]
  },
  {
   "cell_type": "code",
   "execution_count": 3,
   "metadata": {},
   "outputs": [],
   "source": [
    "# load expected rewards of each sequence at each trial\n",
    "trialRewards = pd.read_csv('../data_task/trial_sequence_rewards.csv', header=None)\n",
    "\n",
    "# set sequence ID of DAS\n",
    "IdxDAS = 4\n",
    "\n",
    "# load data (data set including time out trials -> sequence_ID: NaN)\n",
    "dfData = pd.read_csv('../data_empirical/data_cleaned.csv')"
   ]
  },
  {
   "cell_type": "markdown",
   "metadata": {},
   "source": [
    "# EVPRM just non-DAS trials"
   ]
  },
  {
   "cell_type": "code",
   "execution_count": 4,
   "metadata": {},
   "outputs": [
    {
     "name": "stderr",
     "output_type": "stream",
     "text": [
      "Auto-assigning NUTS sampler...\n",
      "Initializing NUTS using jitter+adapt_diag...\n",
      "Multiprocess sampling (2 chains in 2 jobs)\n",
      "NUTS: [beta, R0, h]\n"
     ]
    },
    {
     "ename": "ValueError",
     "evalue": "Not enough samples to build a trace.",
     "output_type": "error",
     "traceback": [
      "\u001b[0;31m---------------------------------------------------------------------------\u001b[0m",
      "\u001b[0;31mValueError\u001b[0m                                Traceback (most recent call last)",
      "Cell \u001b[0;32mIn[4], line 2\u001b[0m\n\u001b[1;32m      1\u001b[0m \u001b[38;5;66;03m# run inference\u001b[39;00m\n\u001b[0;32m----> 2\u001b[0m iDataEVPRMnonDAS \u001b[38;5;241m=\u001b[39m inference\u001b[38;5;241m.\u001b[39minference_EVPRMnonDAS_group(dfData, trialRewards\u001b[38;5;241m.\u001b[39mto_numpy(), IdxDAS)\n\u001b[1;32m      4\u001b[0m \u001b[38;5;66;03m# save iData object\u001b[39;00m\n\u001b[1;32m      5\u001b[0m fname \u001b[38;5;241m=\u001b[39m \u001b[38;5;124m'\u001b[39m\u001b[38;5;124m../inference_data/posterior_EVPRMnonDAS_empirical.pkl\u001b[39m\u001b[38;5;124m'\u001b[39m\n",
      "File \u001b[0;32m~/Nextcloud/Documents/Pacmantask/Paper/analyses/analyses_empirical/../functions/inference.py:237\u001b[0m, in \u001b[0;36minference_EVPRMnonDAS_group\u001b[0;34m(df, trialRewards, DASIdx)\u001b[0m\n\u001b[1;32m    234\u001b[0m     Y \u001b[38;5;241m=\u001b[39m pm\u001b[38;5;241m.\u001b[39mCategorical(\u001b[38;5;124m'\u001b[39m\u001b[38;5;124mY_nonDAS\u001b[39m\u001b[38;5;124m'\u001b[39m, p\u001b[38;5;241m=\u001b[39mp[mask], observed\u001b[38;5;241m=\u001b[39mYobsNonDAS)\n\u001b[1;32m    236\u001b[0m     \u001b[38;5;66;03m# sample posterior with MCMC (and save log likelihood for LOO calculation)\u001b[39;00m\n\u001b[0;32m--> 237\u001b[0m     iData \u001b[38;5;241m=\u001b[39m pm\u001b[38;5;241m.\u001b[39msample(idata_kwargs\u001b[38;5;241m=\u001b[39m{\u001b[38;5;124m'\u001b[39m\u001b[38;5;124mlog_likelihood\u001b[39m\u001b[38;5;124m'\u001b[39m:\u001b[38;5;28;01mTrue\u001b[39;00m}, progressbar\u001b[38;5;241m=\u001b[39m\u001b[38;5;28;01mFalse\u001b[39;00m)\n\u001b[1;32m    239\u001b[0m     pm\u001b[38;5;241m.\u001b[39msample_posterior_predictive(iData, extend_inferencedata\u001b[38;5;241m=\u001b[39m\u001b[38;5;28;01mTrue\u001b[39;00m, progressbar\u001b[38;5;241m=\u001b[39m\u001b[38;5;28;01mFalse\u001b[39;00m) \u001b[38;5;66;03m# add PPC\u001b[39;00m\n\u001b[1;32m    241\u001b[0m \u001b[38;5;28;01mreturn\u001b[39;00m iData\n",
      "File \u001b[0;32m~/miniconda3/envs/pymc_env/lib/python3.11/site-packages/pymc/sampling/mcmc.py:791\u001b[0m, in \u001b[0;36msample\u001b[0;34m(draws, tune, chains, cores, random_seed, progressbar, step, nuts_sampler, initvals, init, jitter_max_retries, n_init, trace, discard_tuned_samples, compute_convergence_checks, keep_warning_stat, return_inferencedata, idata_kwargs, nuts_sampler_kwargs, callback, mp_ctx, model, **kwargs)\u001b[0m\n\u001b[1;32m    787\u001b[0m t_sampling \u001b[38;5;241m=\u001b[39m time\u001b[38;5;241m.\u001b[39mtime() \u001b[38;5;241m-\u001b[39m t_start\n\u001b[1;32m    789\u001b[0m \u001b[38;5;66;03m# Packaging, validating and returning the result was extracted\u001b[39;00m\n\u001b[1;32m    790\u001b[0m \u001b[38;5;66;03m# into a function to make it easier to test and refactor.\u001b[39;00m\n\u001b[0;32m--> 791\u001b[0m \u001b[38;5;28;01mreturn\u001b[39;00m _sample_return(\n\u001b[1;32m    792\u001b[0m     run\u001b[38;5;241m=\u001b[39mrun,\n\u001b[1;32m    793\u001b[0m     traces\u001b[38;5;241m=\u001b[39mtraces,\n\u001b[1;32m    794\u001b[0m     tune\u001b[38;5;241m=\u001b[39mtune,\n\u001b[1;32m    795\u001b[0m     t_sampling\u001b[38;5;241m=\u001b[39mt_sampling,\n\u001b[1;32m    796\u001b[0m     discard_tuned_samples\u001b[38;5;241m=\u001b[39mdiscard_tuned_samples,\n\u001b[1;32m    797\u001b[0m     compute_convergence_checks\u001b[38;5;241m=\u001b[39mcompute_convergence_checks,\n\u001b[1;32m    798\u001b[0m     return_inferencedata\u001b[38;5;241m=\u001b[39mreturn_inferencedata,\n\u001b[1;32m    799\u001b[0m     keep_warning_stat\u001b[38;5;241m=\u001b[39mkeep_warning_stat,\n\u001b[1;32m    800\u001b[0m     idata_kwargs\u001b[38;5;241m=\u001b[39midata_kwargs \u001b[38;5;129;01mor\u001b[39;00m {},\n\u001b[1;32m    801\u001b[0m     model\u001b[38;5;241m=\u001b[39mmodel,\n\u001b[1;32m    802\u001b[0m )\n",
      "File \u001b[0;32m~/miniconda3/envs/pymc_env/lib/python3.11/site-packages/pymc/sampling/mcmc.py:822\u001b[0m, in \u001b[0;36m_sample_return\u001b[0;34m(run, traces, tune, t_sampling, discard_tuned_samples, compute_convergence_checks, return_inferencedata, keep_warning_stat, idata_kwargs, model)\u001b[0m\n\u001b[1;32m    820\u001b[0m \u001b[38;5;66;03m# Pick and slice chains to keep the maximum number of samples\u001b[39;00m\n\u001b[1;32m    821\u001b[0m \u001b[38;5;28;01mif\u001b[39;00m discard_tuned_samples:\n\u001b[0;32m--> 822\u001b[0m     traces, length \u001b[38;5;241m=\u001b[39m _choose_chains(traces, tune)\n\u001b[1;32m    823\u001b[0m \u001b[38;5;28;01melse\u001b[39;00m:\n\u001b[1;32m    824\u001b[0m     traces, length \u001b[38;5;241m=\u001b[39m _choose_chains(traces, \u001b[38;5;241m0\u001b[39m)\n",
      "File \u001b[0;32m~/miniconda3/envs/pymc_env/lib/python3.11/site-packages/pymc/backends/base.py:601\u001b[0m, in \u001b[0;36m_choose_chains\u001b[0;34m(traces, tune)\u001b[0m\n\u001b[1;32m    599\u001b[0m lengths \u001b[38;5;241m=\u001b[39m [\u001b[38;5;28mmax\u001b[39m(\u001b[38;5;241m0\u001b[39m, \u001b[38;5;28mlen\u001b[39m(trace) \u001b[38;5;241m-\u001b[39m tune) \u001b[38;5;28;01mfor\u001b[39;00m trace \u001b[38;5;129;01min\u001b[39;00m traces]\n\u001b[1;32m    600\u001b[0m \u001b[38;5;28;01mif\u001b[39;00m \u001b[38;5;129;01mnot\u001b[39;00m \u001b[38;5;28msum\u001b[39m(lengths):\n\u001b[0;32m--> 601\u001b[0m     \u001b[38;5;28;01mraise\u001b[39;00m \u001b[38;5;167;01mValueError\u001b[39;00m(\u001b[38;5;124m\"\u001b[39m\u001b[38;5;124mNot enough samples to build a trace.\u001b[39m\u001b[38;5;124m\"\u001b[39m)\n\u001b[1;32m    603\u001b[0m idxs \u001b[38;5;241m=\u001b[39m np\u001b[38;5;241m.\u001b[39margsort(lengths)\n\u001b[1;32m    604\u001b[0m l_sort \u001b[38;5;241m=\u001b[39m np\u001b[38;5;241m.\u001b[39marray(lengths)[idxs]\n",
      "\u001b[0;31mValueError\u001b[0m: Not enough samples to build a trace."
     ]
    }
   ],
   "source": [
    "# run inference\n",
    "iDataEVPRMnonDAS = inference.inference_EVPRMnonDAS_group(dfData, trialRewards.to_numpy(), IdxDAS)\n",
    "\n",
    "# save iData object\n",
    "fname = '../inference_data/posterior_EVPRMnonDAS_empirical.pkl'\n",
    "f = open(fname, 'wb')\n",
    "pickle.dump(iDataEVPRMnonDAS, f)\n",
    "f.close()"
   ]
  },
  {
   "cell_type": "markdown",
   "metadata": {},
   "source": [
    "## EVPRM"
   ]
  },
  {
   "cell_type": "code",
   "execution_count": null,
   "metadata": {},
   "outputs": [],
   "source": [
    "# run inference\n",
    "iDataEVPRM = inference.inference_EVPRM_group(dfData, trialRewards.to_numpy(), IdxDAS)\n",
    "\n",
    "# save iData object\n",
    "fname = '../inference_data/posterior_EVPRM_empirical.pkl'\n",
    "f = open(fname, 'wb')\n",
    "pickle.dump(iDataEVPRM, f)\n",
    "f.close()"
   ]
  },
  {
   "cell_type": "code",
   "execution_count": null,
   "metadata": {},
   "outputs": [],
   "source": []
  },
  {
   "cell_type": "code",
   "execution_count": null,
   "metadata": {},
   "outputs": [],
   "source": []
  },
  {
   "cell_type": "markdown",
   "metadata": {},
   "source": [
    "# EVPRM v2"
   ]
  },
  {
   "cell_type": "code",
   "execution_count": 8,
   "metadata": {},
   "outputs": [],
   "source": [
    "import importlib"
   ]
  },
  {
   "cell_type": "code",
   "execution_count": 5,
   "metadata": {},
   "outputs": [
    {
     "data": {
      "text/html": [
       "<div>\n",
       "<style scoped>\n",
       "    .dataframe tbody tr th:only-of-type {\n",
       "        vertical-align: middle;\n",
       "    }\n",
       "\n",
       "    .dataframe tbody tr th {\n",
       "        vertical-align: top;\n",
       "    }\n",
       "\n",
       "    .dataframe thead th {\n",
       "        text-align: right;\n",
       "    }\n",
       "</style>\n",
       "<table border=\"1\" class=\"dataframe\">\n",
       "  <thead>\n",
       "    <tr style=\"text-align: right;\">\n",
       "      <th></th>\n",
       "      <th>Participant_ID</th>\n",
       "      <th>trialN</th>\n",
       "      <th>blockN</th>\n",
       "      <th>moveCount</th>\n",
       "      <th>movesTrial</th>\n",
       "      <th>reward</th>\n",
       "      <th>RT</th>\n",
       "      <th>time_out</th>\n",
       "      <th>sequence_ID</th>\n",
       "    </tr>\n",
       "  </thead>\n",
       "  <tbody>\n",
       "    <tr>\n",
       "      <th>0</th>\n",
       "      <td>0</td>\n",
       "      <td>0.0</td>\n",
       "      <td>0.0</td>\n",
       "      <td>4.0</td>\n",
       "      <td>[0, 1, 1, 0]</td>\n",
       "      <td>100.0</td>\n",
       "      <td>2261.711</td>\n",
       "      <td>0</td>\n",
       "      <td>4.0</td>\n",
       "    </tr>\n",
       "    <tr>\n",
       "      <th>1</th>\n",
       "      <td>0</td>\n",
       "      <td>1.0</td>\n",
       "      <td>0.0</td>\n",
       "      <td>4.0</td>\n",
       "      <td>[0, 1, 1, 0]</td>\n",
       "      <td>100.0</td>\n",
       "      <td>2484.454</td>\n",
       "      <td>0</td>\n",
       "      <td>4.0</td>\n",
       "    </tr>\n",
       "    <tr>\n",
       "      <th>2</th>\n",
       "      <td>0</td>\n",
       "      <td>2.0</td>\n",
       "      <td>0.0</td>\n",
       "      <td>4.0</td>\n",
       "      <td>[0, 1, 1, 0]</td>\n",
       "      <td>96.0</td>\n",
       "      <td>1869.507</td>\n",
       "      <td>0</td>\n",
       "      <td>4.0</td>\n",
       "    </tr>\n",
       "    <tr>\n",
       "      <th>3</th>\n",
       "      <td>0</td>\n",
       "      <td>3.0</td>\n",
       "      <td>0.0</td>\n",
       "      <td>4.0</td>\n",
       "      <td>[0, 1, 1, 0]</td>\n",
       "      <td>98.0</td>\n",
       "      <td>1457.985</td>\n",
       "      <td>0</td>\n",
       "      <td>4.0</td>\n",
       "    </tr>\n",
       "    <tr>\n",
       "      <th>4</th>\n",
       "      <td>0</td>\n",
       "      <td>4.0</td>\n",
       "      <td>0.0</td>\n",
       "      <td>4.0</td>\n",
       "      <td>[0, 1, 1, 0]</td>\n",
       "      <td>106.0</td>\n",
       "      <td>1463.548</td>\n",
       "      <td>0</td>\n",
       "      <td>4.0</td>\n",
       "    </tr>\n",
       "    <tr>\n",
       "      <th>...</th>\n",
       "      <td>...</td>\n",
       "      <td>...</td>\n",
       "      <td>...</td>\n",
       "      <td>...</td>\n",
       "      <td>...</td>\n",
       "      <td>...</td>\n",
       "      <td>...</td>\n",
       "      <td>...</td>\n",
       "      <td>...</td>\n",
       "    </tr>\n",
       "    <tr>\n",
       "      <th>1595</th>\n",
       "      <td>4</td>\n",
       "      <td>15.0</td>\n",
       "      <td>15.0</td>\n",
       "      <td>4.0</td>\n",
       "      <td>[0, 1, 1, 0]</td>\n",
       "      <td>80.0</td>\n",
       "      <td>1444.720</td>\n",
       "      <td>0</td>\n",
       "      <td>4.0</td>\n",
       "    </tr>\n",
       "    <tr>\n",
       "      <th>1596</th>\n",
       "      <td>4</td>\n",
       "      <td>16.0</td>\n",
       "      <td>15.0</td>\n",
       "      <td>4.0</td>\n",
       "      <td>[0, 0, 1, 1]</td>\n",
       "      <td>90.0</td>\n",
       "      <td>568.160</td>\n",
       "      <td>0</td>\n",
       "      <td>0.0</td>\n",
       "    </tr>\n",
       "    <tr>\n",
       "      <th>1597</th>\n",
       "      <td>4</td>\n",
       "      <td>17.0</td>\n",
       "      <td>15.0</td>\n",
       "      <td>4.0</td>\n",
       "      <td>[0, 0, 1, 1]</td>\n",
       "      <td>94.0</td>\n",
       "      <td>701.140</td>\n",
       "      <td>0</td>\n",
       "      <td>0.0</td>\n",
       "    </tr>\n",
       "    <tr>\n",
       "      <th>1598</th>\n",
       "      <td>4</td>\n",
       "      <td>18.0</td>\n",
       "      <td>15.0</td>\n",
       "      <td>4.0</td>\n",
       "      <td>[0, 0, 1, 1]</td>\n",
       "      <td>94.0</td>\n",
       "      <td>786.680</td>\n",
       "      <td>0</td>\n",
       "      <td>0.0</td>\n",
       "    </tr>\n",
       "    <tr>\n",
       "      <th>1599</th>\n",
       "      <td>4</td>\n",
       "      <td>19.0</td>\n",
       "      <td>15.0</td>\n",
       "      <td>4.0</td>\n",
       "      <td>[0, 0, 1, 1]</td>\n",
       "      <td>92.0</td>\n",
       "      <td>837.980</td>\n",
       "      <td>0</td>\n",
       "      <td>0.0</td>\n",
       "    </tr>\n",
       "  </tbody>\n",
       "</table>\n",
       "<p>1600 rows × 9 columns</p>\n",
       "</div>"
      ],
      "text/plain": [
       "      Participant_ID  trialN  blockN  moveCount    movesTrial  reward  \\\n",
       "0                  0     0.0     0.0        4.0  [0, 1, 1, 0]   100.0   \n",
       "1                  0     1.0     0.0        4.0  [0, 1, 1, 0]   100.0   \n",
       "2                  0     2.0     0.0        4.0  [0, 1, 1, 0]    96.0   \n",
       "3                  0     3.0     0.0        4.0  [0, 1, 1, 0]    98.0   \n",
       "4                  0     4.0     0.0        4.0  [0, 1, 1, 0]   106.0   \n",
       "...              ...     ...     ...        ...           ...     ...   \n",
       "1595               4    15.0    15.0        4.0  [0, 1, 1, 0]    80.0   \n",
       "1596               4    16.0    15.0        4.0  [0, 0, 1, 1]    90.0   \n",
       "1597               4    17.0    15.0        4.0  [0, 0, 1, 1]    94.0   \n",
       "1598               4    18.0    15.0        4.0  [0, 0, 1, 1]    94.0   \n",
       "1599               4    19.0    15.0        4.0  [0, 0, 1, 1]    92.0   \n",
       "\n",
       "            RT  time_out  sequence_ID  \n",
       "0     2261.711         0          4.0  \n",
       "1     2484.454         0          4.0  \n",
       "2     1869.507         0          4.0  \n",
       "3     1457.985         0          4.0  \n",
       "4     1463.548         0          4.0  \n",
       "...        ...       ...          ...  \n",
       "1595  1444.720         0          4.0  \n",
       "1596   568.160         0          0.0  \n",
       "1597   701.140         0          0.0  \n",
       "1598   786.680         0          0.0  \n",
       "1599   837.980         0          0.0  \n",
       "\n",
       "[1600 rows x 9 columns]"
      ]
     },
     "execution_count": 5,
     "metadata": {},
     "output_type": "execute_result"
    }
   ],
   "source": [
    "dfData.loc[dfData['Participant_ID']<5]"
   ]
  },
  {
   "cell_type": "code",
   "execution_count": 11,
   "metadata": {},
   "outputs": [
    {
     "data": {
      "text/plain": [
       "<module 'functions.inference' from 'c:\\\\Users\\\\s3090986\\\\Nextcloud\\\\Documents\\\\Pacmantask\\\\Paper\\\\analyses\\\\analyses_empirical\\\\..\\\\functions\\\\inference.py'>"
      ]
     },
     "execution_count": 11,
     "metadata": {},
     "output_type": "execute_result"
    }
   ],
   "source": [
    "importlib.reload(inference)"
   ]
  },
  {
   "cell_type": "code",
   "execution_count": 4,
   "metadata": {},
   "outputs": [
    {
     "name": "stderr",
     "output_type": "stream",
     "text": [
      "c:\\Users\\s3090986\\AppData\\Local\\anaconda3\\envs\\pymc_env\\Lib\\site-packages\\pymc\\model\\core.py:1342: RuntimeWarning: invalid value encountered in cast\n",
      "  data = convert_observed_data(data).astype(rv_var.dtype)\n",
      "c:\\Users\\s3090986\\AppData\\Local\\anaconda3\\envs\\pymc_env\\Lib\\site-packages\\pymc\\model\\core.py:1365: ImputationWarning: Data in Y contains missing values and will be automatically imputed from the sampling distribution.\n",
      "  warnings.warn(impute_message, ImputationWarning)\n",
      "Multiprocess sampling (4 chains in 4 jobs)\n",
      "CompoundStep\n",
      ">NUTS: [beta, R0, h, h_DAS]\n",
      ">CategoricalGibbsMetropolis: [Y_unobserved]\n"
     ]
    },
    {
     "data": {
      "text/html": [
       "\n",
       "<style>\n",
       "    /* Turns off some styling */\n",
       "    progress {\n",
       "        /* gets rid of default border in Firefox and Opera. */\n",
       "        border: none;\n",
       "        /* Needs to be in here for Safari polyfill so background images work as expected. */\n",
       "        background-size: auto;\n",
       "    }\n",
       "    progress:not([value]), progress:not([value])::-webkit-progress-bar {\n",
       "        background: repeating-linear-gradient(45deg, #7e7e7e, #7e7e7e 10px, #5c5c5c 10px, #5c5c5c 20px);\n",
       "    }\n",
       "    .progress-bar-interrupted, .progress-bar-interrupted::-webkit-progress-bar {\n",
       "        background: #F44336;\n",
       "    }\n",
       "</style>\n"
      ],
      "text/plain": [
       "<IPython.core.display.HTML object>"
      ]
     },
     "metadata": {},
     "output_type": "display_data"
    },
    {
     "data": {
      "text/html": [
       "\n",
       "    <div>\n",
       "      <progress value='8000' class='' max='8000' style='width:300px; height:20px; vertical-align: middle;'></progress>\n",
       "      100.00% [8000/8000 12:51&lt;00:00 Sampling 4 chains, 0 divergences]\n",
       "    </div>\n",
       "    "
      ],
      "text/plain": [
       "<IPython.core.display.HTML object>"
      ]
     },
     "metadata": {},
     "output_type": "display_data"
    },
    {
     "name": "stderr",
     "output_type": "stream",
     "text": [
      "Sampling 4 chains for 1_000 tune and 1_000 draw iterations (4_000 + 4_000 draws total) took 785 seconds.\n",
      "The rhat statistic is larger than 1.01 for some parameters. This indicates problems during sampling. See https://arxiv.org/abs/1903.08008 for details\n",
      "The effective sample size per chain is smaller than 100 for some parameters.  A higher number is needed for reliable rhat and ess computation. See https://arxiv.org/abs/1903.08008 for details\n",
      "c:\\Users\\s3090986\\AppData\\Local\\anaconda3\\envs\\pymc_env\\Lib\\site-packages\\pymc\\pytensorf.py:1055: UserWarning: RNG Variable RandomGeneratorSharedVariable(<Generator(PCG64) at 0x17EA8EC0040>) has multiple clients. This is likely an inconsistent random graph.\n",
      "  warnings.warn(\n",
      "Sampling: [Y_observed]\n"
     ]
    },
    {
     "data": {
      "text/html": [
       "\n",
       "<style>\n",
       "    /* Turns off some styling */\n",
       "    progress {\n",
       "        /* gets rid of default border in Firefox and Opera. */\n",
       "        border: none;\n",
       "        /* Needs to be in here for Safari polyfill so background images work as expected. */\n",
       "        background-size: auto;\n",
       "    }\n",
       "    progress:not([value]), progress:not([value])::-webkit-progress-bar {\n",
       "        background: repeating-linear-gradient(45deg, #7e7e7e, #7e7e7e 10px, #5c5c5c 10px, #5c5c5c 20px);\n",
       "    }\n",
       "    .progress-bar-interrupted, .progress-bar-interrupted::-webkit-progress-bar {\n",
       "        background: #F44336;\n",
       "    }\n",
       "</style>\n"
      ],
      "text/plain": [
       "<IPython.core.display.HTML object>"
      ]
     },
     "metadata": {},
     "output_type": "display_data"
    },
    {
     "data": {
      "text/html": [
       "\n",
       "    <div>\n",
       "      <progress value='4000' class='' max='4000' style='width:300px; height:20px; vertical-align: middle;'></progress>\n",
       "      100.00% [4000/4000 00:26&lt;00:00]\n",
       "    </div>\n",
       "    "
      ],
      "text/plain": [
       "<IPython.core.display.HTML object>"
      ]
     },
     "metadata": {},
     "output_type": "display_data"
    },
    {
     "ename": "FileNotFoundError",
     "evalue": "[Errno 2] No such file or directory: '../inference_data/posterior_EVPRM_v2_empirical.pkl'",
     "output_type": "error",
     "traceback": [
      "\u001b[1;31m---------------------------------------------------------------------------\u001b[0m",
      "\u001b[1;31mFileNotFoundError\u001b[0m                         Traceback (most recent call last)",
      "Cell \u001b[1;32mIn[4], line 6\u001b[0m\n\u001b[0;32m      4\u001b[0m \u001b[38;5;66;03m# save iData object\u001b[39;00m\n\u001b[0;32m      5\u001b[0m fname \u001b[38;5;241m=\u001b[39m \u001b[38;5;124m'\u001b[39m\u001b[38;5;124m../inference_data/posterior_EVPRM_v2_empirical.pkl\u001b[39m\u001b[38;5;124m'\u001b[39m\n\u001b[1;32m----> 6\u001b[0m f \u001b[38;5;241m=\u001b[39m \u001b[38;5;28;43mopen\u001b[39;49m\u001b[43m(\u001b[49m\u001b[43mfname\u001b[49m\u001b[43m,\u001b[49m\u001b[43m \u001b[49m\u001b[38;5;124;43m'\u001b[39;49m\u001b[38;5;124;43mwb\u001b[39;49m\u001b[38;5;124;43m'\u001b[39;49m\u001b[43m)\u001b[49m\n\u001b[0;32m      7\u001b[0m pickle\u001b[38;5;241m.\u001b[39mdump(iDataEVPRM_v2, f)\n\u001b[0;32m      8\u001b[0m f\u001b[38;5;241m.\u001b[39mclose()\n",
      "File \u001b[1;32mc:\\Users\\s3090986\\AppData\\Local\\anaconda3\\envs\\pymc_env\\Lib\\site-packages\\IPython\\core\\interactiveshell.py:286\u001b[0m, in \u001b[0;36m_modified_open\u001b[1;34m(file, *args, **kwargs)\u001b[0m\n\u001b[0;32m    279\u001b[0m \u001b[38;5;28;01mif\u001b[39;00m file \u001b[38;5;129;01min\u001b[39;00m {\u001b[38;5;241m0\u001b[39m, \u001b[38;5;241m1\u001b[39m, \u001b[38;5;241m2\u001b[39m}:\n\u001b[0;32m    280\u001b[0m     \u001b[38;5;28;01mraise\u001b[39;00m \u001b[38;5;167;01mValueError\u001b[39;00m(\n\u001b[0;32m    281\u001b[0m         \u001b[38;5;124mf\u001b[39m\u001b[38;5;124m\"\u001b[39m\u001b[38;5;124mIPython won\u001b[39m\u001b[38;5;124m'\u001b[39m\u001b[38;5;124mt let you open fd=\u001b[39m\u001b[38;5;132;01m{\u001b[39;00mfile\u001b[38;5;132;01m}\u001b[39;00m\u001b[38;5;124m by default \u001b[39m\u001b[38;5;124m\"\u001b[39m\n\u001b[0;32m    282\u001b[0m         \u001b[38;5;124m\"\u001b[39m\u001b[38;5;124mas it is likely to crash IPython. If you know what you are doing, \u001b[39m\u001b[38;5;124m\"\u001b[39m\n\u001b[0;32m    283\u001b[0m         \u001b[38;5;124m\"\u001b[39m\u001b[38;5;124myou can use builtins\u001b[39m\u001b[38;5;124m'\u001b[39m\u001b[38;5;124m open.\u001b[39m\u001b[38;5;124m\"\u001b[39m\n\u001b[0;32m    284\u001b[0m     )\n\u001b[1;32m--> 286\u001b[0m \u001b[38;5;28;01mreturn\u001b[39;00m \u001b[43mio_open\u001b[49m\u001b[43m(\u001b[49m\u001b[43mfile\u001b[49m\u001b[43m,\u001b[49m\u001b[43m \u001b[49m\u001b[38;5;241;43m*\u001b[39;49m\u001b[43margs\u001b[49m\u001b[43m,\u001b[49m\u001b[43m \u001b[49m\u001b[38;5;241;43m*\u001b[39;49m\u001b[38;5;241;43m*\u001b[39;49m\u001b[43mkwargs\u001b[49m\u001b[43m)\u001b[49m\n",
      "\u001b[1;31mFileNotFoundError\u001b[0m: [Errno 2] No such file or directory: '../inference_data/posterior_EVPRM_v2_empirical.pkl'"
     ]
    }
   ],
   "source": [
    "# run inference\n",
    "iDataEVPRM_v2 = inference.inference_EVPRM_v2_group(dfData.loc[dfData['Participant_ID']<5], trialRewards.to_numpy(), IdxDAS)\n",
    "\n",
    "# save iData object\n",
    "fname = '../inference_data/posterior_EVPRM_v2_empirical.pkl'\n",
    "f = open(fname, 'wb')\n",
    "pickle.dump(iDataEVPRM_v2, f)\n",
    "f.close()"
   ]
  },
  {
   "cell_type": "code",
   "execution_count": 6,
   "metadata": {},
   "outputs": [],
   "source": [
    "import arviz as az"
   ]
  },
  {
   "cell_type": "code",
   "execution_count": 8,
   "metadata": {},
   "outputs": [
    {
     "data": {
      "text/html": [
       "<div>\n",
       "<style scoped>\n",
       "    .dataframe tbody tr th:only-of-type {\n",
       "        vertical-align: middle;\n",
       "    }\n",
       "\n",
       "    .dataframe tbody tr th {\n",
       "        vertical-align: top;\n",
       "    }\n",
       "\n",
       "    .dataframe thead th {\n",
       "        text-align: right;\n",
       "    }\n",
       "</style>\n",
       "<table border=\"1\" class=\"dataframe\">\n",
       "  <thead>\n",
       "    <tr style=\"text-align: right;\">\n",
       "      <th></th>\n",
       "      <th>mean</th>\n",
       "      <th>sd</th>\n",
       "      <th>hdi_3%</th>\n",
       "      <th>hdi_97%</th>\n",
       "      <th>mcse_mean</th>\n",
       "      <th>mcse_sd</th>\n",
       "      <th>ess_bulk</th>\n",
       "      <th>ess_tail</th>\n",
       "      <th>r_hat</th>\n",
       "    </tr>\n",
       "  </thead>\n",
       "  <tbody>\n",
       "    <tr>\n",
       "      <th>h[0]</th>\n",
       "      <td>0.034</td>\n",
       "      <td>0.014</td>\n",
       "      <td>0.010</td>\n",
       "      <td>0.058</td>\n",
       "      <td>0.000</td>\n",
       "      <td>0.000</td>\n",
       "      <td>3173.0</td>\n",
       "      <td>2710.0</td>\n",
       "      <td>1.0</td>\n",
       "    </tr>\n",
       "    <tr>\n",
       "      <th>h[1]</th>\n",
       "      <td>0.090</td>\n",
       "      <td>0.062</td>\n",
       "      <td>0.023</td>\n",
       "      <td>0.191</td>\n",
       "      <td>0.001</td>\n",
       "      <td>0.001</td>\n",
       "      <td>2679.0</td>\n",
       "      <td>2162.0</td>\n",
       "      <td>1.0</td>\n",
       "    </tr>\n",
       "    <tr>\n",
       "      <th>h[2]</th>\n",
       "      <td>0.911</td>\n",
       "      <td>0.049</td>\n",
       "      <td>0.824</td>\n",
       "      <td>0.993</td>\n",
       "      <td>0.001</td>\n",
       "      <td>0.000</td>\n",
       "      <td>4940.0</td>\n",
       "      <td>2523.0</td>\n",
       "      <td>1.0</td>\n",
       "    </tr>\n",
       "    <tr>\n",
       "      <th>h[3]</th>\n",
       "      <td>0.744</td>\n",
       "      <td>0.138</td>\n",
       "      <td>0.503</td>\n",
       "      <td>0.966</td>\n",
       "      <td>0.004</td>\n",
       "      <td>0.003</td>\n",
       "      <td>2164.0</td>\n",
       "      <td>1102.0</td>\n",
       "      <td>1.0</td>\n",
       "    </tr>\n",
       "    <tr>\n",
       "      <th>h[4]</th>\n",
       "      <td>0.024</td>\n",
       "      <td>0.009</td>\n",
       "      <td>0.010</td>\n",
       "      <td>0.040</td>\n",
       "      <td>0.000</td>\n",
       "      <td>0.000</td>\n",
       "      <td>3693.0</td>\n",
       "      <td>2700.0</td>\n",
       "      <td>1.0</td>\n",
       "    </tr>\n",
       "    <tr>\n",
       "      <th>h_DAS[0]</th>\n",
       "      <td>0.161</td>\n",
       "      <td>0.168</td>\n",
       "      <td>0.004</td>\n",
       "      <td>0.499</td>\n",
       "      <td>0.003</td>\n",
       "      <td>0.002</td>\n",
       "      <td>2912.0</td>\n",
       "      <td>2699.0</td>\n",
       "      <td>1.0</td>\n",
       "    </tr>\n",
       "    <tr>\n",
       "      <th>h_DAS[1]</th>\n",
       "      <td>0.407</td>\n",
       "      <td>0.206</td>\n",
       "      <td>0.035</td>\n",
       "      <td>0.754</td>\n",
       "      <td>0.003</td>\n",
       "      <td>0.002</td>\n",
       "      <td>5639.0</td>\n",
       "      <td>2549.0</td>\n",
       "      <td>1.0</td>\n",
       "    </tr>\n",
       "    <tr>\n",
       "      <th>h_DAS[2]</th>\n",
       "      <td>0.068</td>\n",
       "      <td>0.038</td>\n",
       "      <td>0.024</td>\n",
       "      <td>0.124</td>\n",
       "      <td>0.001</td>\n",
       "      <td>0.001</td>\n",
       "      <td>2340.0</td>\n",
       "      <td>1826.0</td>\n",
       "      <td>1.0</td>\n",
       "    </tr>\n",
       "    <tr>\n",
       "      <th>h_DAS[3]</th>\n",
       "      <td>0.122</td>\n",
       "      <td>0.121</td>\n",
       "      <td>0.005</td>\n",
       "      <td>0.354</td>\n",
       "      <td>0.002</td>\n",
       "      <td>0.002</td>\n",
       "      <td>2627.0</td>\n",
       "      <td>1874.0</td>\n",
       "      <td>1.0</td>\n",
       "    </tr>\n",
       "    <tr>\n",
       "      <th>h_DAS[4]</th>\n",
       "      <td>0.455</td>\n",
       "      <td>0.197</td>\n",
       "      <td>0.103</td>\n",
       "      <td>0.810</td>\n",
       "      <td>0.003</td>\n",
       "      <td>0.002</td>\n",
       "      <td>6177.0</td>\n",
       "      <td>3111.0</td>\n",
       "      <td>1.0</td>\n",
       "    </tr>\n",
       "    <tr>\n",
       "      <th>beta[0]</th>\n",
       "      <td>11.027</td>\n",
       "      <td>0.963</td>\n",
       "      <td>9.286</td>\n",
       "      <td>12.839</td>\n",
       "      <td>0.016</td>\n",
       "      <td>0.011</td>\n",
       "      <td>3558.0</td>\n",
       "      <td>2769.0</td>\n",
       "      <td>1.0</td>\n",
       "    </tr>\n",
       "    <tr>\n",
       "      <th>beta[1]</th>\n",
       "      <td>8.370</td>\n",
       "      <td>0.829</td>\n",
       "      <td>6.909</td>\n",
       "      <td>9.946</td>\n",
       "      <td>0.013</td>\n",
       "      <td>0.009</td>\n",
       "      <td>3759.0</td>\n",
       "      <td>2699.0</td>\n",
       "      <td>1.0</td>\n",
       "    </tr>\n",
       "    <tr>\n",
       "      <th>beta[2]</th>\n",
       "      <td>0.029</td>\n",
       "      <td>0.012</td>\n",
       "      <td>0.009</td>\n",
       "      <td>0.053</td>\n",
       "      <td>0.000</td>\n",
       "      <td>0.000</td>\n",
       "      <td>5655.0</td>\n",
       "      <td>2837.0</td>\n",
       "      <td>1.0</td>\n",
       "    </tr>\n",
       "    <tr>\n",
       "      <th>beta[3]</th>\n",
       "      <td>1.698</td>\n",
       "      <td>0.330</td>\n",
       "      <td>1.081</td>\n",
       "      <td>2.300</td>\n",
       "      <td>0.008</td>\n",
       "      <td>0.006</td>\n",
       "      <td>2224.0</td>\n",
       "      <td>1507.0</td>\n",
       "      <td>1.0</td>\n",
       "    </tr>\n",
       "    <tr>\n",
       "      <th>beta[4]</th>\n",
       "      <td>11.861</td>\n",
       "      <td>1.030</td>\n",
       "      <td>10.010</td>\n",
       "      <td>13.895</td>\n",
       "      <td>0.016</td>\n",
       "      <td>0.012</td>\n",
       "      <td>3927.0</td>\n",
       "      <td>2573.0</td>\n",
       "      <td>1.0</td>\n",
       "    </tr>\n",
       "    <tr>\n",
       "      <th>R0[0]</th>\n",
       "      <td>61.421</td>\n",
       "      <td>2.322</td>\n",
       "      <td>56.920</td>\n",
       "      <td>65.598</td>\n",
       "      <td>0.042</td>\n",
       "      <td>0.029</td>\n",
       "      <td>3136.0</td>\n",
       "      <td>2740.0</td>\n",
       "      <td>1.0</td>\n",
       "    </tr>\n",
       "    <tr>\n",
       "      <th>R0[1]</th>\n",
       "      <td>51.637</td>\n",
       "      <td>3.722</td>\n",
       "      <td>44.435</td>\n",
       "      <td>58.308</td>\n",
       "      <td>0.077</td>\n",
       "      <td>0.055</td>\n",
       "      <td>2340.0</td>\n",
       "      <td>2311.0</td>\n",
       "      <td>1.0</td>\n",
       "    </tr>\n",
       "    <tr>\n",
       "      <th>R0[2]</th>\n",
       "      <td>70.133</td>\n",
       "      <td>9.712</td>\n",
       "      <td>52.774</td>\n",
       "      <td>88.533</td>\n",
       "      <td>0.112</td>\n",
       "      <td>0.081</td>\n",
       "      <td>7328.0</td>\n",
       "      <td>3175.0</td>\n",
       "      <td>1.0</td>\n",
       "    </tr>\n",
       "    <tr>\n",
       "      <th>R0[3]</th>\n",
       "      <td>40.384</td>\n",
       "      <td>4.835</td>\n",
       "      <td>31.410</td>\n",
       "      <td>49.411</td>\n",
       "      <td>0.102</td>\n",
       "      <td>0.072</td>\n",
       "      <td>2775.0</td>\n",
       "      <td>1234.0</td>\n",
       "      <td>1.0</td>\n",
       "    </tr>\n",
       "    <tr>\n",
       "      <th>R0[4]</th>\n",
       "      <td>52.030</td>\n",
       "      <td>2.391</td>\n",
       "      <td>47.534</td>\n",
       "      <td>56.498</td>\n",
       "      <td>0.041</td>\n",
       "      <td>0.029</td>\n",
       "      <td>3387.0</td>\n",
       "      <td>2874.0</td>\n",
       "      <td>1.0</td>\n",
       "    </tr>\n",
       "  </tbody>\n",
       "</table>\n",
       "</div>"
      ],
      "text/plain": [
       "            mean     sd  hdi_3%  hdi_97%  mcse_mean  mcse_sd  ess_bulk  \\\n",
       "h[0]       0.034  0.014   0.010    0.058      0.000    0.000    3173.0   \n",
       "h[1]       0.090  0.062   0.023    0.191      0.001    0.001    2679.0   \n",
       "h[2]       0.911  0.049   0.824    0.993      0.001    0.000    4940.0   \n",
       "h[3]       0.744  0.138   0.503    0.966      0.004    0.003    2164.0   \n",
       "h[4]       0.024  0.009   0.010    0.040      0.000    0.000    3693.0   \n",
       "h_DAS[0]   0.161  0.168   0.004    0.499      0.003    0.002    2912.0   \n",
       "h_DAS[1]   0.407  0.206   0.035    0.754      0.003    0.002    5639.0   \n",
       "h_DAS[2]   0.068  0.038   0.024    0.124      0.001    0.001    2340.0   \n",
       "h_DAS[3]   0.122  0.121   0.005    0.354      0.002    0.002    2627.0   \n",
       "h_DAS[4]   0.455  0.197   0.103    0.810      0.003    0.002    6177.0   \n",
       "beta[0]   11.027  0.963   9.286   12.839      0.016    0.011    3558.0   \n",
       "beta[1]    8.370  0.829   6.909    9.946      0.013    0.009    3759.0   \n",
       "beta[2]    0.029  0.012   0.009    0.053      0.000    0.000    5655.0   \n",
       "beta[3]    1.698  0.330   1.081    2.300      0.008    0.006    2224.0   \n",
       "beta[4]   11.861  1.030  10.010   13.895      0.016    0.012    3927.0   \n",
       "R0[0]     61.421  2.322  56.920   65.598      0.042    0.029    3136.0   \n",
       "R0[1]     51.637  3.722  44.435   58.308      0.077    0.055    2340.0   \n",
       "R0[2]     70.133  9.712  52.774   88.533      0.112    0.081    7328.0   \n",
       "R0[3]     40.384  4.835  31.410   49.411      0.102    0.072    2775.0   \n",
       "R0[4]     52.030  2.391  47.534   56.498      0.041    0.029    3387.0   \n",
       "\n",
       "          ess_tail  r_hat  \n",
       "h[0]        2710.0    1.0  \n",
       "h[1]        2162.0    1.0  \n",
       "h[2]        2523.0    1.0  \n",
       "h[3]        1102.0    1.0  \n",
       "h[4]        2700.0    1.0  \n",
       "h_DAS[0]    2699.0    1.0  \n",
       "h_DAS[1]    2549.0    1.0  \n",
       "h_DAS[2]    1826.0    1.0  \n",
       "h_DAS[3]    1874.0    1.0  \n",
       "h_DAS[4]    3111.0    1.0  \n",
       "beta[0]     2769.0    1.0  \n",
       "beta[1]     2699.0    1.0  \n",
       "beta[2]     2837.0    1.0  \n",
       "beta[3]     1507.0    1.0  \n",
       "beta[4]     2573.0    1.0  \n",
       "R0[0]       2740.0    1.0  \n",
       "R0[1]       2311.0    1.0  \n",
       "R0[2]       3175.0    1.0  \n",
       "R0[3]       1234.0    1.0  \n",
       "R0[4]       2874.0    1.0  "
      ]
     },
     "execution_count": 8,
     "metadata": {},
     "output_type": "execute_result"
    }
   ],
   "source": [
    "az.summary(iDataEVPRM_v2, var_names=['h', 'h_DAS', 'beta', 'R0'])"
   ]
  },
  {
   "cell_type": "code",
   "execution_count": null,
   "metadata": {},
   "outputs": [],
   "source": []
  },
  {
   "cell_type": "code",
   "execution_count": null,
   "metadata": {},
   "outputs": [],
   "source": []
  },
  {
   "cell_type": "markdown",
   "metadata": {},
   "source": [
    "## EVPBM"
   ]
  },
  {
   "cell_type": "code",
   "execution_count": null,
   "metadata": {},
   "outputs": [],
   "source": [
    "# run inference\n",
    "iDataEVPBM = inference.inference_EVPBM_group(dfData, trialRewards.to_numpy(), IdxDAS)\n",
    "\n",
    "# save iData object\n",
    "fname = '../inference_data/posterior_EVPBM_empirical.pkl'\n",
    "f = open(fname, 'wb')\n",
    "pickle.dump(iDataEVPBM, f)\n",
    "f.close()"
   ]
  },
  {
   "cell_type": "code",
   "execution_count": null,
   "metadata": {},
   "outputs": [],
   "source": []
  },
  {
   "cell_type": "markdown",
   "metadata": {},
   "source": [
    "## EVPM"
   ]
  },
  {
   "cell_type": "code",
   "execution_count": null,
   "metadata": {},
   "outputs": [],
   "source": [
    "# run inference\n",
    "iDataEVPM = inference.inference_EVPM_group(dfData, trialRewards.to_numpy(), IdxDAS)\n",
    "\n",
    "# save iData object\n",
    "fname = '../inference_data/posterior_EVPM_empirical.pkl'\n",
    "f = open(fname, 'wb')\n",
    "pickle.dump(iDataEVPM, f)\n",
    "f.close()"
   ]
  },
  {
   "cell_type": "code",
   "execution_count": null,
   "metadata": {},
   "outputs": [],
   "source": []
  },
  {
   "cell_type": "markdown",
   "metadata": {},
   "source": [
    "## EVM"
   ]
  },
  {
   "cell_type": "code",
   "execution_count": null,
   "metadata": {},
   "outputs": [],
   "source": [
    "# run inference\n",
    "iDataEVM = inference.inference_EVM_group(dfData, trialRewards.to_numpy())\n",
    "\n",
    "# save iData object\n",
    "fname = '../inference_data/posterior_EVM_empirical.pkl'\n",
    "f = open(fname, 'wb')\n",
    "pickle.dump(iDataEVM, f)\n",
    "f.close()"
   ]
  },
  {
   "cell_type": "code",
   "execution_count": null,
   "metadata": {},
   "outputs": [],
   "source": []
  },
  {
   "cell_type": "code",
   "execution_count": 5,
   "metadata": {},
   "outputs": [
    {
     "name": "stdout",
     "output_type": "stream",
     "text": [
      "The watermark extension is already loaded. To reload it, use:\n",
      "  %reload_ext watermark\n",
      "Last updated: Thu Feb 08 2024\n",
      "\n",
      "Python implementation: CPython\n",
      "Python version       : 3.11.6\n",
      "IPython version      : 8.16.1\n",
      "\n",
      "pandas: 2.1.1\n",
      "sys   : 3.11.6 | packaged by conda-forge | (main, Oct  3 2023, 10:29:11) [MSC v.1935 64 bit (AMD64)]\n",
      "numpy : 1.25.2\n",
      "\n",
      "Watermark: 2.4.3\n",
      "\n"
     ]
    }
   ],
   "source": [
    "# print date of last changes and version numbers\n",
    "%load_ext watermark\n",
    "\n",
    "%watermark -n -u -v -iv -w"
   ]
  },
  {
   "cell_type": "code",
   "execution_count": null,
   "metadata": {},
   "outputs": [],
   "source": []
  }
 ],
 "metadata": {
  "kernelspec": {
   "display_name": "pymc_env",
   "language": "python",
   "name": "python3"
  },
  "language_info": {
   "codemirror_mode": {
    "name": "ipython",
    "version": 3
   },
   "file_extension": ".py",
   "mimetype": "text/x-python",
   "name": "python",
   "nbconvert_exporter": "python",
   "pygments_lexer": "ipython3",
   "version": "3.11.0"
  }
 },
 "nbformat": 4,
 "nbformat_minor": 2
}
