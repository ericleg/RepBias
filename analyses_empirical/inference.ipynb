{
 "cells": [
  {
   "cell_type": "code",
   "execution_count": 1,
   "metadata": {},
   "outputs": [],
   "source": [
    "import pandas as pd\n",
    "import pickle\n",
    "import sys"
   ]
  },
  {
   "cell_type": "code",
   "execution_count": null,
   "metadata": {},
   "outputs": [],
   "source": [
    "# load own functions\n",
    "sys.path.append('../') # add path of parent directory to find the functions folder\n",
    "from functions import inference"
   ]
  },
  {
   "cell_type": "markdown",
   "metadata": {},
   "source": [
    "# Parameter Inference\n",
    "based on MCMC with PyMC"
   ]
  },
  {
   "cell_type": "markdown",
   "metadata": {},
   "source": [
    "### Preparation"
   ]
  },
  {
   "cell_type": "code",
   "execution_count": 3,
   "metadata": {},
   "outputs": [],
   "source": [
    "# load expected rewards of each sequence at each trial\n",
    "trialRewards = pd.read_csv('../data_task/trial_sequence_rewards.csv', header=None)\n",
    "\n",
    "# set sequence ID of DAS\n",
    "IdxDAS = 4\n",
    "\n",
    "# load data (data set including time out trials -> sequence_ID: NaN)\n",
    "dfData = pd.read_csv('../data_empirical/data_cleaned.csv')"
   ]
  },
  {
   "cell_type": "markdown",
   "metadata": {},
   "source": [
    "## EVPRM"
   ]
  },
  {
   "cell_type": "code",
   "execution_count": null,
   "metadata": {},
   "outputs": [],
   "source": [
    "# run inference\n",
    "iDataEVPRM = inference.inference_EVPRM_group(dfData, trialRewards.to_numpy(), IdxDAS)\n",
    "\n",
    "# save iData object\n",
    "fname = '../inference_data/posterior_EVPRM_empirical.pkl'\n",
    "f = open(fname, 'wb')\n",
    "pickle.dump(iDataEVPRM, f)\n",
    "f.close()"
   ]
  },
  {
   "cell_type": "code",
   "execution_count": null,
   "metadata": {},
   "outputs": [],
   "source": []
  },
  {
   "cell_type": "markdown",
   "metadata": {},
   "source": [
    "## EVPBM"
   ]
  },
  {
   "cell_type": "code",
   "execution_count": null,
   "metadata": {},
   "outputs": [],
   "source": [
    "# run inference\n",
    "iDataEVPBM = inference.inference_EVPBM_group(dfData, trialRewards.to_numpy(), IdxDAS)\n",
    "\n",
    "# save iData object\n",
    "fname = '../inference_data/posterior_EVPBM_empirical.pkl'\n",
    "f = open(fname, 'wb')\n",
    "pickle.dump(iDataEVPBM, f)\n",
    "f.close()"
   ]
  },
  {
   "cell_type": "code",
   "execution_count": null,
   "metadata": {},
   "outputs": [],
   "source": []
  },
  {
   "cell_type": "markdown",
   "metadata": {},
   "source": [
    "## EVPM"
   ]
  },
  {
   "cell_type": "code",
   "execution_count": null,
   "metadata": {},
   "outputs": [],
   "source": [
    "# run inference\n",
    "iDataEVPM = inference.inference_EVPM_group(dfData, trialRewards.to_numpy(), IdxDAS)\n",
    "\n",
    "# save iData object\n",
    "fname = '../inference_data/posterior_EVPM_empirical.pkl'\n",
    "f = open(fname, 'wb')\n",
    "pickle.dump(iDataEVPM, f)\n",
    "f.close()"
   ]
  },
  {
   "cell_type": "code",
   "execution_count": null,
   "metadata": {},
   "outputs": [],
   "source": []
  },
  {
   "cell_type": "markdown",
   "metadata": {},
   "source": [
    "## EVM"
   ]
  },
  {
   "cell_type": "code",
   "execution_count": null,
   "metadata": {},
   "outputs": [],
   "source": [
    "# run inference\n",
    "iDataEVM = inference.inference_EVM_group(dfData, trialRewards.to_numpy())\n",
    "\n",
    "# save iData object\n",
    "fname = '../inference_data/posterior_EVM_empirical.pkl'\n",
    "f = open(fname, 'wb')\n",
    "pickle.dump(iDataEVM, f)\n",
    "f.close()"
   ]
  },
  {
   "cell_type": "code",
   "execution_count": null,
   "metadata": {},
   "outputs": [],
   "source": []
  },
  {
   "cell_type": "code",
   "execution_count": 5,
   "metadata": {},
   "outputs": [
    {
     "name": "stdout",
     "output_type": "stream",
     "text": [
      "The watermark extension is already loaded. To reload it, use:\n",
      "  %reload_ext watermark\n",
      "Last updated: Thu Feb 08 2024\n",
      "\n",
      "Python implementation: CPython\n",
      "Python version       : 3.11.6\n",
      "IPython version      : 8.16.1\n",
      "\n",
      "pandas: 2.1.1\n",
      "sys   : 3.11.6 | packaged by conda-forge | (main, Oct  3 2023, 10:29:11) [MSC v.1935 64 bit (AMD64)]\n",
      "numpy : 1.25.2\n",
      "\n",
      "Watermark: 2.4.3\n",
      "\n"
     ]
    }
   ],
   "source": [
    "# print date of last changes and version numbers\n",
    "%load_ext watermark\n",
    "\n",
    "%watermark -n -u -v -iv -w"
   ]
  },
  {
   "cell_type": "code",
   "execution_count": null,
   "metadata": {},
   "outputs": [],
   "source": []
  }
 ],
 "metadata": {
  "kernelspec": {
   "display_name": "pymc_env",
   "language": "python",
   "name": "python3"
  },
  "language_info": {
   "codemirror_mode": {
    "name": "ipython",
    "version": 3
   },
   "file_extension": ".py",
   "mimetype": "text/x-python",
   "name": "python",
   "nbconvert_exporter": "python",
   "pygments_lexer": "ipython3",
   "version": "3.11.6"
  }
 },
 "nbformat": 4,
 "nbformat_minor": 2
}
