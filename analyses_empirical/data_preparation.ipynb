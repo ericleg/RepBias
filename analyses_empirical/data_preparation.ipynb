{
 "cells": [
  {
   "cell_type": "code",
   "execution_count": 20,
   "id": "constitutional-memphis",
   "metadata": {},
   "outputs": [],
   "source": [
    "import numpy as np\n",
    "import pandas as pd\n",
    "from os import listdir\n",
    "import pickle"
   ]
  },
  {
   "cell_type": "markdown",
   "metadata": {},
   "source": [
    "# Data preparation\n",
    "This notebook prepares the raw data for further statistical analyses. Participants with extreme behavior are excluded. "
   ]
  },
  {
   "cell_type": "markdown",
   "id": "amber-wagon",
   "metadata": {},
   "source": [
    "### load data sets"
   ]
  },
  {
   "cell_type": "code",
   "execution_count": 21,
   "id": "introductory-label",
   "metadata": {},
   "outputs": [
    {
     "name": "stdout",
     "output_type": "stream",
     "text": [
      "Number of participants: 74\n"
     ]
    }
   ],
   "source": [
    "# set path and load file names\n",
    "path = '../data_empirical_raw/'\n",
    "fileNames = listdir(path)\n",
    "fileNames = [file for file in fileNames if not file.startswith('meta_') ] # don't load the meta files\n",
    "print('Number of participants: {}'.format(len(fileNames)))"
   ]
  },
  {
   "cell_type": "markdown",
   "metadata": {},
   "source": [
    "## Extract the important information from the raw data files\n",
    "The resulting data includes: participant ID, block no., trial no., time out, used sequence of actions, reaction time, reward"
   ]
  },
  {
   "cell_type": "code",
   "execution_count": 22,
   "id": "becoming-approach",
   "metadata": {},
   "outputs": [],
   "source": [
    "# this functions loads and prepares data from one participant and returns a panda\n",
    "def prepare_data_participant(fname, path):\n",
    "    \n",
    "    # define columns to use of the raw file\n",
    "    cols = ['sender', 'sender_id', 'move', 'blockN', 'trialN', 'duration','reward', 'moveCount', 'movesTrial'] \n",
    "    # deleted: 'visitedFields', 'points', 'response', 'diff',\n",
    "    \n",
    "    # load data from current participant\n",
    "    df = pd.read_csv(path+fname, header=0, usecols=cols) # read data from csv\n",
    "    \n",
    "    # filter data for relevant rows\n",
    "    filterExperiment = df['sender_id'].str[0:4]=='0_12' # just experiment (not training as well)\n",
    "    filterMoves = df['sender']=='Move' # only moves\n",
    "    filterFeedback = df['sender']=='Feedback' # only feedback with difference and reward (incl bonus)\n",
    "    \n",
    "    # get df with just the feedback rows\n",
    "    dfTrials = df.loc[(filterExperiment) & (filterFeedback), 'trialN':'reward'].reset_index()\n",
    "\n",
    "    # get RT for the whole trial \n",
    "    dfRTs = df['duration'].loc[(filterExperiment) & (filterMoves)].groupby([df['blockN'], df['trialN']], sort=False).sum().rename('RT').reset_index()\n",
    " \n",
    "    dfTrials['RT'] = dfRTs['RT']\n",
    "    dfTrials['file_name'] = fname\n",
    "\n",
    "    # delete useless index column\n",
    "    del dfTrials['index']\n",
    "\n",
    "    return dfTrials "
   ]
  },
  {
   "cell_type": "code",
   "execution_count": 23,
   "id": "0919da46",
   "metadata": {},
   "outputs": [],
   "source": [
    "df = pd.DataFrame()\n",
    "\n",
    "# loop over all participants\n",
    "for idx, fileName in enumerate(fileNames):\n",
    "    dfParticipant = prepare_data_participant(fileName, path) # get prepared data\n",
    "    dfParticipant['Participant_ID'] = idx # add participant ID\n",
    "    df = pd.concat([df, dfParticipant], ignore_index=True) # concatenate to one big panda"
   ]
  },
  {
   "cell_type": "markdown",
   "metadata": {},
   "source": [
    "## Define time out trials and add action sequence IDs"
   ]
  },
  {
   "cell_type": "code",
   "execution_count": 24,
   "metadata": {},
   "outputs": [],
   "source": [
    "# add indicator column for time out trials (not all four moves completed)\n",
    "df['time_out'] = 0\n",
    "df.loc[df['moveCount']<4, 'time_out'] = 1"
   ]
  },
  {
   "cell_type": "code",
   "execution_count": 25,
   "metadata": {},
   "outputs": [],
   "source": [
    "# load file with the sequences (IDs)\n",
    "f = open('../data_task/sequences.pkl', 'rb')\n",
    "sequences = pickle.load(f)\n",
    "f.close()"
   ]
  },
  {
   "cell_type": "code",
   "execution_count": 26,
   "metadata": {},
   "outputs": [],
   "source": [
    "# convert the moves from string into integer (excl. time out trials)\n",
    "df.loc[df['time_out']==0, 'movesTrial'] = df.loc[df['time_out']==0, 'movesTrial'].apply(lambda x: [int(val) for val in x.split(',') ])"
   ]
  },
  {
   "cell_type": "code",
   "execution_count": 27,
   "metadata": {},
   "outputs": [],
   "source": [
    "# add the sequence IDs\n",
    "df['sequence_ID'] = np.nan\n",
    "df.loc[df['time_out']==0, 'sequence_ID'] = df.loc[df['time_out']==0, 'movesTrial'].apply(lambda row: np.where((sequences == row).all(axis=1))[0][0])"
   ]
  },
  {
   "cell_type": "code",
   "execution_count": null,
   "metadata": {},
   "outputs": [],
   "source": []
  },
  {
   "cell_type": "markdown",
   "metadata": {},
   "source": [
    "### Calculate DAS proportions to exclude participants with extreme high"
   ]
  },
  {
   "cell_type": "code",
   "execution_count": 28,
   "metadata": {},
   "outputs": [],
   "source": [
    "idxDAS = 4 # set the DAS index"
   ]
  },
  {
   "cell_type": "code",
   "execution_count": 29,
   "metadata": {},
   "outputs": [],
   "source": [
    "# extract the sequences of actions for all valid trials\n",
    "dfSequences = df.loc[df['time_out']==0, ['Participant_ID', 'sequence_ID']]\n",
    "\n",
    "# count how often each participant has used each sequence of\n",
    "dfSequences = dfSequences.groupby('Participant_ID').value_counts().rename('count_sequence').reset_index()"
   ]
  },
  {
   "cell_type": "code",
   "execution_count": 30,
   "metadata": {},
   "outputs": [],
   "source": [
    "# calculate the proportion of DAS choices\n",
    "nTrialsParticipants = dfSequences['count_sequence'].groupby(dfSequences['Participant_ID']).sum().to_numpy()\n",
    "nDASParticipants = dfSequences.loc[dfSequences['sequence_ID']==idxDAS, 'count_sequence'].to_numpy()\n",
    "pDASParticipants = nDASParticipants/nTrialsParticipants"
   ]
  },
  {
   "cell_type": "markdown",
   "metadata": {},
   "source": [
    "Find participants with $p(\\text{DAS})>90%$"
   ]
  },
  {
   "cell_type": "code",
   "execution_count": 31,
   "metadata": {},
   "outputs": [],
   "source": [
    "pDAS90 = np.where(pDASParticipants<.90)"
   ]
  },
  {
   "cell_type": "markdown",
   "metadata": {},
   "source": [
    "print $p(\\text{DAS})$ of the outliers"
   ]
  },
  {
   "cell_type": "code",
   "execution_count": 32,
   "metadata": {},
   "outputs": [
    {
     "data": {
      "text/plain": [
       "array([0.99, 1.  , 0.94, 0.91])"
      ]
     },
     "execution_count": 32,
     "metadata": {},
     "output_type": "execute_result"
    }
   ],
   "source": [
    "pDASParticipants[np.where(pDASParticipants>.90)].round(2)"
   ]
  },
  {
   "cell_type": "markdown",
   "metadata": {},
   "source": [
    "Exclude outliers from the panda"
   ]
  },
  {
   "cell_type": "code",
   "execution_count": 34,
   "metadata": {},
   "outputs": [],
   "source": [
    "df = df.loc[df['Participant_ID'].isin(pDAS90[0])]"
   ]
  },
  {
   "cell_type": "markdown",
   "metadata": {},
   "source": [
    "### create a new participant ID column without missing IDs"
   ]
  },
  {
   "cell_type": "code",
   "execution_count": 35,
   "metadata": {},
   "outputs": [],
   "source": [
    "# remove old ID columns and add new one\n",
    "nTrials = len(df['trialN'].unique())*len(df['blockN'].unique())\n",
    "newIDColumn = np.arange(len(df['Participant_ID'].unique())).repeat(nTrials)\n",
    "df.pop('Participant_ID')\n",
    "df.insert(0, 'Participant_ID', newIDColumn) # insert new ID column at first position"
   ]
  },
  {
   "cell_type": "markdown",
   "metadata": {},
   "source": [
    "### save the resulting panda for further analyses"
   ]
  },
  {
   "cell_type": "code",
   "execution_count": 36,
   "metadata": {},
   "outputs": [],
   "source": [
    "df.to_csv('../data_empirical/data_cleaned.csv', index=False)"
   ]
  },
  {
   "cell_type": "markdown",
   "id": "34893d04",
   "metadata": {},
   "source": [
    "### create df that stores the file names and corresponding IDs of main df"
   ]
  },
  {
   "cell_type": "code",
   "execution_count": 37,
   "id": "9fbf1209",
   "metadata": {},
   "outputs": [
    {
     "data": {
      "text/html": [
       "<div>\n",
       "<style scoped>\n",
       "    .dataframe tbody tr th:only-of-type {\n",
       "        vertical-align: middle;\n",
       "    }\n",
       "\n",
       "    .dataframe tbody tr th {\n",
       "        vertical-align: top;\n",
       "    }\n",
       "\n",
       "    .dataframe thead th {\n",
       "        text-align: right;\n",
       "    }\n",
       "</style>\n",
       "<table border=\"1\" class=\"dataframe\">\n",
       "  <thead>\n",
       "    <tr style=\"text-align: right;\">\n",
       "      <th></th>\n",
       "      <th>Participant_ID</th>\n",
       "      <th>file_name</th>\n",
       "    </tr>\n",
       "  </thead>\n",
       "  <tbody>\n",
       "    <tr>\n",
       "      <th>0</th>\n",
       "      <td>0</td>\n",
       "      <td>1635170782.csv</td>\n",
       "    </tr>\n",
       "    <tr>\n",
       "      <th>1</th>\n",
       "      <td>1</td>\n",
       "      <td>1635086955.csv</td>\n",
       "    </tr>\n",
       "    <tr>\n",
       "      <th>2</th>\n",
       "      <td>2</td>\n",
       "      <td>1635587894.csv</td>\n",
       "    </tr>\n",
       "    <tr>\n",
       "      <th>3</th>\n",
       "      <td>3</td>\n",
       "      <td>1635169562.csv</td>\n",
       "    </tr>\n",
       "    <tr>\n",
       "      <th>4</th>\n",
       "      <td>4</td>\n",
       "      <td>1635250159.csv</td>\n",
       "    </tr>\n",
       "    <tr>\n",
       "      <th>...</th>\n",
       "      <td>...</td>\n",
       "      <td>...</td>\n",
       "    </tr>\n",
       "    <tr>\n",
       "      <th>65</th>\n",
       "      <td>65</td>\n",
       "      <td>1635702814.csv</td>\n",
       "    </tr>\n",
       "    <tr>\n",
       "      <th>66</th>\n",
       "      <td>66</td>\n",
       "      <td>1635431069.csv</td>\n",
       "    </tr>\n",
       "    <tr>\n",
       "      <th>67</th>\n",
       "      <td>67</td>\n",
       "      <td>1635254246.csv</td>\n",
       "    </tr>\n",
       "    <tr>\n",
       "      <th>68</th>\n",
       "      <td>68</td>\n",
       "      <td>1635198780.csv</td>\n",
       "    </tr>\n",
       "    <tr>\n",
       "      <th>69</th>\n",
       "      <td>69</td>\n",
       "      <td>1634936702.csv</td>\n",
       "    </tr>\n",
       "  </tbody>\n",
       "</table>\n",
       "<p>70 rows × 2 columns</p>\n",
       "</div>"
      ],
      "text/plain": [
       "    Participant_ID       file_name\n",
       "0                0  1635170782.csv\n",
       "1                1  1635086955.csv\n",
       "2                2  1635587894.csv\n",
       "3                3  1635169562.csv\n",
       "4                4  1635250159.csv\n",
       "..             ...             ...\n",
       "65              65  1635702814.csv\n",
       "66              66  1635431069.csv\n",
       "67              67  1635254246.csv\n",
       "68              68  1635198780.csv\n",
       "69              69  1634936702.csv\n",
       "\n",
       "[70 rows x 2 columns]"
      ]
     },
     "execution_count": 37,
     "metadata": {},
     "output_type": "execute_result"
    }
   ],
   "source": [
    "dfIDs = df[['Participant_ID', 'file_name']].groupby('file_name').nth(1).reset_index()\n",
    "dfIDs.pop('index')\n",
    "dfIDs"
   ]
  },
  {
   "cell_type": "code",
   "execution_count": 38,
   "id": "b64a2a8d",
   "metadata": {},
   "outputs": [],
   "source": [
    "dfIDs.to_csv('../data_empirical/data_ID_filename.csv', index=False)"
   ]
  },
  {
   "cell_type": "markdown",
   "id": "de96bb71",
   "metadata": {},
   "source": [
    "### create df with demographics"
   ]
  },
  {
   "cell_type": "code",
   "execution_count": 39,
   "id": "grateful-canyon",
   "metadata": {},
   "outputs": [],
   "source": [
    "# load file with demographic data\n",
    "dfDemographics = pd.read_csv('../data_empirical/demographic_data.csv', sep=',')"
   ]
  },
  {
   "cell_type": "code",
   "execution_count": 40,
   "id": "b5453e3a",
   "metadata": {},
   "outputs": [
    {
     "data": {
      "text/html": [
       "<div>\n",
       "<style scoped>\n",
       "    .dataframe tbody tr th:only-of-type {\n",
       "        vertical-align: middle;\n",
       "    }\n",
       "\n",
       "    .dataframe tbody tr th {\n",
       "        vertical-align: top;\n",
       "    }\n",
       "\n",
       "    .dataframe thead th {\n",
       "        text-align: right;\n",
       "    }\n",
       "</style>\n",
       "<table border=\"1\" class=\"dataframe\">\n",
       "  <thead>\n",
       "    <tr style=\"text-align: right;\">\n",
       "      <th></th>\n",
       "      <th>Record_ID</th>\n",
       "      <th>Age</th>\n",
       "      <th>Gender</th>\n",
       "      <th>file_name</th>\n",
       "    </tr>\n",
       "  </thead>\n",
       "  <tbody>\n",
       "    <tr>\n",
       "      <th>0</th>\n",
       "      <td>1</td>\n",
       "      <td>19</td>\n",
       "      <td>weiblich</td>\n",
       "      <td>1634746180.csv</td>\n",
       "    </tr>\n",
       "    <tr>\n",
       "      <th>1</th>\n",
       "      <td>3</td>\n",
       "      <td>35</td>\n",
       "      <td>weiblich</td>\n",
       "      <td>1634753718.csv</td>\n",
       "    </tr>\n",
       "    <tr>\n",
       "      <th>2</th>\n",
       "      <td>5</td>\n",
       "      <td>25</td>\n",
       "      <td>weiblich</td>\n",
       "      <td>1634893289.csv</td>\n",
       "    </tr>\n",
       "    <tr>\n",
       "      <th>3</th>\n",
       "      <td>6</td>\n",
       "      <td>24</td>\n",
       "      <td>weiblich</td>\n",
       "      <td>1635170782.csv</td>\n",
       "    </tr>\n",
       "    <tr>\n",
       "      <th>4</th>\n",
       "      <td>7</td>\n",
       "      <td>27</td>\n",
       "      <td>weiblich</td>\n",
       "      <td>1634933833.csv</td>\n",
       "    </tr>\n",
       "    <tr>\n",
       "      <th>...</th>\n",
       "      <td>...</td>\n",
       "      <td>...</td>\n",
       "      <td>...</td>\n",
       "      <td>...</td>\n",
       "    </tr>\n",
       "    <tr>\n",
       "      <th>69</th>\n",
       "      <td>131</td>\n",
       "      <td>23</td>\n",
       "      <td>weiblich</td>\n",
       "      <td>1636031635.csv</td>\n",
       "    </tr>\n",
       "    <tr>\n",
       "      <th>70</th>\n",
       "      <td>133</td>\n",
       "      <td>18</td>\n",
       "      <td>männlich</td>\n",
       "      <td>1636044587.csv</td>\n",
       "    </tr>\n",
       "    <tr>\n",
       "      <th>71</th>\n",
       "      <td>134</td>\n",
       "      <td>26</td>\n",
       "      <td>männlich</td>\n",
       "      <td>1636070864.csv</td>\n",
       "    </tr>\n",
       "    <tr>\n",
       "      <th>72</th>\n",
       "      <td>136</td>\n",
       "      <td>31</td>\n",
       "      <td>weiblich</td>\n",
       "      <td>1636152235.csv</td>\n",
       "    </tr>\n",
       "    <tr>\n",
       "      <th>73</th>\n",
       "      <td>138</td>\n",
       "      <td>18</td>\n",
       "      <td>weiblich</td>\n",
       "      <td>1636322981.csv</td>\n",
       "    </tr>\n",
       "  </tbody>\n",
       "</table>\n",
       "<p>74 rows × 4 columns</p>\n",
       "</div>"
      ],
      "text/plain": [
       "    Record_ID  Age    Gender       file_name\n",
       "0           1   19  weiblich  1634746180.csv\n",
       "1           3   35  weiblich  1634753718.csv\n",
       "2           5   25  weiblich  1634893289.csv\n",
       "3           6   24  weiblich  1635170782.csv\n",
       "4           7   27  weiblich  1634933833.csv\n",
       "..        ...  ...       ...             ...\n",
       "69        131   23  weiblich  1636031635.csv\n",
       "70        133   18  männlich  1636044587.csv\n",
       "71        134   26  männlich  1636070864.csv\n",
       "72        136   31  weiblich  1636152235.csv\n",
       "73        138   18  weiblich  1636322981.csv\n",
       "\n",
       "[74 rows x 4 columns]"
      ]
     },
     "execution_count": 40,
     "metadata": {},
     "output_type": "execute_result"
    }
   ],
   "source": [
    "dfDemographics # Record_ID was created by RedCap"
   ]
  },
  {
   "cell_type": "code",
   "execution_count": 41,
   "id": "f320939c",
   "metadata": {},
   "outputs": [],
   "source": [
    "# delete outliers\n",
    "dfDemographics = dfDemographics.loc[dfDemographics['file_name'].isin(df['file_name'].unique())]\n",
    "\n",
    "# add IDs from main df\n",
    "dfDemographics = pd.merge(dfDemographics, dfIDs, on='file_name')"
   ]
  },
  {
   "cell_type": "code",
   "execution_count": 44,
   "id": "ada108aa",
   "metadata": {},
   "outputs": [],
   "source": [
    "# save\n",
    "dfDemographics.to_csv('../data_empirical/demographic_data_IDs.csv', index=False)"
   ]
  },
  {
   "cell_type": "markdown",
   "id": "5df1cd75",
   "metadata": {},
   "source": [
    "### Calculate Demographics Stats"
   ]
  },
  {
   "cell_type": "code",
   "execution_count": 45,
   "id": "8b0ae406",
   "metadata": {},
   "outputs": [
    {
     "data": {
      "text/plain": [
       "24.06"
      ]
     },
     "execution_count": 45,
     "metadata": {},
     "output_type": "execute_result"
    }
   ],
   "source": [
    "# calculate mean age and sd\n",
    "dfDemographics['Age'].mean().round(2)"
   ]
  },
  {
   "cell_type": "code",
   "execution_count": 46,
   "id": "4cc8901e",
   "metadata": {},
   "outputs": [
    {
     "data": {
      "text/plain": [
       "4.627848012378202"
      ]
     },
     "execution_count": 46,
     "metadata": {},
     "output_type": "execute_result"
    }
   ],
   "source": [
    "dfDemographics['Age'].std() #.round(2)"
   ]
  },
  {
   "cell_type": "code",
   "execution_count": 47,
   "id": "b0a2880e",
   "metadata": {},
   "outputs": [
    {
     "data": {
      "text/plain": [
       "Gender\n",
       "weiblich    50\n",
       "männlich    20\n",
       "Name: count, dtype: int64"
      ]
     },
     "execution_count": 47,
     "metadata": {},
     "output_type": "execute_result"
    }
   ],
   "source": [
    "dfDemographics['Gender'].value_counts()"
   ]
  },
  {
   "cell_type": "code",
   "execution_count": null,
   "id": "9f7a49f3",
   "metadata": {},
   "outputs": [],
   "source": []
  },
  {
   "cell_type": "markdown",
   "id": "add7f338",
   "metadata": {},
   "source": [
    "## Look at answers about strategy, and problems"
   ]
  },
  {
   "cell_type": "code",
   "execution_count": 28,
   "id": "a1a1a022",
   "metadata": {},
   "outputs": [],
   "source": [
    "# this functions loads and prepares data from one participant and returns a panda\n",
    "def prepare_data_participant_answers(fname, path):\n",
    "    \n",
    "    # define columns to use of the raw file\n",
    "    cols = ['sender', 'Strategie', 'Zweck', 'Probleme']\n",
    "\n",
    "    dfAnswers = pd.DataFrame()\n",
    "    \n",
    "    # load data from current participant\n",
    "    # check if participant filled out form\n",
    "    try:\n",
    "        df = pd.read_csv(path+fname, header=0, usecols=cols) # read data from csv\n",
    "    \n",
    "    except ValueError:\n",
    "        print(f'no data for {fname}')\n",
    "    \n",
    "    else:\n",
    "        # filter data for relevant rows\n",
    "        filterAnswers = df['sender']=='Form'\n",
    "       \n",
    "        # get df with just the feedback rows\n",
    "        dfAnswers = df.loc[filterAnswers].reset_index()\n",
    "\n",
    "        # delete useless index column\n",
    "        del dfAnswers['index']\n",
    "\n",
    "    finally:\n",
    "        return dfAnswers "
   ]
  },
  {
   "cell_type": "code",
   "execution_count": 29,
   "id": "dc01389e",
   "metadata": {},
   "outputs": [
    {
     "name": "stdout",
     "output_type": "stream",
     "text": [
      "no data for 1635351725.csv\n"
     ]
    }
   ],
   "source": [
    "dfAnswers = pd.DataFrame()\n",
    "\n",
    "# loop over all participants\n",
    "for idx, fileName in enumerate(fileNames):\n",
    "    dfParticipant = prepare_data_participant_answers(fileName, path) # get prepared data\n",
    "    dfParticipant['Participant_ID'] = idx # add participant ID\n",
    "    dfAnswers = pd.concat([dfAnswers, dfParticipant], ignore_index=True) # concatenate to one big panda"
   ]
  },
  {
   "cell_type": "code",
   "execution_count": 42,
   "id": "c210db66",
   "metadata": {},
   "outputs": [
    {
     "data": {
      "text/html": [
       "<div>\n",
       "<style scoped>\n",
       "    .dataframe tbody tr th:only-of-type {\n",
       "        vertical-align: middle;\n",
       "    }\n",
       "\n",
       "    .dataframe tbody tr th {\n",
       "        vertical-align: top;\n",
       "    }\n",
       "\n",
       "    .dataframe thead th {\n",
       "        text-align: right;\n",
       "    }\n",
       "</style>\n",
       "<table border=\"1\" class=\"dataframe\">\n",
       "  <thead>\n",
       "    <tr style=\"text-align: right;\">\n",
       "      <th></th>\n",
       "      <th>sender</th>\n",
       "      <th>Strategie</th>\n",
       "      <th>Zweck</th>\n",
       "      <th>Probleme</th>\n",
       "      <th>Participant_ID</th>\n",
       "    </tr>\n",
       "  </thead>\n",
       "  <tbody>\n",
       "    <tr>\n",
       "      <th>0</th>\n",
       "      <td>Form</td>\n",
       "      <td>Folgen der vorgegebenen Strecke bis zu gewisse...</td>\n",
       "      <td>Risikobereitschaft, Entscheidungsverlässlichke...</td>\n",
       "      <td>nein\\n</td>\n",
       "      <td>0</td>\n",
       "    </tr>\n",
       "    <tr>\n",
       "      <th>1</th>\n",
       "      <td>Form</td>\n",
       "      <td>Ab etwa 15 Punkten Abweichung habe ich eine an...</td>\n",
       "      <td>Möglicherweise soll untersucht werden, ab welc...</td>\n",
       "      <td>Ich habe eher intuitiv geklickt ohne genau zu ...</td>\n",
       "      <td>1</td>\n",
       "    </tr>\n",
       "    <tr>\n",
       "      <th>2</th>\n",
       "      <td>Form</td>\n",
       "      <td>NaN</td>\n",
       "      <td>NaN</td>\n",
       "      <td>NaN</td>\n",
       "      <td>2</td>\n",
       "    </tr>\n",
       "    <tr>\n",
       "      <th>3</th>\n",
       "      <td>Form</td>\n",
       "      <td>Wenn der vorgeschlagene Weg eine ähnliche Punk...</td>\n",
       "      <td>Test, ob man eigene Wege versucht?</td>\n",
       "      <td>Nein</td>\n",
       "      <td>3</td>\n",
       "    </tr>\n",
       "    <tr>\n",
       "      <th>4</th>\n",
       "      <td>Form</td>\n",
       "      <td>Im Zweifel die Route mit bekanntem Erwartungswert</td>\n",
       "      <td>NaN</td>\n",
       "      <td>zum Teil habe ich mich mit der Wertigkeit der ...</td>\n",
       "      <td>4</td>\n",
       "    </tr>\n",
       "    <tr>\n",
       "      <th>...</th>\n",
       "      <td>...</td>\n",
       "      <td>...</td>\n",
       "      <td>...</td>\n",
       "      <td>...</td>\n",
       "      <td>...</td>\n",
       "    </tr>\n",
       "    <tr>\n",
       "      <th>68</th>\n",
       "      <td>Form</td>\n",
       "      <td>Zuerst immer die Standardabfolge und währendde...</td>\n",
       "      <td>Nein.</td>\n",
       "      <td>Nein.</td>\n",
       "      <td>69</td>\n",
       "    </tr>\n",
       "    <tr>\n",
       "      <th>69</th>\n",
       "      <td>Form</td>\n",
       "      <td>Wenn der Zielwert einstellig war (positiv oder...</td>\n",
       "      <td>Dadurch, dass man gesagt bekommt und auch selb...</td>\n",
       "      <td>Ich hab mich manchmal schwer getan von dem Sta...</td>\n",
       "      <td>70</td>\n",
       "    </tr>\n",
       "    <tr>\n",
       "      <th>70</th>\n",
       "      <td>Form</td>\n",
       "      <td>Ich habe meistens die vorgegebene graue Strate...</td>\n",
       "      <td>Ich könnte mir vorstellen, dass erforscht werd...</td>\n",
       "      <td>Nein.</td>\n",
       "      <td>71</td>\n",
       "    </tr>\n",
       "    <tr>\n",
       "      <th>71</th>\n",
       "      <td>Form</td>\n",
       "      <td>Bei Zielen mit einer geringen Zahl immer das S...</td>\n",
       "      <td>nein</td>\n",
       "      <td>nein</td>\n",
       "      <td>72</td>\n",
       "    </tr>\n",
       "    <tr>\n",
       "      <th>72</th>\n",
       "      <td>Form</td>\n",
       "      <td>NaN</td>\n",
       "      <td>NaN</td>\n",
       "      <td>NaN</td>\n",
       "      <td>73</td>\n",
       "    </tr>\n",
       "  </tbody>\n",
       "</table>\n",
       "<p>73 rows × 5 columns</p>\n",
       "</div>"
      ],
      "text/plain": [
       "   sender                                          Strategie  \\\n",
       "0    Form  Folgen der vorgegebenen Strecke bis zu gewisse...   \n",
       "1    Form  Ab etwa 15 Punkten Abweichung habe ich eine an...   \n",
       "2    Form                                                NaN   \n",
       "3    Form  Wenn der vorgeschlagene Weg eine ähnliche Punk...   \n",
       "4    Form  Im Zweifel die Route mit bekanntem Erwartungswert   \n",
       "..    ...                                                ...   \n",
       "68   Form  Zuerst immer die Standardabfolge und währendde...   \n",
       "69   Form  Wenn der Zielwert einstellig war (positiv oder...   \n",
       "70   Form  Ich habe meistens die vorgegebene graue Strate...   \n",
       "71   Form  Bei Zielen mit einer geringen Zahl immer das S...   \n",
       "72   Form                                                NaN   \n",
       "\n",
       "                                                Zweck  \\\n",
       "0   Risikobereitschaft, Entscheidungsverlässlichke...   \n",
       "1   Möglicherweise soll untersucht werden, ab welc...   \n",
       "2                                                 NaN   \n",
       "3                  Test, ob man eigene Wege versucht?   \n",
       "4                                                 NaN   \n",
       "..                                                ...   \n",
       "68                                              Nein.   \n",
       "69  Dadurch, dass man gesagt bekommt und auch selb...   \n",
       "70  Ich könnte mir vorstellen, dass erforscht werd...   \n",
       "71                                               nein   \n",
       "72                                                NaN   \n",
       "\n",
       "                                             Probleme  Participant_ID  \n",
       "0                                              nein\\n               0  \n",
       "1   Ich habe eher intuitiv geklickt ohne genau zu ...               1  \n",
       "2                                                 NaN               2  \n",
       "3                                                Nein               3  \n",
       "4   zum Teil habe ich mich mit der Wertigkeit der ...               4  \n",
       "..                                                ...             ...  \n",
       "68                                              Nein.              69  \n",
       "69  Ich hab mich manchmal schwer getan von dem Sta...              70  \n",
       "70                                              Nein.              71  \n",
       "71                                               nein              72  \n",
       "72                                                NaN              73  \n",
       "\n",
       "[73 rows x 5 columns]"
      ]
     },
     "execution_count": 42,
     "metadata": {},
     "output_type": "execute_result"
    }
   ],
   "source": [
    "dfAnswers"
   ]
  },
  {
   "cell_type": "code",
   "execution_count": 48,
   "id": "41d5734f",
   "metadata": {},
   "outputs": [],
   "source": [
    "# save it as csv\n",
    "dfAnswers.to_csv('../data_empirical/data_free_answers.csv', sep=';', encoding='utf-8-sig')"
   ]
  },
  {
   "cell_type": "code",
   "execution_count": null,
   "id": "9093c06e",
   "metadata": {},
   "outputs": [],
   "source": []
  },
  {
   "cell_type": "code",
   "execution_count": 30,
   "id": "ceramic-geography",
   "metadata": {},
   "outputs": [
    {
     "name": "stdout",
     "output_type": "stream",
     "text": [
      "Last updated: Fri Jan 03 2025\n",
      "\n",
      "Python implementation: CPython\n",
      "Python version       : 3.11.0\n",
      "IPython version      : 8.20.0\n",
      "\n",
      "numpy : 1.25.2\n",
      "pandas: 2.2.1\n",
      "\n",
      "Watermark: 2.3.1\n",
      "\n"
     ]
    }
   ],
   "source": [
    "# print date of last changes and version numbers\n",
    "%load_ext watermark\n",
    "\n",
    "%watermark -n -u -v -iv -w"
   ]
  }
 ],
 "metadata": {
  "kernelspec": {
   "display_name": "pymc_env",
   "language": "python",
   "name": "python3"
  },
  "language_info": {
   "codemirror_mode": {
    "name": "ipython",
    "version": 3
   },
   "file_extension": ".py",
   "mimetype": "text/x-python",
   "name": "python",
   "nbconvert_exporter": "python",
   "pygments_lexer": "ipython3",
   "version": "3.11.0"
  }
 },
 "nbformat": 4,
 "nbformat_minor": 5
}
