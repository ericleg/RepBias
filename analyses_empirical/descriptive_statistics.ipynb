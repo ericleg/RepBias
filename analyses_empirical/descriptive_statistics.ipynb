{
 "cells": [
  {
   "cell_type": "code",
   "execution_count": 3,
   "metadata": {},
   "outputs": [],
   "source": [
    "import numpy as np\n",
    "import pandas as pd\n",
    "import seaborn as sns\n",
    "import matplotlib.pyplot as plt\n",
    "import matplotlib as mpl\n",
    "import pingouin as pg\n",
    "import sys\n",
    "import pickle"
   ]
  },
  {
   "cell_type": "code",
   "execution_count": 4,
   "metadata": {},
   "outputs": [],
   "source": [
    "# load file with plotting stlye definitions\n",
    "sys.path.append('../')\n",
    "plt.style.use('plotting_style.mpltstyle')\n",
    "sns.set_style('whitegrid')"
   ]
  },
  {
   "cell_type": "code",
   "execution_count": 1,
   "metadata": {},
   "outputs": [],
   "source": [
    "import warnings\n",
    "\n",
    "# Disable future warnings\n",
    "warnings.simplefilter(action='ignore', category=FutureWarning)"
   ]
  },
  {
   "cell_type": "markdown",
   "metadata": {},
   "source": [
    "# Behavioral Analyses\n",
    "This notebook contains all results and corresponding plots of the behavioral analyses based on frequentist summary statistics."
   ]
  },
  {
   "cell_type": "code",
   "execution_count": 5,
   "metadata": {
    "tags": []
   },
   "outputs": [],
   "source": [
    "# load the data of each trial (including moves, reward, RT, time out, ID of performed sequence of actions)\n",
    "df = pd.read_csv('../data_empirical/data_cleaned.csv', header=0)"
   ]
  },
  {
   "cell_type": "markdown",
   "metadata": {},
   "source": [
    "### <u>OPTIONAL:</u> just participants best fit by EVPRM"
   ]
  },
  {
   "cell_type": "code",
   "execution_count": 6,
   "metadata": {},
   "outputs": [],
   "source": [
    "# load df with best fit overview\n",
    "#f = open('../data_empirical/results_model_comparison.pkl', 'rb')\n",
    "#dfModelComparison = pickle.load(f)\n",
    "#f.close()\n",
    "\n",
    "# get indexes of participnats that are best fit by EVPRM\n",
    "#idxsEVPRM = dfModelComparison.loc[dfModelComparison['best_fit']=='EVPRM'].index\n",
    "\n",
    "# filter and select corresponding data\n",
    "#df = df.loc[np.isin(df['Participant_ID'], idxsEVPRM)]"
   ]
  },
  {
   "cell_type": "markdown",
   "metadata": {},
   "source": [
    "## 1 Create table with summary statistics\n",
    "Calculate means over all participants for proportion of DAS choices p(DAS), reward per trial, reaction time (RT), and number of time outs. Divided into: whole task, halves and segments. Differences are checked for significance with paired $t$-tests (halves) and repeated measures ANOVAs (segments) using the corresponding methods from the <i>pingouin</i> package.\n",
    "#### preparatory work"
   ]
  },
  {
   "cell_type": "code",
   "execution_count": 7,
   "metadata": {},
   "outputs": [],
   "source": [
    "# add DAS indicator column to df\n",
    "IdxDAS = 4 # set DAS index\n",
    "df['DAS'] = np.where(df['sequence_ID']==IdxDAS, 1, 0)\n",
    "\n",
    "# set RT and DAS of time out trials to NaN\n",
    "df.loc[df['time_out']==1, ['RT', 'DAS']] = np.NaN\n",
    "\n",
    "# add columns that code for the halfves and segments of the experiment\n",
    "df['half'] = pd.cut(df['blockN'], 2, labels=np.arange(2))\n",
    "df['segment'] = pd.cut(df['blockN'], 4, labels=np.arange(4))\n",
    "\n",
    "# select the measures\n",
    "measures = ['DAS', 'reward', 'RT', 'time_out']"
   ]
  },
  {
   "cell_type": "code",
   "execution_count": 8,
   "metadata": {},
   "outputs": [
    {
     "data": {
      "text/html": [
       "<div>\n",
       "<style scoped>\n",
       "    .dataframe tbody tr th:only-of-type {\n",
       "        vertical-align: middle;\n",
       "    }\n",
       "\n",
       "    .dataframe tbody tr th {\n",
       "        vertical-align: top;\n",
       "    }\n",
       "\n",
       "    .dataframe thead th {\n",
       "        text-align: right;\n",
       "    }\n",
       "</style>\n",
       "<table border=\"1\" class=\"dataframe\">\n",
       "  <thead>\n",
       "    <tr style=\"text-align: right;\">\n",
       "      <th></th>\n",
       "      <th>Participant_ID</th>\n",
       "      <th>trialN</th>\n",
       "      <th>blockN</th>\n",
       "      <th>moveCount</th>\n",
       "      <th>movesTrial</th>\n",
       "      <th>reward</th>\n",
       "      <th>RT</th>\n",
       "      <th>time_out</th>\n",
       "      <th>sequence_ID</th>\n",
       "      <th>DAS</th>\n",
       "      <th>half</th>\n",
       "      <th>segment</th>\n",
       "    </tr>\n",
       "  </thead>\n",
       "  <tbody>\n",
       "    <tr>\n",
       "      <th>0</th>\n",
       "      <td>0</td>\n",
       "      <td>0.0</td>\n",
       "      <td>0.0</td>\n",
       "      <td>4.0</td>\n",
       "      <td>[0, 1, 1, 0]</td>\n",
       "      <td>100.0</td>\n",
       "      <td>2261.711</td>\n",
       "      <td>0</td>\n",
       "      <td>4.0</td>\n",
       "      <td>1.0</td>\n",
       "      <td>0</td>\n",
       "      <td>0</td>\n",
       "    </tr>\n",
       "    <tr>\n",
       "      <th>1</th>\n",
       "      <td>0</td>\n",
       "      <td>1.0</td>\n",
       "      <td>0.0</td>\n",
       "      <td>4.0</td>\n",
       "      <td>[0, 1, 1, 0]</td>\n",
       "      <td>100.0</td>\n",
       "      <td>2484.454</td>\n",
       "      <td>0</td>\n",
       "      <td>4.0</td>\n",
       "      <td>1.0</td>\n",
       "      <td>0</td>\n",
       "      <td>0</td>\n",
       "    </tr>\n",
       "    <tr>\n",
       "      <th>2</th>\n",
       "      <td>0</td>\n",
       "      <td>2.0</td>\n",
       "      <td>0.0</td>\n",
       "      <td>4.0</td>\n",
       "      <td>[0, 1, 1, 0]</td>\n",
       "      <td>96.0</td>\n",
       "      <td>1869.507</td>\n",
       "      <td>0</td>\n",
       "      <td>4.0</td>\n",
       "      <td>1.0</td>\n",
       "      <td>0</td>\n",
       "      <td>0</td>\n",
       "    </tr>\n",
       "    <tr>\n",
       "      <th>3</th>\n",
       "      <td>0</td>\n",
       "      <td>3.0</td>\n",
       "      <td>0.0</td>\n",
       "      <td>4.0</td>\n",
       "      <td>[0, 1, 1, 0]</td>\n",
       "      <td>98.0</td>\n",
       "      <td>1457.985</td>\n",
       "      <td>0</td>\n",
       "      <td>4.0</td>\n",
       "      <td>1.0</td>\n",
       "      <td>0</td>\n",
       "      <td>0</td>\n",
       "    </tr>\n",
       "    <tr>\n",
       "      <th>4</th>\n",
       "      <td>0</td>\n",
       "      <td>4.0</td>\n",
       "      <td>0.0</td>\n",
       "      <td>4.0</td>\n",
       "      <td>[0, 1, 1, 0]</td>\n",
       "      <td>106.0</td>\n",
       "      <td>1463.548</td>\n",
       "      <td>0</td>\n",
       "      <td>4.0</td>\n",
       "      <td>1.0</td>\n",
       "      <td>0</td>\n",
       "      <td>0</td>\n",
       "    </tr>\n",
       "    <tr>\n",
       "      <th>...</th>\n",
       "      <td>...</td>\n",
       "      <td>...</td>\n",
       "      <td>...</td>\n",
       "      <td>...</td>\n",
       "      <td>...</td>\n",
       "      <td>...</td>\n",
       "      <td>...</td>\n",
       "      <td>...</td>\n",
       "      <td>...</td>\n",
       "      <td>...</td>\n",
       "      <td>...</td>\n",
       "      <td>...</td>\n",
       "    </tr>\n",
       "    <tr>\n",
       "      <th>22395</th>\n",
       "      <td>69</td>\n",
       "      <td>15.0</td>\n",
       "      <td>15.0</td>\n",
       "      <td>4.0</td>\n",
       "      <td>[1, 0, 1, 0]</td>\n",
       "      <td>78.0</td>\n",
       "      <td>3566.825</td>\n",
       "      <td>0</td>\n",
       "      <td>12.0</td>\n",
       "      <td>0.0</td>\n",
       "      <td>1</td>\n",
       "      <td>3</td>\n",
       "    </tr>\n",
       "    <tr>\n",
       "      <th>22396</th>\n",
       "      <td>69</td>\n",
       "      <td>16.0</td>\n",
       "      <td>15.0</td>\n",
       "      <td>4.0</td>\n",
       "      <td>[0, 1, 1, 0]</td>\n",
       "      <td>68.0</td>\n",
       "      <td>1087.322</td>\n",
       "      <td>0</td>\n",
       "      <td>4.0</td>\n",
       "      <td>1.0</td>\n",
       "      <td>1</td>\n",
       "      <td>3</td>\n",
       "    </tr>\n",
       "    <tr>\n",
       "      <th>22397</th>\n",
       "      <td>69</td>\n",
       "      <td>17.0</td>\n",
       "      <td>15.0</td>\n",
       "      <td>4.0</td>\n",
       "      <td>[1, 2, 1, 1]</td>\n",
       "      <td>84.0</td>\n",
       "      <td>4142.538</td>\n",
       "      <td>0</td>\n",
       "      <td>22.0</td>\n",
       "      <td>0.0</td>\n",
       "      <td>1</td>\n",
       "      <td>3</td>\n",
       "    </tr>\n",
       "    <tr>\n",
       "      <th>22398</th>\n",
       "      <td>69</td>\n",
       "      <td>18.0</td>\n",
       "      <td>15.0</td>\n",
       "      <td>4.0</td>\n",
       "      <td>[1, 2, 1, 1]</td>\n",
       "      <td>70.0</td>\n",
       "      <td>1655.326</td>\n",
       "      <td>0</td>\n",
       "      <td>22.0</td>\n",
       "      <td>0.0</td>\n",
       "      <td>1</td>\n",
       "      <td>3</td>\n",
       "    </tr>\n",
       "    <tr>\n",
       "      <th>22399</th>\n",
       "      <td>69</td>\n",
       "      <td>19.0</td>\n",
       "      <td>15.0</td>\n",
       "      <td>4.0</td>\n",
       "      <td>[1, 2, 1, 1]</td>\n",
       "      <td>84.0</td>\n",
       "      <td>3324.426</td>\n",
       "      <td>0</td>\n",
       "      <td>22.0</td>\n",
       "      <td>0.0</td>\n",
       "      <td>1</td>\n",
       "      <td>3</td>\n",
       "    </tr>\n",
       "  </tbody>\n",
       "</table>\n",
       "<p>22400 rows × 12 columns</p>\n",
       "</div>"
      ],
      "text/plain": [
       "       Participant_ID  trialN  blockN  moveCount    movesTrial  reward  \\\n",
       "0                   0     0.0     0.0        4.0  [0, 1, 1, 0]   100.0   \n",
       "1                   0     1.0     0.0        4.0  [0, 1, 1, 0]   100.0   \n",
       "2                   0     2.0     0.0        4.0  [0, 1, 1, 0]    96.0   \n",
       "3                   0     3.0     0.0        4.0  [0, 1, 1, 0]    98.0   \n",
       "4                   0     4.0     0.0        4.0  [0, 1, 1, 0]   106.0   \n",
       "...               ...     ...     ...        ...           ...     ...   \n",
       "22395              69    15.0    15.0        4.0  [1, 0, 1, 0]    78.0   \n",
       "22396              69    16.0    15.0        4.0  [0, 1, 1, 0]    68.0   \n",
       "22397              69    17.0    15.0        4.0  [1, 2, 1, 1]    84.0   \n",
       "22398              69    18.0    15.0        4.0  [1, 2, 1, 1]    70.0   \n",
       "22399              69    19.0    15.0        4.0  [1, 2, 1, 1]    84.0   \n",
       "\n",
       "             RT  time_out  sequence_ID  DAS half segment  \n",
       "0      2261.711         0          4.0  1.0    0       0  \n",
       "1      2484.454         0          4.0  1.0    0       0  \n",
       "2      1869.507         0          4.0  1.0    0       0  \n",
       "3      1457.985         0          4.0  1.0    0       0  \n",
       "4      1463.548         0          4.0  1.0    0       0  \n",
       "...         ...       ...          ...  ...  ...     ...  \n",
       "22395  3566.825         0         12.0  0.0    1       3  \n",
       "22396  1087.322         0          4.0  1.0    1       3  \n",
       "22397  4142.538         0         22.0  0.0    1       3  \n",
       "22398  1655.326         0         22.0  0.0    1       3  \n",
       "22399  3324.426         0         22.0  0.0    1       3  \n",
       "\n",
       "[22400 rows x 12 columns]"
      ]
     },
     "execution_count": 8,
     "metadata": {},
     "output_type": "execute_result"
    }
   ],
   "source": [
    "df"
   ]
  },
  {
   "cell_type": "markdown",
   "metadata": {},
   "source": [
    "### create table for statistics over the complete task"
   ]
  },
  {
   "cell_type": "code",
   "execution_count": 9,
   "metadata": {},
   "outputs": [
    {
     "data": {
      "text/html": [
       "<div>\n",
       "<style scoped>\n",
       "    .dataframe tbody tr th:only-of-type {\n",
       "        vertical-align: middle;\n",
       "    }\n",
       "\n",
       "    .dataframe tbody tr th {\n",
       "        vertical-align: top;\n",
       "    }\n",
       "\n",
       "    .dataframe thead th {\n",
       "        text-align: right;\n",
       "    }\n",
       "</style>\n",
       "<table border=\"1\" class=\"dataframe\">\n",
       "  <thead>\n",
       "    <tr style=\"text-align: right;\">\n",
       "      <th></th>\n",
       "      <th>DAS</th>\n",
       "      <th>reward</th>\n",
       "      <th>RT</th>\n",
       "      <th>time_out</th>\n",
       "    </tr>\n",
       "  </thead>\n",
       "  <tbody>\n",
       "    <tr>\n",
       "      <th>mean</th>\n",
       "      <td>0.54</td>\n",
       "      <td>80.69</td>\n",
       "      <td>1677.09</td>\n",
       "      <td>0.01</td>\n",
       "    </tr>\n",
       "    <tr>\n",
       "      <th>std</th>\n",
       "      <td>0.19</td>\n",
       "      <td>5.99</td>\n",
       "      <td>398.72</td>\n",
       "      <td>0.01</td>\n",
       "    </tr>\n",
       "  </tbody>\n",
       "</table>\n",
       "</div>"
      ],
      "text/plain": [
       "       DAS  reward       RT  time_out\n",
       "mean  0.54   80.69  1677.09      0.01\n",
       "std   0.19    5.99   398.72      0.01"
      ]
     },
     "execution_count": 9,
     "metadata": {},
     "output_type": "execute_result"
    }
   ],
   "source": [
    "df[measures].groupby(df['Participant_ID']).mean().agg(['mean', 'std']).round(2)"
   ]
  },
  {
   "cell_type": "code",
   "execution_count": 10,
   "metadata": {},
   "outputs": [
    {
     "data": {
      "text/plain": [
       "mean    4.74\n",
       "std     3.70\n",
       "Name: time_out, dtype: float64"
      ]
     },
     "execution_count": 10,
     "metadata": {},
     "output_type": "execute_result"
    }
   ],
   "source": [
    "df['time_out'].groupby(df['Participant_ID']).sum().agg(['mean', 'std']).round(2)"
   ]
  },
  {
   "cell_type": "code",
   "execution_count": 11,
   "metadata": {},
   "outputs": [
    {
     "data": {
      "text/html": [
       "<div>\n",
       "<style scoped>\n",
       "    .dataframe tbody tr th:only-of-type {\n",
       "        vertical-align: middle;\n",
       "    }\n",
       "\n",
       "    .dataframe tbody tr th {\n",
       "        vertical-align: top;\n",
       "    }\n",
       "\n",
       "    .dataframe thead th {\n",
       "        text-align: right;\n",
       "    }\n",
       "</style>\n",
       "<table border=\"1\" class=\"dataframe\">\n",
       "  <thead>\n",
       "    <tr style=\"text-align: right;\">\n",
       "      <th></th>\n",
       "      <th>DAS</th>\n",
       "      <th>reward</th>\n",
       "      <th>RT</th>\n",
       "      <th>time_out</th>\n",
       "    </tr>\n",
       "  </thead>\n",
       "  <tbody>\n",
       "    <tr>\n",
       "      <th>DAS</th>\n",
       "      <td>-</td>\n",
       "      <td>0.000</td>\n",
       "      <td>0.000</td>\n",
       "      <td>0.002</td>\n",
       "    </tr>\n",
       "    <tr>\n",
       "      <th>reward</th>\n",
       "      <td>0.66</td>\n",
       "      <td>-</td>\n",
       "      <td>0.000</td>\n",
       "      <td>0.000</td>\n",
       "    </tr>\n",
       "    <tr>\n",
       "      <th>RT</th>\n",
       "      <td>-0.567</td>\n",
       "      <td>-0.687</td>\n",
       "      <td>-</td>\n",
       "      <td>0.000</td>\n",
       "    </tr>\n",
       "    <tr>\n",
       "      <th>time_out</th>\n",
       "      <td>-0.37</td>\n",
       "      <td>-0.519</td>\n",
       "      <td>0.577</td>\n",
       "      <td>-</td>\n",
       "    </tr>\n",
       "  </tbody>\n",
       "</table>\n",
       "</div>"
      ],
      "text/plain": [
       "             DAS  reward     RT time_out\n",
       "DAS            -   0.000  0.000    0.002\n",
       "reward      0.66       -  0.000    0.000\n",
       "RT        -0.567  -0.687      -    0.000\n",
       "time_out   -0.37  -0.519  0.577        -"
      ]
     },
     "execution_count": 11,
     "metadata": {},
     "output_type": "execute_result"
    }
   ],
   "source": [
    "# correlations (p-values on the upper triangle)\n",
    "pg.rcorr(df[measures].groupby(df['Participant_ID']).mean(), stars=False)"
   ]
  },
  {
   "cell_type": "markdown",
   "metadata": {},
   "source": [
    "### create table for statistics depending on the half of the experiment"
   ]
  },
  {
   "cell_type": "code",
   "execution_count": 12,
   "metadata": {},
   "outputs": [
    {
     "data": {
      "text/html": [
       "<div>\n",
       "<style scoped>\n",
       "    .dataframe tbody tr th:only-of-type {\n",
       "        vertical-align: middle;\n",
       "    }\n",
       "\n",
       "    .dataframe tbody tr th {\n",
       "        vertical-align: top;\n",
       "    }\n",
       "\n",
       "    .dataframe thead tr th {\n",
       "        text-align: left;\n",
       "    }\n",
       "\n",
       "    .dataframe thead tr:last-of-type th {\n",
       "        text-align: right;\n",
       "    }\n",
       "</style>\n",
       "<table border=\"1\" class=\"dataframe\">\n",
       "  <thead>\n",
       "    <tr>\n",
       "      <th></th>\n",
       "      <th colspan=\"2\" halign=\"left\">DAS</th>\n",
       "      <th colspan=\"2\" halign=\"left\">reward</th>\n",
       "      <th colspan=\"2\" halign=\"left\">RT</th>\n",
       "      <th colspan=\"2\" halign=\"left\">time_out</th>\n",
       "    </tr>\n",
       "    <tr>\n",
       "      <th></th>\n",
       "      <th>mean</th>\n",
       "      <th>std</th>\n",
       "      <th>mean</th>\n",
       "      <th>std</th>\n",
       "      <th>mean</th>\n",
       "      <th>std</th>\n",
       "      <th>mean</th>\n",
       "      <th>std</th>\n",
       "    </tr>\n",
       "    <tr>\n",
       "      <th>half</th>\n",
       "      <th></th>\n",
       "      <th></th>\n",
       "      <th></th>\n",
       "      <th></th>\n",
       "      <th></th>\n",
       "      <th></th>\n",
       "      <th></th>\n",
       "      <th></th>\n",
       "    </tr>\n",
       "  </thead>\n",
       "  <tbody>\n",
       "    <tr>\n",
       "      <th>0</th>\n",
       "      <td>0.533</td>\n",
       "      <td>0.197</td>\n",
       "      <td>79.579</td>\n",
       "      <td>6.664</td>\n",
       "      <td>1820.837</td>\n",
       "      <td>450.336</td>\n",
       "      <td>0.019</td>\n",
       "      <td>0.016</td>\n",
       "    </tr>\n",
       "    <tr>\n",
       "      <th>1</th>\n",
       "      <td>0.552</td>\n",
       "      <td>0.188</td>\n",
       "      <td>81.799</td>\n",
       "      <td>5.959</td>\n",
       "      <td>1535.595</td>\n",
       "      <td>390.854</td>\n",
       "      <td>0.010</td>\n",
       "      <td>0.012</td>\n",
       "    </tr>\n",
       "  </tbody>\n",
       "</table>\n",
       "</div>"
      ],
      "text/plain": [
       "        DAS         reward               RT          time_out       \n",
       "       mean    std    mean    std      mean      std     mean    std\n",
       "half                                                                \n",
       "0     0.533  0.197  79.579  6.664  1820.837  450.336    0.019  0.016\n",
       "1     0.552  0.188  81.799  5.959  1535.595  390.854    0.010  0.012"
      ]
     },
     "execution_count": 12,
     "metadata": {},
     "output_type": "execute_result"
    }
   ],
   "source": [
    "df[measures].groupby([df['Participant_ID'], df['half']]).mean().groupby('half').agg(['mean', 'std']).round(3)"
   ]
  },
  {
   "cell_type": "code",
   "execution_count": 13,
   "metadata": {},
   "outputs": [
    {
     "data": {
      "text/html": [
       "<div>\n",
       "<style scoped>\n",
       "    .dataframe tbody tr th:only-of-type {\n",
       "        vertical-align: middle;\n",
       "    }\n",
       "\n",
       "    .dataframe tbody tr th {\n",
       "        vertical-align: top;\n",
       "    }\n",
       "\n",
       "    .dataframe thead th {\n",
       "        text-align: right;\n",
       "    }\n",
       "</style>\n",
       "<table border=\"1\" class=\"dataframe\">\n",
       "  <thead>\n",
       "    <tr style=\"text-align: right;\">\n",
       "      <th></th>\n",
       "      <th>mean</th>\n",
       "      <th>std</th>\n",
       "    </tr>\n",
       "    <tr>\n",
       "      <th>half</th>\n",
       "      <th></th>\n",
       "      <th></th>\n",
       "    </tr>\n",
       "  </thead>\n",
       "  <tbody>\n",
       "    <tr>\n",
       "      <th>0</th>\n",
       "      <td>3.11</td>\n",
       "      <td>2.56</td>\n",
       "    </tr>\n",
       "    <tr>\n",
       "      <th>1</th>\n",
       "      <td>1.63</td>\n",
       "      <td>1.88</td>\n",
       "    </tr>\n",
       "  </tbody>\n",
       "</table>\n",
       "</div>"
      ],
      "text/plain": [
       "      mean   std\n",
       "half            \n",
       "0     3.11  2.56\n",
       "1     1.63  1.88"
      ]
     },
     "execution_count": 13,
     "metadata": {},
     "output_type": "execute_result"
    }
   ],
   "source": [
    "df['time_out'].groupby([df['Participant_ID'], df['half']]).sum().groupby('half').agg(['mean', 'std']).round(2)"
   ]
  },
  {
   "cell_type": "markdown",
   "metadata": {},
   "source": [
    "#### perform paired $t$-tests\n",
    "<u>Alternatives:</u>\n",
    "- p(DAS): less $\\to$ due to the repetition bias p(DAS) should increase throughout the experiment\n",
    "- reward: less $\\to$ due to learning effect participants should improve in performance\n",
    "- RT: greater $\\to$ due to repetition bias and learning participants should respond faster\n",
    "- time outs: greater $\\to$ due to learning participants should produce less time outs"
   ]
  },
  {
   "cell_type": "code",
   "execution_count": 14,
   "metadata": {},
   "outputs": [],
   "source": [
    "# perform paired t-test\n",
    "def calculate_paired_ttest(df, measure, groupby, alternative):\n",
    "    df = df[measure].groupby([df['Participant_ID'], df[groupby]]).mean().reset_index()\n",
    "\n",
    "    result = pg.ttest(x=df.loc[df[groupby]==0, measure],\n",
    "                    y=df.loc[df[groupby]==1, measure], \n",
    "                    paired=True, \n",
    "                    alternative=alternative)\n",
    "    \n",
    "    return result\n",
    "\n",
    "# loop through the measures\n",
    "def print_ttest_results(df, measures, groupby, alternatives):\n",
    "\n",
    "    results = {} # preallocation\n",
    "\n",
    "    for i in range(len(alternatives)):\n",
    "        \n",
    "        result = calculate_paired_ttest(df, measures[i], groupby, alternatives[i])\n",
    "        results[i] = result\n",
    "\n",
    "        #print(f'{measures[i]} (alternative: {alternatives[i]})')\n",
    "        #pg.print_table(result)\n",
    "    \n",
    "    return results"
   ]
  },
  {
   "cell_type": "code",
   "execution_count": 15,
   "metadata": {},
   "outputs": [
    {
     "data": {
      "text/html": [
       "<div>\n",
       "<style scoped>\n",
       "    .dataframe tbody tr th:only-of-type {\n",
       "        vertical-align: middle;\n",
       "    }\n",
       "\n",
       "    .dataframe tbody tr th {\n",
       "        vertical-align: top;\n",
       "    }\n",
       "\n",
       "    .dataframe thead th {\n",
       "        text-align: right;\n",
       "    }\n",
       "</style>\n",
       "<table border=\"1\" class=\"dataframe\">\n",
       "  <thead>\n",
       "    <tr style=\"text-align: right;\">\n",
       "      <th></th>\n",
       "      <th>measure</th>\n",
       "      <th>dof</th>\n",
       "      <th>T</th>\n",
       "      <th>p-val</th>\n",
       "      <th>cohen-d</th>\n",
       "      <th>alternative</th>\n",
       "    </tr>\n",
       "  </thead>\n",
       "  <tbody>\n",
       "    <tr>\n",
       "      <th>0</th>\n",
       "      <td>DAS</td>\n",
       "      <td>69</td>\n",
       "      <td>-1.617</td>\n",
       "      <td>0.055</td>\n",
       "      <td>0.100</td>\n",
       "      <td>less</td>\n",
       "    </tr>\n",
       "    <tr>\n",
       "      <th>1</th>\n",
       "      <td>reward</td>\n",
       "      <td>69</td>\n",
       "      <td>-4.575</td>\n",
       "      <td>0.000</td>\n",
       "      <td>0.351</td>\n",
       "      <td>less</td>\n",
       "    </tr>\n",
       "    <tr>\n",
       "      <th>2</th>\n",
       "      <td>RT</td>\n",
       "      <td>69</td>\n",
       "      <td>8.763</td>\n",
       "      <td>0.000</td>\n",
       "      <td>0.676</td>\n",
       "      <td>greater</td>\n",
       "    </tr>\n",
       "    <tr>\n",
       "      <th>3</th>\n",
       "      <td>time_out</td>\n",
       "      <td>69</td>\n",
       "      <td>4.859</td>\n",
       "      <td>0.000</td>\n",
       "      <td>0.661</td>\n",
       "      <td>greater</td>\n",
       "    </tr>\n",
       "  </tbody>\n",
       "</table>\n",
       "</div>"
      ],
      "text/plain": [
       "    measure  dof      T  p-val  cohen-d alternative\n",
       "0       DAS   69 -1.617  0.055    0.100        less\n",
       "1    reward   69 -4.575  0.000    0.351        less\n",
       "2        RT   69  8.763  0.000    0.676     greater\n",
       "3  time_out   69  4.859  0.000    0.661     greater"
      ]
     },
     "execution_count": 15,
     "metadata": {},
     "output_type": "execute_result"
    }
   ],
   "source": [
    "# define alternatives and perform t-tests\n",
    "alternatives = ['less', 'less', 'greater', 'greater']\n",
    "resultstTest = print_ttest_results(df, measures, 'half', alternatives)\n",
    "\n",
    "# create a df with the rmANOVA results\n",
    "stats = ['dof', 'T', 'p-val', 'cohen-d', 'alternative'] # select relevant statistics\n",
    "\n",
    "dftTests = pd.DataFrame(measures, columns=['measure'])\n",
    "\n",
    "dftTests[stats] = 0 # preallocation\n",
    "\n",
    "for m in range(len(resultstTest)):\n",
    "    dftTests.iloc[m, 1:] = resultstTest[m][stats].to_numpy().flatten()\n",
    "\n",
    "dftTests.round(3)"
   ]
  },
  {
   "cell_type": "markdown",
   "metadata": {},
   "source": [
    "<i>Note:</i> dof: degrees of freedom, T: $T$-value, p-val: $p$-value, cohen-d: Cohen's $d$"
   ]
  },
  {
   "cell_type": "markdown",
   "metadata": {},
   "source": [
    "### create table for statistics depending on the segment of the experiment"
   ]
  },
  {
   "cell_type": "code",
   "execution_count": 16,
   "metadata": {},
   "outputs": [
    {
     "data": {
      "text/html": [
       "<div>\n",
       "<style scoped>\n",
       "    .dataframe tbody tr th:only-of-type {\n",
       "        vertical-align: middle;\n",
       "    }\n",
       "\n",
       "    .dataframe tbody tr th {\n",
       "        vertical-align: top;\n",
       "    }\n",
       "\n",
       "    .dataframe thead tr th {\n",
       "        text-align: left;\n",
       "    }\n",
       "\n",
       "    .dataframe thead tr:last-of-type th {\n",
       "        text-align: right;\n",
       "    }\n",
       "</style>\n",
       "<table border=\"1\" class=\"dataframe\">\n",
       "  <thead>\n",
       "    <tr>\n",
       "      <th></th>\n",
       "      <th colspan=\"2\" halign=\"left\">DAS</th>\n",
       "      <th colspan=\"2\" halign=\"left\">reward</th>\n",
       "      <th colspan=\"2\" halign=\"left\">RT</th>\n",
       "      <th colspan=\"2\" halign=\"left\">time_out</th>\n",
       "    </tr>\n",
       "    <tr>\n",
       "      <th></th>\n",
       "      <th>mean</th>\n",
       "      <th>std</th>\n",
       "      <th>mean</th>\n",
       "      <th>std</th>\n",
       "      <th>mean</th>\n",
       "      <th>std</th>\n",
       "      <th>mean</th>\n",
       "      <th>std</th>\n",
       "    </tr>\n",
       "    <tr>\n",
       "      <th>segment</th>\n",
       "      <th></th>\n",
       "      <th></th>\n",
       "      <th></th>\n",
       "      <th></th>\n",
       "      <th></th>\n",
       "      <th></th>\n",
       "      <th></th>\n",
       "      <th></th>\n",
       "    </tr>\n",
       "  </thead>\n",
       "  <tbody>\n",
       "    <tr>\n",
       "      <th>0</th>\n",
       "      <td>0.53</td>\n",
       "      <td>0.22</td>\n",
       "      <td>76.42</td>\n",
       "      <td>7.58</td>\n",
       "      <td>2013.66</td>\n",
       "      <td>537.73</td>\n",
       "      <td>0.03</td>\n",
       "      <td>0.02</td>\n",
       "    </tr>\n",
       "    <tr>\n",
       "      <th>1</th>\n",
       "      <td>0.54</td>\n",
       "      <td>0.19</td>\n",
       "      <td>82.73</td>\n",
       "      <td>6.48</td>\n",
       "      <td>1632.43</td>\n",
       "      <td>414.64</td>\n",
       "      <td>0.01</td>\n",
       "      <td>0.01</td>\n",
       "    </tr>\n",
       "    <tr>\n",
       "      <th>2</th>\n",
       "      <td>0.54</td>\n",
       "      <td>0.20</td>\n",
       "      <td>81.26</td>\n",
       "      <td>6.87</td>\n",
       "      <td>1575.06</td>\n",
       "      <td>370.51</td>\n",
       "      <td>0.01</td>\n",
       "      <td>0.02</td>\n",
       "    </tr>\n",
       "    <tr>\n",
       "      <th>3</th>\n",
       "      <td>0.56</td>\n",
       "      <td>0.19</td>\n",
       "      <td>82.34</td>\n",
       "      <td>6.40</td>\n",
       "      <td>1496.83</td>\n",
       "      <td>450.28</td>\n",
       "      <td>0.01</td>\n",
       "      <td>0.01</td>\n",
       "    </tr>\n",
       "  </tbody>\n",
       "</table>\n",
       "</div>"
      ],
      "text/plain": [
       "          DAS       reward             RT         time_out      \n",
       "         mean   std   mean   std     mean     std     mean   std\n",
       "segment                                                         \n",
       "0        0.53  0.22  76.42  7.58  2013.66  537.73     0.03  0.02\n",
       "1        0.54  0.19  82.73  6.48  1632.43  414.64     0.01  0.01\n",
       "2        0.54  0.20  81.26  6.87  1575.06  370.51     0.01  0.02\n",
       "3        0.56  0.19  82.34  6.40  1496.83  450.28     0.01  0.01"
      ]
     },
     "execution_count": 16,
     "metadata": {},
     "output_type": "execute_result"
    }
   ],
   "source": [
    "dfSegments = df[measures].groupby([df['Participant_ID'], df['segment']]).mean().groupby('segment').agg(['mean', 'std']).round(2)\n",
    "dfSegments"
   ]
  },
  {
   "cell_type": "markdown",
   "metadata": {},
   "source": [
    "#### Calculate rmANOVAs over segments"
   ]
  },
  {
   "cell_type": "code",
   "execution_count": 17,
   "metadata": {},
   "outputs": [],
   "source": [
    "# perform paired t-test (x: first half, y: second half)\n",
    "def calculate_rmANOVA(df, measure):\n",
    "\n",
    "    result = pg.rm_anova(data=df,\n",
    "                         dv=measure, \n",
    "                         within=['segment'], \n",
    "                         subject='Participant_ID')\n",
    "    \n",
    "    return result\n",
    "\n",
    "# loop through the performance measures\n",
    "def print_rmANOVA_results(df, measures):\n",
    "\n",
    "    results = {} # preallocation\n",
    "\n",
    "    for i, m in enumerate(measures):\n",
    "        # calculate rmANOVA and save result\n",
    "        result = calculate_rmANOVA(df, m)\n",
    "        results[i] = result\n",
    "\n",
    "        # print the results\n",
    "        #print(f'{m}')\n",
    "        #pg.print_table(result)\n",
    "        \n",
    "    return results"
   ]
  },
  {
   "cell_type": "code",
   "execution_count": 18,
   "metadata": {},
   "outputs": [
    {
     "name": "stderr",
     "output_type": "stream",
     "text": [
      "/Users/Eric/miniconda3/envs/pymc_env/lib/python3.11/site-packages/pingouin/distribution.py:1004: RuntimeWarning: divide by zero encountered in scalar divide\n",
      "  W = np.prod(eig) / (eig.sum() / d) ** d\n"
     ]
    },
    {
     "data": {
      "text/html": [
       "<div>\n",
       "<style scoped>\n",
       "    .dataframe tbody tr th:only-of-type {\n",
       "        vertical-align: middle;\n",
       "    }\n",
       "\n",
       "    .dataframe tbody tr th {\n",
       "        vertical-align: top;\n",
       "    }\n",
       "\n",
       "    .dataframe thead th {\n",
       "        text-align: right;\n",
       "    }\n",
       "</style>\n",
       "<table border=\"1\" class=\"dataframe\">\n",
       "  <thead>\n",
       "    <tr style=\"text-align: right;\">\n",
       "      <th></th>\n",
       "      <th>measure</th>\n",
       "      <th>ddof1</th>\n",
       "      <th>ddof2</th>\n",
       "      <th>F</th>\n",
       "      <th>p-unc</th>\n",
       "      <th>ng2</th>\n",
       "      <th>eps</th>\n",
       "    </tr>\n",
       "  </thead>\n",
       "  <tbody>\n",
       "    <tr>\n",
       "      <th>0</th>\n",
       "      <td>DAS</td>\n",
       "      <td>3</td>\n",
       "      <td>207</td>\n",
       "      <td>1.524</td>\n",
       "      <td>0.209</td>\n",
       "      <td>0.003</td>\n",
       "      <td>0.924</td>\n",
       "    </tr>\n",
       "    <tr>\n",
       "      <th>1</th>\n",
       "      <td>reward</td>\n",
       "      <td>3</td>\n",
       "      <td>207</td>\n",
       "      <td>40.168</td>\n",
       "      <td>0.000</td>\n",
       "      <td>0.121</td>\n",
       "      <td>0.933</td>\n",
       "    </tr>\n",
       "    <tr>\n",
       "      <th>2</th>\n",
       "      <td>RT</td>\n",
       "      <td>3</td>\n",
       "      <td>207</td>\n",
       "      <td>68.576</td>\n",
       "      <td>0.000</td>\n",
       "      <td>0.167</td>\n",
       "      <td>0.839</td>\n",
       "    </tr>\n",
       "    <tr>\n",
       "      <th>3</th>\n",
       "      <td>time_out</td>\n",
       "      <td>3</td>\n",
       "      <td>207</td>\n",
       "      <td>23.979</td>\n",
       "      <td>0.000</td>\n",
       "      <td>0.162</td>\n",
       "      <td>0.903</td>\n",
       "    </tr>\n",
       "  </tbody>\n",
       "</table>\n",
       "</div>"
      ],
      "text/plain": [
       "    measure  ddof1  ddof2       F  p-unc    ng2    eps\n",
       "0       DAS      3    207   1.524  0.209  0.003  0.924\n",
       "1    reward      3    207  40.168  0.000  0.121  0.933\n",
       "2        RT      3    207  68.576  0.000  0.167  0.839\n",
       "3  time_out      3    207  23.979  0.000  0.162  0.903"
      ]
     },
     "execution_count": 18,
     "metadata": {},
     "output_type": "execute_result"
    }
   ],
   "source": [
    "# perform rmANOVAs\n",
    "rmANOVAResults = print_rmANOVA_results(df, measures)\n",
    "\n",
    "# create a df with the rmANOVA results\n",
    "stats = ['ddof1', 'ddof2', 'F', 'p-unc', 'ng2', 'eps'] # select relevant statistics\n",
    "\n",
    "dfANOVA = pd.DataFrame(measures, columns=['measure'])\n",
    "\n",
    "dfANOVA[stats] = 0 # preallocation\n",
    "\n",
    "for m in range(len(rmANOVAResults)):\n",
    "    dfANOVA.iloc[m, 1:] = rmANOVAResults[m][stats].to_numpy().flatten()\n",
    "\n",
    "# print results\n",
    "dfANOVA.round(3)"
   ]
  },
  {
   "cell_type": "markdown",
   "metadata": {},
   "source": [
    "<i>Note:</i> ddof: degrees of freedom, F: $F$-value, p-unc: uncorrected $p$-value, ng2: generalized eta-squared $\\eta^2_G$, eps: Greenhouse-Geisser epsilon factor (i.e. index of sphericity)"
   ]
  },
  {
   "cell_type": "markdown",
   "metadata": {},
   "source": [
    "### create table for statistics depending on bonus condition"
   ]
  },
  {
   "cell_type": "code",
   "execution_count": 19,
   "metadata": {},
   "outputs": [],
   "source": [
    "# get indicator of bonus trials and add it to the dataframe\n",
    "bonusBlocks = np.array([1,0,0,1,1,0,1,0,1,1,0,0,1,1,0,0])\n",
    "df['bonus'] = bonusBlocks[df['blockN'].to_numpy(dtype=np.int8)]"
   ]
  },
  {
   "cell_type": "code",
   "execution_count": 20,
   "metadata": {},
   "outputs": [
    {
     "data": {
      "text/html": [
       "<div>\n",
       "<style scoped>\n",
       "    .dataframe tbody tr th:only-of-type {\n",
       "        vertical-align: middle;\n",
       "    }\n",
       "\n",
       "    .dataframe tbody tr th {\n",
       "        vertical-align: top;\n",
       "    }\n",
       "\n",
       "    .dataframe thead tr th {\n",
       "        text-align: left;\n",
       "    }\n",
       "\n",
       "    .dataframe thead tr:last-of-type th {\n",
       "        text-align: right;\n",
       "    }\n",
       "</style>\n",
       "<table border=\"1\" class=\"dataframe\">\n",
       "  <thead>\n",
       "    <tr>\n",
       "      <th></th>\n",
       "      <th colspan=\"2\" halign=\"left\">DAS</th>\n",
       "      <th colspan=\"2\" halign=\"left\">reward</th>\n",
       "      <th colspan=\"2\" halign=\"left\">RT</th>\n",
       "      <th colspan=\"2\" halign=\"left\">time_out</th>\n",
       "    </tr>\n",
       "    <tr>\n",
       "      <th></th>\n",
       "      <th>mean</th>\n",
       "      <th>std</th>\n",
       "      <th>mean</th>\n",
       "      <th>std</th>\n",
       "      <th>mean</th>\n",
       "      <th>std</th>\n",
       "      <th>mean</th>\n",
       "      <th>std</th>\n",
       "    </tr>\n",
       "    <tr>\n",
       "      <th>bonus</th>\n",
       "      <th></th>\n",
       "      <th></th>\n",
       "      <th></th>\n",
       "      <th></th>\n",
       "      <th></th>\n",
       "      <th></th>\n",
       "      <th></th>\n",
       "      <th></th>\n",
       "    </tr>\n",
       "  </thead>\n",
       "  <tbody>\n",
       "    <tr>\n",
       "      <th>0</th>\n",
       "      <td>0.518</td>\n",
       "      <td>0.192</td>\n",
       "      <td>80.036</td>\n",
       "      <td>5.919</td>\n",
       "      <td>1662.763</td>\n",
       "      <td>407.689</td>\n",
       "      <td>0.013</td>\n",
       "      <td>0.012</td>\n",
       "    </tr>\n",
       "    <tr>\n",
       "      <th>1</th>\n",
       "      <td>0.568</td>\n",
       "      <td>0.191</td>\n",
       "      <td>81.341</td>\n",
       "      <td>6.636</td>\n",
       "      <td>1691.794</td>\n",
       "      <td>405.107</td>\n",
       "      <td>0.016</td>\n",
       "      <td>0.016</td>\n",
       "    </tr>\n",
       "  </tbody>\n",
       "</table>\n",
       "</div>"
      ],
      "text/plain": [
       "         DAS         reward               RT          time_out       \n",
       "        mean    std    mean    std      mean      std     mean    std\n",
       "bonus                                                                \n",
       "0      0.518  0.192  80.036  5.919  1662.763  407.689    0.013  0.012\n",
       "1      0.568  0.191  81.341  6.636  1691.794  405.107    0.016  0.016"
      ]
     },
     "execution_count": 20,
     "metadata": {},
     "output_type": "execute_result"
    }
   ],
   "source": [
    "df[measures].groupby([df['Participant_ID'], df['bonus']]).mean().groupby('bonus').agg(['mean', 'std']).round(3)"
   ]
  },
  {
   "cell_type": "code",
   "execution_count": 21,
   "metadata": {},
   "outputs": [
    {
     "data": {
      "text/html": [
       "<div>\n",
       "<style scoped>\n",
       "    .dataframe tbody tr th:only-of-type {\n",
       "        vertical-align: middle;\n",
       "    }\n",
       "\n",
       "    .dataframe tbody tr th {\n",
       "        vertical-align: top;\n",
       "    }\n",
       "\n",
       "    .dataframe thead th {\n",
       "        text-align: right;\n",
       "    }\n",
       "</style>\n",
       "<table border=\"1\" class=\"dataframe\">\n",
       "  <thead>\n",
       "    <tr style=\"text-align: right;\">\n",
       "      <th></th>\n",
       "      <th>mean</th>\n",
       "      <th>std</th>\n",
       "    </tr>\n",
       "    <tr>\n",
       "      <th>bonus</th>\n",
       "      <th></th>\n",
       "      <th></th>\n",
       "    </tr>\n",
       "  </thead>\n",
       "  <tbody>\n",
       "    <tr>\n",
       "      <th>0</th>\n",
       "      <td>2.142857</td>\n",
       "      <td>1.905642</td>\n",
       "    </tr>\n",
       "    <tr>\n",
       "      <th>1</th>\n",
       "      <td>2.600000</td>\n",
       "      <td>2.492888</td>\n",
       "    </tr>\n",
       "  </tbody>\n",
       "</table>\n",
       "</div>"
      ],
      "text/plain": [
       "           mean       std\n",
       "bonus                    \n",
       "0      2.142857  1.905642\n",
       "1      2.600000  2.492888"
      ]
     },
     "execution_count": 21,
     "metadata": {},
     "output_type": "execute_result"
    }
   ],
   "source": [
    "df['time_out'].groupby([df['Participant_ID'], df['bonus']]).sum().groupby('bonus').agg(['mean', 'std'])"
   ]
  },
  {
   "cell_type": "markdown",
   "metadata": {},
   "source": [
    "#### perform paired $t$-tests\n",
    "<u>Alternatives:</u>\n",
    "- p(DAS): less $\\to$ due to bonus for DAS\n",
    "- reward: less $\\to$ due to bonus\n",
    "- RT: greater $\\to$ due to higher p(DAS)\n",
    "- time outs: greater $\\to$ due to higher p(DAS)"
   ]
  },
  {
   "cell_type": "code",
   "execution_count": 22,
   "metadata": {},
   "outputs": [
    {
     "data": {
      "text/html": [
       "<div>\n",
       "<style scoped>\n",
       "    .dataframe tbody tr th:only-of-type {\n",
       "        vertical-align: middle;\n",
       "    }\n",
       "\n",
       "    .dataframe tbody tr th {\n",
       "        vertical-align: top;\n",
       "    }\n",
       "\n",
       "    .dataframe thead th {\n",
       "        text-align: right;\n",
       "    }\n",
       "</style>\n",
       "<table border=\"1\" class=\"dataframe\">\n",
       "  <thead>\n",
       "    <tr style=\"text-align: right;\">\n",
       "      <th></th>\n",
       "      <th>measure</th>\n",
       "      <th>dof</th>\n",
       "      <th>T</th>\n",
       "      <th>p-val</th>\n",
       "      <th>cohen-d</th>\n",
       "      <th>alternative</th>\n",
       "    </tr>\n",
       "  </thead>\n",
       "  <tbody>\n",
       "    <tr>\n",
       "      <th>0</th>\n",
       "      <td>DAS</td>\n",
       "      <td>69</td>\n",
       "      <td>-4.681</td>\n",
       "      <td>0.000</td>\n",
       "      <td>0.259</td>\n",
       "      <td>less</td>\n",
       "    </tr>\n",
       "    <tr>\n",
       "      <th>1</th>\n",
       "      <td>reward</td>\n",
       "      <td>69</td>\n",
       "      <td>-2.838</td>\n",
       "      <td>0.003</td>\n",
       "      <td>0.208</td>\n",
       "      <td>less</td>\n",
       "    </tr>\n",
       "    <tr>\n",
       "      <th>2</th>\n",
       "      <td>RT</td>\n",
       "      <td>69</td>\n",
       "      <td>-1.555</td>\n",
       "      <td>0.938</td>\n",
       "      <td>0.071</td>\n",
       "      <td>greater</td>\n",
       "    </tr>\n",
       "    <tr>\n",
       "      <th>3</th>\n",
       "      <td>time_out</td>\n",
       "      <td>69</td>\n",
       "      <td>-1.559</td>\n",
       "      <td>0.938</td>\n",
       "      <td>0.206</td>\n",
       "      <td>greater</td>\n",
       "    </tr>\n",
       "  </tbody>\n",
       "</table>\n",
       "</div>"
      ],
      "text/plain": [
       "    measure  dof      T  p-val  cohen-d alternative\n",
       "0       DAS   69 -4.681  0.000    0.259        less\n",
       "1    reward   69 -2.838  0.003    0.208        less\n",
       "2        RT   69 -1.555  0.938    0.071     greater\n",
       "3  time_out   69 -1.559  0.938    0.206     greater"
      ]
     },
     "execution_count": 22,
     "metadata": {},
     "output_type": "execute_result"
    }
   ],
   "source": [
    "# define alternatives and perform t-tests\n",
    "alternatives = ['less', 'less', 'greater', 'greater']\n",
    "resultstTest = print_ttest_results(df, measures, 'bonus', alternatives)\n",
    "\n",
    "# create a df with the t-test results\n",
    "stats = ['dof', 'T', 'p-val', 'cohen-d', 'alternative'] # select relevant statistics\n",
    "\n",
    "dftTests = pd.DataFrame(measures, columns=['measure'])\n",
    "\n",
    "dftTests[stats] = 0 # preallocation\n",
    "\n",
    "for m in range(len(resultstTest)):\n",
    "    dftTests.iloc[m, 1:] = resultstTest[m][stats].to_numpy().flatten()\n",
    "\n",
    "dftTests.round(3)"
   ]
  },
  {
   "cell_type": "code",
   "execution_count": null,
   "metadata": {},
   "outputs": [],
   "source": []
  },
  {
   "cell_type": "markdown",
   "metadata": {},
   "source": [
    "## 2 Analyze $p$(DAS)\n",
    "Calculate the proportion of the proposed default action sequence (DAS) and check if the DAS was the sequence that was used most frequently by the participants."
   ]
  },
  {
   "cell_type": "code",
   "execution_count": 26,
   "metadata": {},
   "outputs": [
    {
     "name": "stdout",
     "output_type": "stream",
     "text": [
      "p(DAS): mean=0.54 (SD=0.18622740542713578)\n"
     ]
    }
   ],
   "source": [
    "# calculate p(DAS) of each participant\n",
    "dfDASMeans = df['DAS'].groupby(df['Participant_ID']).mean().rename('DAS_mean').reset_index()\n",
    "\n",
    "# print mean and SD of p(DAS)\n",
    "print(f\"p(DAS): mean={dfDASMeans['DAS_mean'].mean().round(2)} (SD={dfDASMeans['DAS_mean'].std()})\")"
   ]
  },
  {
   "cell_type": "code",
   "execution_count": 27,
   "metadata": {},
   "outputs": [
    {
     "data": {
      "image/png": "[encoded data removed]",
      "text/plain": [
       "<Figure size 300x600 with 1 Axes>"
      ]
     },
     "metadata": {},
     "output_type": "display_data"
    }
   ],
   "source": [
    "# plot the distribution\n",
    "plt.figure(figsize=(3,6))\n",
    "sns.violinplot(data=dfDASMeans, y='DAS_mean', cut=0, inner=None, color='lightgrey')\n",
    "sns.stripplot(data=dfDASMeans, y='DAS_mean', size=6, edgecolor='black', linewidth=1, color='white')\n",
    "plt.ylim([0,1])\n",
    "plt.ylabel(r'$p(DAS)$', fontsize=16)\n",
    "sns.despine()\n",
    "plt.show()"
   ]
  },
  {
   "cell_type": "code",
   "execution_count": 28,
   "metadata": {},
   "outputs": [
    {
     "data": {
      "text/plain": [
       "array([ 4.,  4.,  4.,  4.,  4.,  4.,  4.,  4.,  0.,  4., 19.,  4.,  4.,\n",
       "        4.,  4.,  4.,  4.,  4.,  4.,  4.,  4.,  4.,  4., 21.,  4.,  4.,\n",
       "        4.,  4.,  4.,  4.,  4.,  4.,  4.,  4.,  4.,  4.,  4.,  4.,  4.,\n",
       "        4.,  4.,  4.,  4.,  4.,  4.,  4.,  4.,  4.,  4.,  4.,  4.,  4.,\n",
       "        4.,  4.,  4.,  4.,  4.,  4.,  4.,  4.,  4.,  4.,  4.,  4., 21.,\n",
       "        4.,  4.,  4.,  4.,  4.])"
      ]
     },
     "execution_count": 28,
     "metadata": {},
     "output_type": "execute_result"
    }
   ],
   "source": [
    "# get the most frequently used sequence of actions of each participant\n",
    "df['sequence_ID'].groupby(df['Participant_ID']).value_counts().rename('count').reset_index().groupby('Participant_ID').first()['sequence_ID'].to_numpy() #.unique()"
   ]
  },
  {
   "cell_type": "markdown",
   "metadata": {},
   "source": [
    "$\\to$ Nearly all participants used the DAS (sequence ID 4) most frequently. Therefore we focus on the DAS for the subsequent analyses that test for the repetition bias."
   ]
  },
  {
   "cell_type": "code",
   "execution_count": null,
   "metadata": {},
   "outputs": [],
   "source": []
  },
  {
   "cell_type": "markdown",
   "metadata": {},
   "source": [
    "## 3 Calculate the repetition bias measures\n",
    "### 1) Increase in DAS use when DAS is not optimal\n",
    "Due to the difference of 10 between possible points of the circles, an absolute difference between the DAS points and the goal of 5 makes the DAS one of the sequences of actions with the highest reward, i.e. an optimal sequence.\n",
    "\n",
    "Here we check, if we can find an increase in DAS usage over time for trials where the DAS is not optimal.\n",
    "#### preparatory work"
   ]
  },
  {
   "cell_type": "code",
   "execution_count": 29,
   "metadata": {},
   "outputs": [],
   "source": [
    "# load the goals to define DAS optimality\n",
    "goals = np.genfromtxt('../data_task/goals.csv', delimiter=',')\n",
    "\n",
    "# add DAS optimality column\n",
    "df['DAS_optimal'] = np.where(np.tile(np.abs(goals)<=5, len(set((df['Participant_ID'])))), 1, 0)"
   ]
  },
  {
   "cell_type": "markdown",
   "metadata": {},
   "source": [
    "#### summary statistics"
   ]
  },
  {
   "cell_type": "code",
   "execution_count": 30,
   "metadata": {},
   "outputs": [
    {
     "data": {
      "text/html": [
       "<div>\n",
       "<style scoped>\n",
       "    .dataframe tbody tr th:only-of-type {\n",
       "        vertical-align: middle;\n",
       "    }\n",
       "\n",
       "    .dataframe tbody tr th {\n",
       "        vertical-align: top;\n",
       "    }\n",
       "\n",
       "    .dataframe thead th {\n",
       "        text-align: right;\n",
       "    }\n",
       "</style>\n",
       "<table border=\"1\" class=\"dataframe\">\n",
       "  <thead>\n",
       "    <tr style=\"text-align: right;\">\n",
       "      <th></th>\n",
       "      <th></th>\n",
       "      <th>mean</th>\n",
       "      <th>std</th>\n",
       "    </tr>\n",
       "    <tr>\n",
       "      <th>DAS_optimal</th>\n",
       "      <th>half</th>\n",
       "      <th></th>\n",
       "      <th></th>\n",
       "    </tr>\n",
       "  </thead>\n",
       "  <tbody>\n",
       "    <tr>\n",
       "      <th rowspan=\"2\" valign=\"top\">0</th>\n",
       "      <th>0</th>\n",
       "      <td>0.352855</td>\n",
       "      <td>0.477897</td>\n",
       "    </tr>\n",
       "    <tr>\n",
       "      <th>1</th>\n",
       "      <td>0.353423</td>\n",
       "      <td>0.478071</td>\n",
       "    </tr>\n",
       "    <tr>\n",
       "      <th rowspan=\"2\" valign=\"top\">1</th>\n",
       "      <th>0</th>\n",
       "      <td>0.764840</td>\n",
       "      <td>0.424143</td>\n",
       "    </tr>\n",
       "    <tr>\n",
       "      <th>1</th>\n",
       "      <td>0.807977</td>\n",
       "      <td>0.393932</td>\n",
       "    </tr>\n",
       "  </tbody>\n",
       "</table>\n",
       "</div>"
      ],
      "text/plain": [
       "                      mean       std\n",
       "DAS_optimal half                    \n",
       "0           0     0.352855  0.477897\n",
       "            1     0.353423  0.478071\n",
       "1           0     0.764840  0.424143\n",
       "            1     0.807977  0.393932"
      ]
     },
     "execution_count": 30,
     "metadata": {},
     "output_type": "execute_result"
    }
   ],
   "source": [
    "df['DAS'].groupby([df['DAS_optimal'], df['half']]).agg(['mean', 'std'])"
   ]
  },
  {
   "cell_type": "code",
   "execution_count": 31,
   "metadata": {},
   "outputs": [
    {
     "data": {
      "text/html": [
       "<div>\n",
       "<style scoped>\n",
       "    .dataframe tbody tr th:only-of-type {\n",
       "        vertical-align: middle;\n",
       "    }\n",
       "\n",
       "    .dataframe tbody tr th {\n",
       "        vertical-align: top;\n",
       "    }\n",
       "\n",
       "    .dataframe thead th {\n",
       "        text-align: right;\n",
       "    }\n",
       "</style>\n",
       "<table border=\"1\" class=\"dataframe\">\n",
       "  <thead>\n",
       "    <tr style=\"text-align: right;\">\n",
       "      <th></th>\n",
       "      <th></th>\n",
       "      <th>mean</th>\n",
       "      <th>std</th>\n",
       "    </tr>\n",
       "    <tr>\n",
       "      <th>DAS_optimal</th>\n",
       "      <th>segment</th>\n",
       "      <th></th>\n",
       "      <th></th>\n",
       "    </tr>\n",
       "  </thead>\n",
       "  <tbody>\n",
       "    <tr>\n",
       "      <th rowspan=\"4\" valign=\"top\">0</th>\n",
       "      <th>0</th>\n",
       "      <td>0.370553</td>\n",
       "      <td>0.483033</td>\n",
       "    </tr>\n",
       "    <tr>\n",
       "      <th>1</th>\n",
       "      <td>0.335583</td>\n",
       "      <td>0.472270</td>\n",
       "    </tr>\n",
       "    <tr>\n",
       "      <th>2</th>\n",
       "      <td>0.350917</td>\n",
       "      <td>0.477334</td>\n",
       "    </tr>\n",
       "    <tr>\n",
       "      <th>3</th>\n",
       "      <td>0.355927</td>\n",
       "      <td>0.478870</td>\n",
       "    </tr>\n",
       "    <tr>\n",
       "      <th rowspan=\"4\" valign=\"top\">1</th>\n",
       "      <th>0</th>\n",
       "      <td>0.732973</td>\n",
       "      <td>0.442498</td>\n",
       "    </tr>\n",
       "    <tr>\n",
       "      <th>1</th>\n",
       "      <td>0.796457</td>\n",
       "      <td>0.402716</td>\n",
       "    </tr>\n",
       "    <tr>\n",
       "      <th>2</th>\n",
       "      <td>0.795305</td>\n",
       "      <td>0.403562</td>\n",
       "    </tr>\n",
       "    <tr>\n",
       "      <th>3</th>\n",
       "      <td>0.820608</td>\n",
       "      <td>0.383759</td>\n",
       "    </tr>\n",
       "  </tbody>\n",
       "</table>\n",
       "</div>"
      ],
      "text/plain": [
       "                         mean       std\n",
       "DAS_optimal segment                    \n",
       "0           0        0.370553  0.483033\n",
       "            1        0.335583  0.472270\n",
       "            2        0.350917  0.477334\n",
       "            3        0.355927  0.478870\n",
       "1           0        0.732973  0.442498\n",
       "            1        0.796457  0.402716\n",
       "            2        0.795305  0.403562\n",
       "            3        0.820608  0.383759"
      ]
     },
     "execution_count": 31,
     "metadata": {},
     "output_type": "execute_result"
    }
   ],
   "source": [
    "df['DAS'].groupby([df['DAS_optimal'], df['segment']]).agg(['mean', 'std'])"
   ]
  },
  {
   "cell_type": "markdown",
   "metadata": {},
   "source": [
    "#### test for increase over halves"
   ]
  },
  {
   "cell_type": "code",
   "execution_count": 32,
   "metadata": {},
   "outputs": [
    {
     "data": {
      "text/html": [
       "<div>\n",
       "<style scoped>\n",
       "    .dataframe tbody tr th:only-of-type {\n",
       "        vertical-align: middle;\n",
       "    }\n",
       "\n",
       "    .dataframe tbody tr th {\n",
       "        vertical-align: top;\n",
       "    }\n",
       "\n",
       "    .dataframe thead th {\n",
       "        text-align: right;\n",
       "    }\n",
       "</style>\n",
       "<table border=\"1\" class=\"dataframe\">\n",
       "  <thead>\n",
       "    <tr style=\"text-align: right;\">\n",
       "      <th></th>\n",
       "      <th>Source</th>\n",
       "      <th>SS</th>\n",
       "      <th>ddof1</th>\n",
       "      <th>ddof2</th>\n",
       "      <th>MS</th>\n",
       "      <th>F</th>\n",
       "      <th>p-unc</th>\n",
       "      <th>p-GG-corr</th>\n",
       "      <th>ng2</th>\n",
       "      <th>eps</th>\n",
       "    </tr>\n",
       "  </thead>\n",
       "  <tbody>\n",
       "    <tr>\n",
       "      <th>0</th>\n",
       "      <td>DAS_optimal</td>\n",
       "      <td>13.091</td>\n",
       "      <td>1</td>\n",
       "      <td>69</td>\n",
       "      <td>13.091</td>\n",
       "      <td>239.894</td>\n",
       "      <td>0.000</td>\n",
       "      <td>0.000</td>\n",
       "      <td>0.474</td>\n",
       "      <td>1.0</td>\n",
       "    </tr>\n",
       "    <tr>\n",
       "      <th>1</th>\n",
       "      <td>half</td>\n",
       "      <td>0.037</td>\n",
       "      <td>1</td>\n",
       "      <td>69</td>\n",
       "      <td>0.037</td>\n",
       "      <td>3.878</td>\n",
       "      <td>0.053</td>\n",
       "      <td>0.053</td>\n",
       "      <td>0.003</td>\n",
       "      <td>1.0</td>\n",
       "    </tr>\n",
       "    <tr>\n",
       "      <th>2</th>\n",
       "      <td>DAS_optimal * half</td>\n",
       "      <td>0.032</td>\n",
       "      <td>1</td>\n",
       "      <td>69</td>\n",
       "      <td>0.032</td>\n",
       "      <td>7.459</td>\n",
       "      <td>0.008</td>\n",
       "      <td>0.008</td>\n",
       "      <td>0.002</td>\n",
       "      <td>1.0</td>\n",
       "    </tr>\n",
       "  </tbody>\n",
       "</table>\n",
       "</div>"
      ],
      "text/plain": [
       "               Source      SS  ddof1  ddof2      MS        F  p-unc  \\\n",
       "0         DAS_optimal  13.091      1     69  13.091  239.894  0.000   \n",
       "1                half   0.037      1     69   0.037    3.878  0.053   \n",
       "2  DAS_optimal * half   0.032      1     69   0.032    7.459  0.008   \n",
       "\n",
       "   p-GG-corr    ng2  eps  \n",
       "0      0.000  0.474  1.0  \n",
       "1      0.053  0.003  1.0  \n",
       "2      0.008  0.002  1.0  "
      ]
     },
     "execution_count": 32,
     "metadata": {},
     "output_type": "execute_result"
    }
   ],
   "source": [
    "pg.rm_anova(data=df, dv='DAS', within=['DAS_optimal', 'half'], subject='Participant_ID').round(3)"
   ]
  },
  {
   "cell_type": "markdown",
   "metadata": {},
   "source": [
    "#### test for increase over segments"
   ]
  },
  {
   "cell_type": "code",
   "execution_count": 33,
   "metadata": {},
   "outputs": [
    {
     "data": {
      "text/html": [
       "<div>\n",
       "<style scoped>\n",
       "    .dataframe tbody tr th:only-of-type {\n",
       "        vertical-align: middle;\n",
       "    }\n",
       "\n",
       "    .dataframe tbody tr th {\n",
       "        vertical-align: top;\n",
       "    }\n",
       "\n",
       "    .dataframe thead th {\n",
       "        text-align: right;\n",
       "    }\n",
       "</style>\n",
       "<table border=\"1\" class=\"dataframe\">\n",
       "  <thead>\n",
       "    <tr style=\"text-align: right;\">\n",
       "      <th></th>\n",
       "      <th>Source</th>\n",
       "      <th>SS</th>\n",
       "      <th>ddof1</th>\n",
       "      <th>ddof2</th>\n",
       "      <th>MS</th>\n",
       "      <th>F</th>\n",
       "      <th>p-unc</th>\n",
       "      <th>p-GG-corr</th>\n",
       "      <th>ng2</th>\n",
       "      <th>eps</th>\n",
       "    </tr>\n",
       "  </thead>\n",
       "  <tbody>\n",
       "    <tr>\n",
       "      <th>0</th>\n",
       "      <td>DAS_optimal</td>\n",
       "      <td>26.138</td>\n",
       "      <td>1</td>\n",
       "      <td>69</td>\n",
       "      <td>26.138</td>\n",
       "      <td>239.149</td>\n",
       "      <td>0.000</td>\n",
       "      <td>0.000</td>\n",
       "      <td>0.451</td>\n",
       "      <td>1.000</td>\n",
       "    </tr>\n",
       "    <tr>\n",
       "      <th>1</th>\n",
       "      <td>segment</td>\n",
       "      <td>0.108</td>\n",
       "      <td>3</td>\n",
       "      <td>207</td>\n",
       "      <td>0.036</td>\n",
       "      <td>2.364</td>\n",
       "      <td>0.072</td>\n",
       "      <td>0.077</td>\n",
       "      <td>0.003</td>\n",
       "      <td>0.929</td>\n",
       "    </tr>\n",
       "    <tr>\n",
       "      <th>2</th>\n",
       "      <td>DAS_optimal * segment</td>\n",
       "      <td>0.247</td>\n",
       "      <td>3</td>\n",
       "      <td>207</td>\n",
       "      <td>0.082</td>\n",
       "      <td>11.157</td>\n",
       "      <td>0.000</td>\n",
       "      <td>0.000</td>\n",
       "      <td>0.008</td>\n",
       "      <td>0.868</td>\n",
       "    </tr>\n",
       "  </tbody>\n",
       "</table>\n",
       "</div>"
      ],
      "text/plain": [
       "                  Source      SS  ddof1  ddof2      MS        F  p-unc  \\\n",
       "0            DAS_optimal  26.138      1     69  26.138  239.149  0.000   \n",
       "1                segment   0.108      3    207   0.036    2.364  0.072   \n",
       "2  DAS_optimal * segment   0.247      3    207   0.082   11.157  0.000   \n",
       "\n",
       "   p-GG-corr    ng2    eps  \n",
       "0      0.000  0.451  1.000  \n",
       "1      0.077  0.003  0.929  \n",
       "2      0.000  0.008  0.868  "
      ]
     },
     "execution_count": 33,
     "metadata": {},
     "output_type": "execute_result"
    }
   ],
   "source": [
    "pg.rm_anova(data=df, dv='DAS', within=['DAS_optimal', 'segment'], subject='Participant_ID').round(3)"
   ]
  },
  {
   "cell_type": "code",
   "execution_count": null,
   "metadata": {},
   "outputs": [],
   "source": []
  },
  {
   "cell_type": "markdown",
   "metadata": {},
   "source": [
    "### 2)  Increase in partial DAS use"
   ]
  },
  {
   "cell_type": "markdown",
   "metadata": {},
   "source": [
    "#### preparatory work"
   ]
  },
  {
   "cell_type": "code",
   "execution_count": 34,
   "metadata": {},
   "outputs": [],
   "source": [
    "# create partial DAS column -> partial DAS: at least the first move is in line with the DAS\n",
    "firstMoveDAS = '0'\n",
    "df['partial_DAS'] = np.where(df['movesTrial'].str[1]==firstMoveDAS, 1, 0)"
   ]
  },
  {
   "cell_type": "markdown",
   "metadata": {},
   "source": [
    "#### summary statistics"
   ]
  },
  {
   "cell_type": "code",
   "execution_count": 35,
   "metadata": {},
   "outputs": [
    {
     "data": {
      "text/html": [
       "<div>\n",
       "<style scoped>\n",
       "    .dataframe tbody tr th:only-of-type {\n",
       "        vertical-align: middle;\n",
       "    }\n",
       "\n",
       "    .dataframe tbody tr th {\n",
       "        vertical-align: top;\n",
       "    }\n",
       "\n",
       "    .dataframe thead th {\n",
       "        text-align: right;\n",
       "    }\n",
       "</style>\n",
       "<table border=\"1\" class=\"dataframe\">\n",
       "  <thead>\n",
       "    <tr style=\"text-align: right;\">\n",
       "      <th></th>\n",
       "      <th>mean</th>\n",
       "      <th>std</th>\n",
       "    </tr>\n",
       "    <tr>\n",
       "      <th>half</th>\n",
       "      <th></th>\n",
       "      <th></th>\n",
       "    </tr>\n",
       "  </thead>\n",
       "  <tbody>\n",
       "    <tr>\n",
       "      <th>0</th>\n",
       "      <td>0.628125</td>\n",
       "      <td>0.483327</td>\n",
       "    </tr>\n",
       "    <tr>\n",
       "      <th>1</th>\n",
       "      <td>0.716071</td>\n",
       "      <td>0.450923</td>\n",
       "    </tr>\n",
       "  </tbody>\n",
       "</table>\n",
       "</div>"
      ],
      "text/plain": [
       "          mean       std\n",
       "half                    \n",
       "0     0.628125  0.483327\n",
       "1     0.716071  0.450923"
      ]
     },
     "execution_count": 35,
     "metadata": {},
     "output_type": "execute_result"
    }
   ],
   "source": [
    "df['partial_DAS'].groupby(df['half']).agg(['mean', 'std'])"
   ]
  },
  {
   "cell_type": "code",
   "execution_count": 36,
   "metadata": {},
   "outputs": [
    {
     "data": {
      "text/html": [
       "<div>\n",
       "<style scoped>\n",
       "    .dataframe tbody tr th:only-of-type {\n",
       "        vertical-align: middle;\n",
       "    }\n",
       "\n",
       "    .dataframe tbody tr th {\n",
       "        vertical-align: top;\n",
       "    }\n",
       "\n",
       "    .dataframe thead th {\n",
       "        text-align: right;\n",
       "    }\n",
       "</style>\n",
       "<table border=\"1\" class=\"dataframe\">\n",
       "  <thead>\n",
       "    <tr style=\"text-align: right;\">\n",
       "      <th></th>\n",
       "      <th>mean</th>\n",
       "      <th>std</th>\n",
       "    </tr>\n",
       "    <tr>\n",
       "      <th>segment</th>\n",
       "      <th></th>\n",
       "      <th></th>\n",
       "    </tr>\n",
       "  </thead>\n",
       "  <tbody>\n",
       "    <tr>\n",
       "      <th>0</th>\n",
       "      <td>0.598571</td>\n",
       "      <td>0.490231</td>\n",
       "    </tr>\n",
       "    <tr>\n",
       "      <th>1</th>\n",
       "      <td>0.657679</td>\n",
       "      <td>0.474529</td>\n",
       "    </tr>\n",
       "    <tr>\n",
       "      <th>2</th>\n",
       "      <td>0.707321</td>\n",
       "      <td>0.455033</td>\n",
       "    </tr>\n",
       "    <tr>\n",
       "      <th>3</th>\n",
       "      <td>0.724821</td>\n",
       "      <td>0.446644</td>\n",
       "    </tr>\n",
       "  </tbody>\n",
       "</table>\n",
       "</div>"
      ],
      "text/plain": [
       "             mean       std\n",
       "segment                    \n",
       "0        0.598571  0.490231\n",
       "1        0.657679  0.474529\n",
       "2        0.707321  0.455033\n",
       "3        0.724821  0.446644"
      ]
     },
     "execution_count": 36,
     "metadata": {},
     "output_type": "execute_result"
    }
   ],
   "source": [
    "df['partial_DAS'].groupby(df['segment']).agg(['mean', 'std'])"
   ]
  },
  {
   "cell_type": "markdown",
   "metadata": {},
   "source": [
    "#### test for increase over halves"
   ]
  },
  {
   "cell_type": "code",
   "execution_count": 37,
   "metadata": {},
   "outputs": [
    {
     "data": {
      "text/html": [
       "<div>\n",
       "<style scoped>\n",
       "    .dataframe tbody tr th:only-of-type {\n",
       "        vertical-align: middle;\n",
       "    }\n",
       "\n",
       "    .dataframe tbody tr th {\n",
       "        vertical-align: top;\n",
       "    }\n",
       "\n",
       "    .dataframe thead th {\n",
       "        text-align: right;\n",
       "    }\n",
       "</style>\n",
       "<table border=\"1\" class=\"dataframe\">\n",
       "  <thead>\n",
       "    <tr style=\"text-align: right;\">\n",
       "      <th></th>\n",
       "      <th>T</th>\n",
       "      <th>dof</th>\n",
       "      <th>alternative</th>\n",
       "      <th>p-val</th>\n",
       "      <th>CI95%</th>\n",
       "      <th>cohen-d</th>\n",
       "      <th>BF10</th>\n",
       "      <th>power</th>\n",
       "    </tr>\n",
       "  </thead>\n",
       "  <tbody>\n",
       "    <tr>\n",
       "      <th>T-test</th>\n",
       "      <td>-6.463</td>\n",
       "      <td>69</td>\n",
       "      <td>less</td>\n",
       "      <td>0.0</td>\n",
       "      <td>[-inf, -0.06]</td>\n",
       "      <td>0.488</td>\n",
       "      <td>1.96e+06</td>\n",
       "      <td>0.992</td>\n",
       "    </tr>\n",
       "  </tbody>\n",
       "</table>\n",
       "</div>"
      ],
      "text/plain": [
       "            T  dof alternative  p-val          CI95%  cohen-d      BF10  power\n",
       "T-test -6.463   69        less    0.0  [-inf, -0.06]    0.488  1.96e+06  0.992"
      ]
     },
     "execution_count": 37,
     "metadata": {},
     "output_type": "execute_result"
    }
   ],
   "source": [
    "pg.ttest(x=df.loc[(df['half']==0) & (df['time_out']==0), 'partial_DAS'].groupby(df['Participant_ID']).mean(), \n",
    "         y=df.loc[(df['half']==1) & (df['time_out']==0), 'partial_DAS'].groupby(df['Participant_ID']).mean(), \n",
    "         paired=True, \n",
    "         alternative='less').round(3)"
   ]
  },
  {
   "cell_type": "markdown",
   "metadata": {},
   "source": [
    "#### test for increase over segments"
   ]
  },
  {
   "cell_type": "code",
   "execution_count": 38,
   "metadata": {},
   "outputs": [
    {
     "data": {
      "text/html": [
       "<div>\n",
       "<style scoped>\n",
       "    .dataframe tbody tr th:only-of-type {\n",
       "        vertical-align: middle;\n",
       "    }\n",
       "\n",
       "    .dataframe tbody tr th {\n",
       "        vertical-align: top;\n",
       "    }\n",
       "\n",
       "    .dataframe thead th {\n",
       "        text-align: right;\n",
       "    }\n",
       "</style>\n",
       "<table border=\"1\" class=\"dataframe\">\n",
       "  <thead>\n",
       "    <tr style=\"text-align: right;\">\n",
       "      <th></th>\n",
       "      <th>Source</th>\n",
       "      <th>ddof1</th>\n",
       "      <th>ddof2</th>\n",
       "      <th>F</th>\n",
       "      <th>p-unc</th>\n",
       "      <th>ng2</th>\n",
       "      <th>eps</th>\n",
       "    </tr>\n",
       "  </thead>\n",
       "  <tbody>\n",
       "    <tr>\n",
       "      <th>0</th>\n",
       "      <td>segment</td>\n",
       "      <td>3</td>\n",
       "      <td>207</td>\n",
       "      <td>19.531461</td>\n",
       "      <td>3.441540e-11</td>\n",
       "      <td>0.059034</td>\n",
       "      <td>0.918202</td>\n",
       "    </tr>\n",
       "  </tbody>\n",
       "</table>\n",
       "</div>"
      ],
      "text/plain": [
       "    Source  ddof1  ddof2          F         p-unc       ng2       eps\n",
       "0  segment      3    207  19.531461  3.441540e-11  0.059034  0.918202"
      ]
     },
     "execution_count": 38,
     "metadata": {},
     "output_type": "execute_result"
    }
   ],
   "source": [
    "pg.rm_anova(data=df.loc[df['time_out']==0], \n",
    "            dv='partial_DAS', \n",
    "            within=['segment'], \n",
    "            subject='Participant_ID')"
   ]
  },
  {
   "cell_type": "code",
   "execution_count": null,
   "metadata": {},
   "outputs": [],
   "source": []
  },
  {
   "cell_type": "markdown",
   "metadata": {},
   "source": [
    "#### Plot results"
   ]
  },
  {
   "cell_type": "code",
   "execution_count": 39,
   "metadata": {},
   "outputs": [],
   "source": [
    "mpl.rcParams['axes.edgecolor'] = 'black'     # Farbe der linken Achse\n",
    "mpl.rcParams['axes.linewidth'] = 1.5"
   ]
  },
  {
   "cell_type": "code",
   "execution_count": 40,
   "metadata": {},
   "outputs": [],
   "source": [
    "def just_horizontal_grid():\n",
    "    axs[0].yaxis.grid(True)\n",
    "    axs[0].xaxis.grid(False)\n",
    "    axs[1].yaxis.grid(True)\n",
    "    axs[1].xaxis.grid(False)"
   ]
  },
  {
   "cell_type": "code",
   "execution_count": 41,
   "metadata": {},
   "outputs": [
    {
     "data": {
      "image/png": "[encoded data removed]",
      "text/plain": [
       "<Figure size 1500x500 with 6 Axes>"
      ]
     },
     "metadata": {},
     "output_type": "display_data"
    }
   ],
   "source": [
    "fig = plt.figure(figsize=(15,5), layout='constrained')\n",
    "subFigs = fig.subfigures(1,3, wspace=.1)\n",
    "\n",
    "# A) DAS PROPORTION p(DAS)\n",
    "subFig = subFigs[0]\n",
    "\n",
    "subFig.suptitle('DAS', fontsize=20, fontweight='bold', y=.95)\n",
    "\n",
    "axs = subFig.subplots(1,2, gridspec_kw={'width_ratios':[1,2]})\n",
    "\n",
    "# DAS halves and segments\n",
    "sns.lineplot(data=df['DAS'].groupby([df['Participant_ID'], df['half']], observed=True).mean().rename('DAS_mean').reset_index(), \n",
    "             x='half', \n",
    "             y='DAS_mean', \n",
    "             errorbar='se', err_style='bars', color='black', ax=axs[0])\n",
    "\n",
    "sns.lineplot(data=df['DAS'].groupby([df['Participant_ID'], df['segment']], observed=True).mean().rename('DAS_mean').reset_index(),\n",
    "              x='segment', \n",
    "              y='DAS_mean', \n",
    "              errorbar='se', err_style='bars', color='black', ax=axs[1]) \n",
    "\n",
    "axs[0].set_ylabel('Proportion DAS', fontsize=18)\n",
    "axs[0].set_xlabel('Half', fontsize=18)\n",
    "axs[0].set_xticks(np.arange(2), np.arange(1,3))\n",
    "\n",
    "axs[1].set_xlabel('Segment', fontsize=18)\n",
    "axs[1].set_xticks(np.arange(4), np.arange(1,5))\n",
    "axs[1].set_ylabel('')\n",
    "\n",
    "just_horizontal_grid()\n",
    "\n",
    "[ ax.set_ylim([0,1]) for ax in axs.ravel() ]\n",
    "\n",
    "# Add text 'A' to the upper left corner of axs[0]\n",
    "axs[0].text(-.75, 1.10, 'A', fontsize=20, weight='bold')\n",
    "\n",
    "\n",
    "# B) DAS OPTIMAL\n",
    "\n",
    "subFig = subFigs[1]\n",
    "\n",
    "subFig.suptitle('DAS Optimal', fontsize=20, fontweight='bold', y=.95)\n",
    "\n",
    "axs = subFig.subplots(1,2, gridspec_kw={'width_ratios':[1,2]})\n",
    "\n",
    "sns.lineplot(data=df['DAS'].groupby([df['Participant_ID'], df['DAS_optimal'], df['half']], observed=True).mean().rename('DAS_mean').reset_index(), \n",
    "             x='half', \n",
    "             y='DAS_mean', \n",
    "             style='DAS_optimal', errorbar='se', err_style='bars', color='black', legend=False, ax=axs[0])\n",
    "\n",
    "sns.lineplot(data=df['DAS'].groupby([df['Participant_ID'], df['DAS_optimal'], df['segment']], observed=True).mean().rename('DAS_mean').reset_index(), \n",
    "             x='segment',\n",
    "             y='DAS_mean', \n",
    "             style='DAS_optimal', errorbar='se', err_style='bars', color='black', ax=axs[1])\n",
    "\n",
    "axs[0].set_ylabel('Proportion DAS', fontsize=18)\n",
    "axs[0].set_xlabel('Half', fontsize=18)\n",
    "axs[0].set_xticks(np.arange(2), np.arange(1,3))\n",
    "#axs[0].legend(labels=('False', 'True'), title='DAS optimal', title_fontsize=12, fontsize=12, loc='lower right')\n",
    "\n",
    "axs[1].set_ylabel('')\n",
    "axs[1].set_xlabel('Segment', fontsize=18)\n",
    "axs[1].set_xticks(np.arange(4), np.arange(1,5))\n",
    "axs[1].legend(labels=('False', 'True'), title='DAS optimal', title_fontsize=16, fontsize=16, loc='lower right')\n",
    "\n",
    "just_horizontal_grid()\n",
    "\n",
    "[ ax.set_ylim([0,1]) for ax in axs.ravel() ]\n",
    "\n",
    "# Add text to the upper left corner\n",
    "axs[0].text(-.75, 1.10, 'B', fontsize=20, weight='bold') \n",
    "\n",
    "# C) PARTIAL DAS\n",
    "\n",
    "subFig = subFigs[2]\n",
    "\n",
    "subFig.suptitle('DAS and Partial DAS', fontsize=20, fontweight='bold', y=.95)\n",
    "\n",
    "axs = subFig.subplots(1,2, gridspec_kw={'width_ratios':[1,2]})\n",
    "\n",
    "# partial DAS halves and segments\n",
    "sns.lineplot(data=df['partial_DAS'].groupby([df['Participant_ID'], df['half']], observed=True).mean().rename('part_DAS_mean').reset_index(), \n",
    "             x='half',\n",
    "             y='part_DAS_mean', \n",
    "             errorbar='se', err_style='bars', color='black', linewidth=2, ax=axs[0])\n",
    "\n",
    "sns.lineplot(data=df['partial_DAS'].groupby([df['Participant_ID'], df['segment']], observed=True).mean().rename('part_DAS_mean').reset_index(),\n",
    "              x='segment',\n",
    "              y='part_DAS_mean',  \n",
    "              errorbar='se', err_style='bars', color='black', linewidth=2, ax=axs[1])\n",
    "\n",
    "axs[0].set_ylabel('Proportion DAS and Partial DAS', fontsize=18)\n",
    "axs[0].set_xlabel('Half', fontsize=18)\n",
    "axs[0].set_xticks(np.arange(2), np.arange(1,3))\n",
    "\n",
    "axs[1].set_xlabel('Segment', fontsize=18)\n",
    "axs[1].set_xticks(np.arange(4), np.arange(1,5))\n",
    "axs[1].set_ylabel('')\n",
    "\n",
    "just_horizontal_grid()\n",
    "\n",
    "[ ax.set_ylim([0,1]) for ax in axs.ravel() ]\n",
    "\n",
    "# Add text to the upper left corner\n",
    "axs[0].text(-.75, 1.10, 'C', fontsize=20, weight='bold')\n",
    "\n",
    "sns.despine()\n",
    "\n",
    "#plt.tight_layout()\n",
    "plt.show()\n"
   ]
  },
  {
   "cell_type": "code",
   "execution_count": null,
   "metadata": {},
   "outputs": [],
   "source": []
  },
  {
   "cell_type": "markdown",
   "metadata": {},
   "source": [
    "### 3) Decrease in number of used sequences\n",
    "\n",
    "#### preparatory work"
   ]
  },
  {
   "cell_type": "code",
   "execution_count": 42,
   "metadata": {},
   "outputs": [],
   "source": [
    "# get the unique sequences for each participant at each of the segments\n",
    "dfSequencesSegments = df['sequence_ID'].groupby([df['Participant_ID'], df['segment']]).unique().rename('unique_sequences').reset_index()\n",
    "dfSequencesHalves = df['sequence_ID'].groupby([df['Participant_ID'], df['half']]).unique().rename('unique_sequences').reset_index()\n",
    "\n",
    "# Function to remove 'nan' values from a numpy array\n",
    "def remove_nan_from_list(lst):\n",
    "    return [value for value in lst if not np.isnan(value)]\n",
    "\n",
    "# delete nan entries from df\n",
    "dfSequencesSegments['unique_sequences'] = dfSequencesSegments['unique_sequences'].apply(remove_nan_from_list)\n",
    "dfSequencesHalves['unique_sequences'] = dfSequencesHalves['unique_sequences'].apply(remove_nan_from_list)\n",
    "\n",
    "# count how many different sequences were used at each segment\n",
    "dfSequencesSegments['n_unique_sequences'] = dfSequencesSegments['unique_sequences'].apply(lambda x: len(x))\n",
    "dfSequencesHalves['n_unique_sequences'] = dfSequencesHalves['unique_sequences'].apply(lambda x: len(x))"
   ]
  },
  {
   "cell_type": "markdown",
   "metadata": {},
   "source": [
    "#### summary statistics"
   ]
  },
  {
   "cell_type": "code",
   "execution_count": 43,
   "metadata": {},
   "outputs": [
    {
     "data": {
      "text/html": [
       "<div>\n",
       "<style scoped>\n",
       "    .dataframe tbody tr th:only-of-type {\n",
       "        vertical-align: middle;\n",
       "    }\n",
       "\n",
       "    .dataframe tbody tr th {\n",
       "        vertical-align: top;\n",
       "    }\n",
       "\n",
       "    .dataframe thead th {\n",
       "        text-align: right;\n",
       "    }\n",
       "</style>\n",
       "<table border=\"1\" class=\"dataframe\">\n",
       "  <thead>\n",
       "    <tr style=\"text-align: right;\">\n",
       "      <th></th>\n",
       "      <th>mean</th>\n",
       "      <th>std</th>\n",
       "    </tr>\n",
       "    <tr>\n",
       "      <th>half</th>\n",
       "      <th></th>\n",
       "      <th></th>\n",
       "    </tr>\n",
       "  </thead>\n",
       "  <tbody>\n",
       "    <tr>\n",
       "      <th>0</th>\n",
       "      <td>16.87</td>\n",
       "      <td>5.94</td>\n",
       "    </tr>\n",
       "    <tr>\n",
       "      <th>1</th>\n",
       "      <td>15.30</td>\n",
       "      <td>5.58</td>\n",
       "    </tr>\n",
       "  </tbody>\n",
       "</table>\n",
       "</div>"
      ],
      "text/plain": [
       "       mean   std\n",
       "half             \n",
       "0     16.87  5.94\n",
       "1     15.30  5.58"
      ]
     },
     "execution_count": 43,
     "metadata": {},
     "output_type": "execute_result"
    }
   ],
   "source": [
    "dfSequencesHalves['n_unique_sequences'].groupby(dfSequencesHalves['half']).agg(['mean', 'std']).round(2)"
   ]
  },
  {
   "cell_type": "code",
   "execution_count": 44,
   "metadata": {},
   "outputs": [
    {
     "data": {
      "text/html": [
       "<div>\n",
       "<style scoped>\n",
       "    .dataframe tbody tr th:only-of-type {\n",
       "        vertical-align: middle;\n",
       "    }\n",
       "\n",
       "    .dataframe tbody tr th {\n",
       "        vertical-align: top;\n",
       "    }\n",
       "\n",
       "    .dataframe thead th {\n",
       "        text-align: right;\n",
       "    }\n",
       "</style>\n",
       "<table border=\"1\" class=\"dataframe\">\n",
       "  <thead>\n",
       "    <tr style=\"text-align: right;\">\n",
       "      <th></th>\n",
       "      <th>mean</th>\n",
       "      <th>std</th>\n",
       "    </tr>\n",
       "    <tr>\n",
       "      <th>segment</th>\n",
       "      <th></th>\n",
       "      <th></th>\n",
       "    </tr>\n",
       "  </thead>\n",
       "  <tbody>\n",
       "    <tr>\n",
       "      <th>0</th>\n",
       "      <td>12.71</td>\n",
       "      <td>5.07</td>\n",
       "    </tr>\n",
       "    <tr>\n",
       "      <th>1</th>\n",
       "      <td>10.61</td>\n",
       "      <td>4.39</td>\n",
       "    </tr>\n",
       "    <tr>\n",
       "      <th>2</th>\n",
       "      <td>11.14</td>\n",
       "      <td>4.24</td>\n",
       "    </tr>\n",
       "    <tr>\n",
       "      <th>3</th>\n",
       "      <td>10.31</td>\n",
       "      <td>4.70</td>\n",
       "    </tr>\n",
       "  </tbody>\n",
       "</table>\n",
       "</div>"
      ],
      "text/plain": [
       "          mean   std\n",
       "segment             \n",
       "0        12.71  5.07\n",
       "1        10.61  4.39\n",
       "2        11.14  4.24\n",
       "3        10.31  4.70"
      ]
     },
     "execution_count": 44,
     "metadata": {},
     "output_type": "execute_result"
    }
   ],
   "source": [
    "dfSequencesSegments['n_unique_sequences'].groupby(dfSequencesSegments['segment']).agg(['mean', 'std']).round(2)"
   ]
  },
  {
   "cell_type": "markdown",
   "metadata": {},
   "source": [
    "#### test for decrease over halves"
   ]
  },
  {
   "cell_type": "code",
   "execution_count": 45,
   "metadata": {},
   "outputs": [
    {
     "data": {
      "text/html": [
       "<div>\n",
       "<style scoped>\n",
       "    .dataframe tbody tr th:only-of-type {\n",
       "        vertical-align: middle;\n",
       "    }\n",
       "\n",
       "    .dataframe tbody tr th {\n",
       "        vertical-align: top;\n",
       "    }\n",
       "\n",
       "    .dataframe thead th {\n",
       "        text-align: right;\n",
       "    }\n",
       "</style>\n",
       "<table border=\"1\" class=\"dataframe\">\n",
       "  <thead>\n",
       "    <tr style=\"text-align: right;\">\n",
       "      <th></th>\n",
       "      <th>T</th>\n",
       "      <th>dof</th>\n",
       "      <th>alternative</th>\n",
       "      <th>p-val</th>\n",
       "      <th>CI95%</th>\n",
       "      <th>cohen-d</th>\n",
       "      <th>BF10</th>\n",
       "      <th>power</th>\n",
       "    </tr>\n",
       "  </thead>\n",
       "  <tbody>\n",
       "    <tr>\n",
       "      <th>T-test</th>\n",
       "      <td>3.526</td>\n",
       "      <td>69</td>\n",
       "      <td>greater</td>\n",
       "      <td>0.0</td>\n",
       "      <td>[0.83, inf]</td>\n",
       "      <td>0.273</td>\n",
       "      <td>65.571</td>\n",
       "      <td>0.73</td>\n",
       "    </tr>\n",
       "  </tbody>\n",
       "</table>\n",
       "</div>"
      ],
      "text/plain": [
       "            T  dof alternative  p-val        CI95%  cohen-d    BF10  power\n",
       "T-test  3.526   69     greater    0.0  [0.83, inf]    0.273  65.571   0.73"
      ]
     },
     "execution_count": 45,
     "metadata": {},
     "output_type": "execute_result"
    }
   ],
   "source": [
    "pg.ttest(x=dfSequencesHalves.loc[dfSequencesHalves['half']==0, 'n_unique_sequences'], \n",
    "         y=dfSequencesHalves.loc[dfSequencesHalves['half']==1, 'n_unique_sequences'], \n",
    "         paired=True, \n",
    "         alternative='greater').round(3)"
   ]
  },
  {
   "cell_type": "markdown",
   "metadata": {},
   "source": [
    "#### test for decrease over segments"
   ]
  },
  {
   "cell_type": "code",
   "execution_count": 46,
   "metadata": {},
   "outputs": [
    {
     "data": {
      "text/html": [
       "<div>\n",
       "<style scoped>\n",
       "    .dataframe tbody tr th:only-of-type {\n",
       "        vertical-align: middle;\n",
       "    }\n",
       "\n",
       "    .dataframe tbody tr th {\n",
       "        vertical-align: top;\n",
       "    }\n",
       "\n",
       "    .dataframe thead th {\n",
       "        text-align: right;\n",
       "    }\n",
       "</style>\n",
       "<table border=\"1\" class=\"dataframe\">\n",
       "  <thead>\n",
       "    <tr style=\"text-align: right;\">\n",
       "      <th></th>\n",
       "      <th>Source</th>\n",
       "      <th>ddof1</th>\n",
       "      <th>ddof2</th>\n",
       "      <th>F</th>\n",
       "      <th>p-unc</th>\n",
       "      <th>ng2</th>\n",
       "      <th>eps</th>\n",
       "    </tr>\n",
       "  </thead>\n",
       "  <tbody>\n",
       "    <tr>\n",
       "      <th>0</th>\n",
       "      <td>segment</td>\n",
       "      <td>3</td>\n",
       "      <td>207</td>\n",
       "      <td>13.884</td>\n",
       "      <td>0.0</td>\n",
       "      <td>0.039</td>\n",
       "      <td>0.963</td>\n",
       "    </tr>\n",
       "  </tbody>\n",
       "</table>\n",
       "</div>"
      ],
      "text/plain": [
       "    Source  ddof1  ddof2       F  p-unc    ng2    eps\n",
       "0  segment      3    207  13.884    0.0  0.039  0.963"
      ]
     },
     "execution_count": 46,
     "metadata": {},
     "output_type": "execute_result"
    }
   ],
   "source": [
    "# perform rmANOVA\n",
    "pg.rm_anova(data=dfSequencesSegments, \n",
    "            dv='n_unique_sequences', \n",
    "            within=['segment'], \n",
    "            subject='Participant_ID').round(3)"
   ]
  },
  {
   "cell_type": "markdown",
   "metadata": {},
   "source": [
    "#### calculate correlation between decrease over halves and reward difference"
   ]
  },
  {
   "cell_type": "code",
   "execution_count": 47,
   "metadata": {},
   "outputs": [],
   "source": [
    "# add mean reward to df\n",
    "dfSequencesHalves['reward'] = df['reward'].groupby([df['Participant_ID'], df['half']]).mean().rename('mean_reward').reset_index()['mean_reward']\n",
    "\n",
    "# calculate differences of no. of sequences and rewards\n",
    "dfSequencesHalvesDiffs = dfSequencesHalves.loc[dfSequencesHalves['half']==1, \n",
    "                                               ['n_unique_sequences', 'reward']].reset_index()-dfSequencesHalves.loc[dfSequencesHalves['half']==0, \n",
    "                                                ['n_unique_sequences', 'reward']].reset_index()"
   ]
  },
  {
   "cell_type": "code",
   "execution_count": 48,
   "metadata": {},
   "outputs": [
    {
     "data": {
      "text/html": [
       "<div>\n",
       "<style scoped>\n",
       "    .dataframe tbody tr th:only-of-type {\n",
       "        vertical-align: middle;\n",
       "    }\n",
       "\n",
       "    .dataframe tbody tr th {\n",
       "        vertical-align: top;\n",
       "    }\n",
       "\n",
       "    .dataframe thead th {\n",
       "        text-align: right;\n",
       "    }\n",
       "</style>\n",
       "<table border=\"1\" class=\"dataframe\">\n",
       "  <thead>\n",
       "    <tr style=\"text-align: right;\">\n",
       "      <th></th>\n",
       "      <th>n</th>\n",
       "      <th>r</th>\n",
       "      <th>CI95%</th>\n",
       "      <th>p-val</th>\n",
       "      <th>BF10</th>\n",
       "      <th>power</th>\n",
       "    </tr>\n",
       "  </thead>\n",
       "  <tbody>\n",
       "    <tr>\n",
       "      <th>pearson</th>\n",
       "      <td>70</td>\n",
       "      <td>-0.376205</td>\n",
       "      <td>[-0.56, -0.15]</td>\n",
       "      <td>0.001329</td>\n",
       "      <td>23.169</td>\n",
       "      <td>0.902994</td>\n",
       "    </tr>\n",
       "  </tbody>\n",
       "</table>\n",
       "</div>"
      ],
      "text/plain": [
       "          n         r           CI95%     p-val    BF10     power\n",
       "pearson  70 -0.376205  [-0.56, -0.15]  0.001329  23.169  0.902994"
      ]
     },
     "execution_count": 48,
     "metadata": {},
     "output_type": "execute_result"
    }
   ],
   "source": [
    "pg.corr(x=dfSequencesHalvesDiffs['n_unique_sequences'], \n",
    "        y=dfSequencesHalvesDiffs['reward'])"
   ]
  },
  {
   "cell_type": "markdown",
   "metadata": {},
   "source": [
    "#### Plot results"
   ]
  },
  {
   "cell_type": "code",
   "execution_count": 49,
   "metadata": {},
   "outputs": [
    {
     "data": {
      "image/png": "[encoded data removed]",
      "text/plain": [
       "<Figure size 1500x500 with 3 Axes>"
      ]
     },
     "metadata": {},
     "output_type": "display_data"
    }
   ],
   "source": [
    "fig, axs = plt.subplots(1, 3, figsize=(15,5), width_ratios=[1,2,2])\n",
    "\n",
    "# A) used sequences depending on halves\n",
    "sns.lineplot(data=dfSequencesHalves, x='half', y='n_unique_sequences', errorbar='se', err_style='bars', color='black', ax=axs[0])\n",
    "axs[0].set_ylabel('No. of different Sequences used', fontsize=18)\n",
    "axs[0].set_xlabel('Half', fontsize=18)\n",
    "axs[0].set_xticks([0,1], ['1', '2'])\n",
    "axs[0].set_ylim([14,18])\n",
    "axs[0].yaxis.grid(True)\n",
    "axs[0].xaxis.grid(False)\n",
    "axs[0].text(-.5, 18.2, 'A', fontsize=20, weight='bold')\n",
    "\n",
    "# B) used sequences depending on segments\n",
    "sns.lineplot(data=dfSequencesSegments, x='segment', y='n_unique_sequences', errorbar='se', err_style='bars', color='black', ax=axs[1])\n",
    "axs[1].set_ylabel('')\n",
    "axs[1].set_xlabel('Segment', fontsize=18)\n",
    "axs[1].yaxis.grid(True)\n",
    "axs[1].xaxis.grid(False)\n",
    "axs[1].set_xticks(np.arange(4), np.arange(4)+1)\n",
    "axs[1].set_ylim([9,13.5])\n",
    "\n",
    "# C) correlation of differences of used sequences and mean reward\n",
    "sns.regplot(data=dfSequencesHalvesDiffs, x='n_unique_sequences', y='reward', color='black', ax=axs[2])\n",
    "axs[2].set_xlabel(r'$\\Delta$No. of used sequences', fontsize=18)\n",
    "axs[2].set_ylabel(r'$\\Delta$Mean reward per trial', fontsize=18)\n",
    "axs[2].text(-19.5, 14.9, 'B', fontsize=20, weight='bold')\n",
    "\n",
    "sns.despine()\n",
    "plt.tight_layout()\n",
    "plt.show()"
   ]
  },
  {
   "cell_type": "code",
   "execution_count": null,
   "metadata": {},
   "outputs": [],
   "source": []
  },
  {
   "cell_type": "code",
   "execution_count": 50,
   "metadata": {},
   "outputs": [
    {
     "name": "stdout",
     "output_type": "stream",
     "text": [
      "Last updated: Mon May 06 2024\n",
      "\n",
      "Python implementation: CPython\n",
      "Python version       : 3.11.0\n",
      "IPython version      : 8.20.0\n",
      "\n",
      "matplotlib: 3.8.4\n",
      "numpy     : 1.26.4\n",
      "seaborn   : 0.12.2\n",
      "pandas    : 2.2.1\n",
      "pingouin  : 0.5.4\n",
      "sys       : 3.11.0 | packaged by conda-forge | (main, Jan 15 2023, 05:44:48) [Clang 14.0.6 ]\n",
      "\n",
      "Watermark: 2.3.1\n",
      "\n"
     ]
    }
   ],
   "source": [
    "# print date of last changes and version numbers\n",
    "%load_ext watermark\n",
    "\n",
    "%watermark -n -u -v -iv -w"
   ]
  }
 ],
 "metadata": {
  "kernelspec": {
   "display_name": "pymc_env",
   "language": "python",
   "name": "python3"
  },
  "language_info": {
   "codemirror_mode": {
    "name": "ipython",
    "version": 3
   },
   "file_extension": ".py",
   "mimetype": "text/x-python",
   "name": "python",
   "nbconvert_exporter": "python",
   "pygments_lexer": "ipython3",
   "version": "3.11.6"
  }
 },
 "nbformat": 4,
 "nbformat_minor": 2
}
