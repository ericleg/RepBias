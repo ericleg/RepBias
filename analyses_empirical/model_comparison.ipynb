{
 "cells": [
  {
   "cell_type": "code",
   "execution_count": 1,
   "metadata": {},
   "outputs": [],
   "source": [
    "import numpy as np\n",
    "import pandas as pd\n",
    "import seaborn as sns\n",
    "import matplotlib.pyplot as plt\n",
    "import pickle\n",
    "import arviz as az\n",
    "import pingouin as pg\n",
    "import sys"
   ]
  },
  {
   "cell_type": "code",
   "execution_count": 2,
   "metadata": {},
   "outputs": [],
   "source": [
    "# load file with plotting stlye definitions\n",
    "sys.path.append('../')\n",
    "plt.style.use('plotting_style.mpltstyle')"
   ]
  },
  {
   "cell_type": "markdown",
   "metadata": {},
   "source": [
    "# Model Comparison\n",
    "This notebook shows inferred parameter distributions of all models and performs model comparison based on LOO from the ArviZ package.\n",
    "\n",
    "### Load Posteriors"
   ]
  },
  {
   "cell_type": "code",
   "execution_count": 3,
   "metadata": {},
   "outputs": [],
   "source": [
    "def load_posteriors(path, filename):\n",
    "    filename = f'{path}/{filename}'\n",
    "    with open(filename, 'rb') as f:\n",
    "        posterior = pd.read_pickle(f)\n",
    "\n",
    "    return posterior"
   ]
  },
  {
   "cell_type": "code",
   "execution_count": null,
   "metadata": {},
   "outputs": [],
   "source": [
    "# load posteriors -> SELECT RIGHT PATH DEPENDING ON OS!\n",
    "#path = '/Volumes/T7/Pacman_Pickle' # iOS\n",
    "path = 'E:Pacman_Pickle/' # Windows"
   ]
  },
  {
   "cell_type": "code",
   "execution_count": null,
   "metadata": {},
   "outputs": [],
   "source": [
    "posteriorsEVM = load_posteriors(path, 'posterior_EVM_empirical.pkl') \n",
    "posteriorsEVPM = load_posteriors(path, 'posterior_EVPM_empirical.pkl')\n",
    "posteriorsEVPBM = load_posteriors(path, 'posterior_EVPBM_empirical.pkl')\n",
    "posteriorsEVPRM = load_posteriors(path, 'posterior_EVPRM_empirical.pkl')\n",
    "# posteriorsEVPRMv2 = load_posteriors(path, 'posterior_EVPRM_v2_empirical.pkl')"
   ]
  },
  {
   "cell_type": "markdown",
   "metadata": {},
   "source": [
    "## Calculate LOOs"
   ]
  },
  {
   "cell_type": "code",
   "execution_count": null,
   "metadata": {},
   "outputs": [],
   "source": [
    "# deviance scale (for LOO model comparison)\n",
    "loosEVM = az.loo(posteriorsEVM, scale='deviance', pointwise=True)\n",
    "loosEVPM = az.loo(posteriorsEVPM, scale='deviance', pointwise=True)\n",
    "loosEVPBM = az.loo(posteriorsEVPBM, scale='deviance', pointwise=True)\n",
    "loosEVPRM = az.loo(posteriorsEVPRM, scale='deviance', pointwise=True)\n",
    "# loosEVPRMv2 = az.loo(posteriorsEVPRMv2, scale='deviance', pointwise=True)"
   ]
  },
  {
   "cell_type": "code",
   "execution_count": 110,
   "metadata": {},
   "outputs": [],
   "source": [
    "# save the LOOs\n",
    "#f = open('../data_empirical/LOOs.pkl', 'wb')\n",
    "#pickle.dump((loosEVM, loosEVPM, loosEVPBM, loosEVPRM), f) #, loosEVPRMv2\n",
    "#f.close()"
   ]
  },
  {
   "cell_type": "markdown",
   "metadata": {},
   "source": [
    "## Model Comparison Group-Level"
   ]
  },
  {
   "cell_type": "code",
   "execution_count": 6,
   "metadata": {},
   "outputs": [],
   "source": [
    "# load LOOs\n",
    "f = open('../data_empirical/LOOs.pkl', 'rb')\n",
    "loosEVM, loosEVPM, loosEVPBM, loosEVPRM = pd.read_pickle(f) #, loosEVPRMv2\n",
    "f.close()"
   ]
  },
  {
   "cell_type": "code",
   "execution_count": 7,
   "metadata": {},
   "outputs": [],
   "source": [
    "# create df with LOOs (incl. SE)\n",
    "dfModelComparison = pd.DataFrame(index=['EVM', 'EVPM', 'EVPBM', 'EVPRM']) #, 'EVPRM_v2'\n",
    "dfModelComparison['LOOIC'] = np.array([loosEVM.elpd_loo, loosEVPM.elpd_loo, loosEVPBM.elpd_loo, loosEVPRM.elpd_loo]) #, loosEVPRMv2.elpd_loo])\n",
    "dfModelComparison['SE'] = np.array([loosEVM.se, loosEVPM.se, loosEVPBM.se, loosEVPRM.se]) #, loosEVPRMv2.se])\n",
    "\n",
    "# add LOOIC difference of all models compared to winning EVPRM model for nicer plotting\n",
    "dfModelComparison['delta_LOOIC'] = np.abs(dfModelComparison['LOOIC']-dfModelComparison.iloc[3,0])"
   ]
  },
  {
   "cell_type": "code",
   "execution_count": 8,
   "metadata": {},
   "outputs": [
    {
     "data": {
      "text/html": [
       "<div>\n",
       "<style scoped>\n",
       "    .dataframe tbody tr th:only-of-type {\n",
       "        vertical-align: middle;\n",
       "    }\n",
       "\n",
       "    .dataframe tbody tr th {\n",
       "        vertical-align: top;\n",
       "    }\n",
       "\n",
       "    .dataframe thead th {\n",
       "        text-align: right;\n",
       "    }\n",
       "</style>\n",
       "<table border=\"1\" class=\"dataframe\">\n",
       "  <thead>\n",
       "    <tr style=\"text-align: right;\">\n",
       "      <th></th>\n",
       "      <th>LOOIC</th>\n",
       "      <th>SE</th>\n",
       "      <th>delta_LOOIC</th>\n",
       "    </tr>\n",
       "  </thead>\n",
       "  <tbody>\n",
       "    <tr>\n",
       "      <th>EVM</th>\n",
       "      <td>162308.575947</td>\n",
       "      <td>1355.019012</td>\n",
       "      <td>92365.758752</td>\n",
       "    </tr>\n",
       "    <tr>\n",
       "      <th>EVPM</th>\n",
       "      <td>74301.956584</td>\n",
       "      <td>1018.948130</td>\n",
       "      <td>4359.139389</td>\n",
       "    </tr>\n",
       "    <tr>\n",
       "      <th>EVPBM</th>\n",
       "      <td>73285.863946</td>\n",
       "      <td>983.731043</td>\n",
       "      <td>3343.046752</td>\n",
       "    </tr>\n",
       "    <tr>\n",
       "      <th>EVPRM</th>\n",
       "      <td>69942.817195</td>\n",
       "      <td>825.938841</td>\n",
       "      <td>0.000000</td>\n",
       "    </tr>\n",
       "  </tbody>\n",
       "</table>\n",
       "</div>"
      ],
      "text/plain": [
       "               LOOIC           SE   delta_LOOIC\n",
       "EVM    162308.575947  1355.019012  92365.758752\n",
       "EVPM    74301.956584  1018.948130   4359.139389\n",
       "EVPBM   73285.863946   983.731043   3343.046752\n",
       "EVPRM   69942.817195   825.938841      0.000000"
      ]
     },
     "execution_count": 8,
     "metadata": {},
     "output_type": "execute_result"
    }
   ],
   "source": [
    "dfModelComparison"
   ]
  },
  {
   "cell_type": "markdown",
   "metadata": {},
   "source": [
    "### Model Comparison (McElreath Approach)"
   ]
  },
  {
   "cell_type": "markdown",
   "metadata": {},
   "source": [
    "This approach was suggested by McElreath in Statistical Rethinking (Chapter 7.5) and based on the SE of the LOO differences. ArviZ uses this approach for <code>az.compare</code>.\n",
    "\n",
    "(see https://learning.oreilly.com/library/view/statistical-rethinking-2nd/9780429639142/xhtml/15_Chapter07.xhtml#sec7_5)"
   ]
  },
  {
   "cell_type": "code",
   "execution_count": 114,
   "metadata": {},
   "outputs": [
    {
     "name": "stderr",
     "output_type": "stream",
     "text": [
      "/Users/Eric/miniconda3/envs/pymc_env/lib/python3.11/site-packages/arviz/stats/stats.py:789: UserWarning: Estimated shape parameter of Pareto distribution is greater than 0.7 for one or more samples. You should consider using a more robust model, this is because importance sampling is less likely to work well if the marginal posterior and LOO posterior are very different. This is more likely to happen with a non-robust model and highly influential observations.\n",
      "  warnings.warn(\n",
      "/Users/Eric/miniconda3/envs/pymc_env/lib/python3.11/site-packages/arviz/stats/stats.py:789: UserWarning: Estimated shape parameter of Pareto distribution is greater than 0.7 for one or more samples. You should consider using a more robust model, this is because importance sampling is less likely to work well if the marginal posterior and LOO posterior are very different. This is more likely to happen with a non-robust model and highly influential observations.\n",
      "  warnings.warn(\n",
      "/Users/Eric/miniconda3/envs/pymc_env/lib/python3.11/site-packages/arviz/stats/stats.py:789: UserWarning: Estimated shape parameter of Pareto distribution is greater than 0.7 for one or more samples. You should consider using a more robust model, this is because importance sampling is less likely to work well if the marginal posterior and LOO posterior are very different. This is more likely to happen with a non-robust model and highly influential observations.\n",
      "  warnings.warn(\n"
     ]
    }
   ],
   "source": [
    "compareDict = {'EVPM':posteriorsEVPM, 'EVPBM':posteriorsEVPBM, 'EVPRM':posteriorsEVPRM, 'EVM':posteriorsEVM} #'EVPRM_v2':posteriorsEVPRMv2,\n",
    "modelComparison = az.compare(compareDict, scale='deviance')"
   ]
  },
  {
   "cell_type": "code",
   "execution_count": 115,
   "metadata": {},
   "outputs": [
    {
     "data": {
      "text/html": [
       "<div>\n",
       "<style scoped>\n",
       "    .dataframe tbody tr th:only-of-type {\n",
       "        vertical-align: middle;\n",
       "    }\n",
       "\n",
       "    .dataframe tbody tr th {\n",
       "        vertical-align: top;\n",
       "    }\n",
       "\n",
       "    .dataframe thead th {\n",
       "        text-align: right;\n",
       "    }\n",
       "</style>\n",
       "<table border=\"1\" class=\"dataframe\">\n",
       "  <thead>\n",
       "    <tr style=\"text-align: right;\">\n",
       "      <th></th>\n",
       "      <th>rank</th>\n",
       "      <th>elpd_loo</th>\n",
       "      <th>p_loo</th>\n",
       "      <th>elpd_diff</th>\n",
       "      <th>weight</th>\n",
       "      <th>se</th>\n",
       "      <th>dse</th>\n",
       "      <th>warning</th>\n",
       "      <th>scale</th>\n",
       "    </tr>\n",
       "  </thead>\n",
       "  <tbody>\n",
       "    <tr>\n",
       "      <th>EVPRM</th>\n",
       "      <td>0</td>\n",
       "      <td>69942.817195</td>\n",
       "      <td>810.924480</td>\n",
       "      <td>0.000000</td>\n",
       "      <td>6.555192e-01</td>\n",
       "      <td>825.938841</td>\n",
       "      <td>0.000000</td>\n",
       "      <td>True</td>\n",
       "      <td>deviance</td>\n",
       "    </tr>\n",
       "    <tr>\n",
       "      <th>EVPBM</th>\n",
       "      <td>1</td>\n",
       "      <td>73285.863946</td>\n",
       "      <td>1054.579899</td>\n",
       "      <td>3343.046752</td>\n",
       "      <td>4.433028e-12</td>\n",
       "      <td>983.731043</td>\n",
       "      <td>382.346319</td>\n",
       "      <td>True</td>\n",
       "      <td>deviance</td>\n",
       "    </tr>\n",
       "    <tr>\n",
       "      <th>EVPM</th>\n",
       "      <td>2</td>\n",
       "      <td>74301.956584</td>\n",
       "      <td>772.521729</td>\n",
       "      <td>4359.139389</td>\n",
       "      <td>3.290715e-01</td>\n",
       "      <td>1018.948130</td>\n",
       "      <td>421.925339</td>\n",
       "      <td>True</td>\n",
       "      <td>deviance</td>\n",
       "    </tr>\n",
       "    <tr>\n",
       "      <th>EVM</th>\n",
       "      <td>3</td>\n",
       "      <td>162308.575947</td>\n",
       "      <td>371.924369</td>\n",
       "      <td>92365.758752</td>\n",
       "      <td>1.540930e-02</td>\n",
       "      <td>1355.019012</td>\n",
       "      <td>1319.666900</td>\n",
       "      <td>False</td>\n",
       "      <td>deviance</td>\n",
       "    </tr>\n",
       "  </tbody>\n",
       "</table>\n",
       "</div>"
      ],
      "text/plain": [
       "       rank       elpd_loo        p_loo     elpd_diff        weight  \\\n",
       "EVPRM     0   69942.817195   810.924480      0.000000  6.555192e-01   \n",
       "EVPBM     1   73285.863946  1054.579899   3343.046752  4.433028e-12   \n",
       "EVPM      2   74301.956584   772.521729   4359.139389  3.290715e-01   \n",
       "EVM       3  162308.575947   371.924369  92365.758752  1.540930e-02   \n",
       "\n",
       "                se          dse  warning     scale  \n",
       "EVPRM   825.938841     0.000000     True  deviance  \n",
       "EVPBM   983.731043   382.346319     True  deviance  \n",
       "EVPM   1018.948130   421.925339     True  deviance  \n",
       "EVM    1355.019012  1319.666900    False  deviance  "
      ]
     },
     "execution_count": 115,
     "metadata": {},
     "output_type": "execute_result"
    }
   ],
   "source": [
    "modelComparison"
   ]
  },
  {
   "cell_type": "code",
   "execution_count": 116,
   "metadata": {},
   "outputs": [],
   "source": [
    "# save (pickle) model comparison result\n",
    "#f = open('../data_empirical/model_comparison.pkl', 'wb')\n",
    "#pickle.dump(modelComparison, f)\n",
    "#f.close()"
   ]
  },
  {
   "cell_type": "code",
   "execution_count": 117,
   "metadata": {},
   "outputs": [
    {
     "name": "stderr",
     "output_type": "stream",
     "text": [
      "/Users/Eric/miniconda3/envs/pymc_env/lib/python3.11/site-packages/arviz/stats/stats.py:789: UserWarning: Estimated shape parameter of Pareto distribution is greater than 0.7 for one or more samples. You should consider using a more robust model, this is because importance sampling is less likely to work well if the marginal posterior and LOO posterior are very different. This is more likely to happen with a non-robust model and highly influential observations.\n",
      "  warnings.warn(\n",
      "/Users/Eric/miniconda3/envs/pymc_env/lib/python3.11/site-packages/arviz/stats/stats.py:789: UserWarning: Estimated shape parameter of Pareto distribution is greater than 0.7 for one or more samples. You should consider using a more robust model, this is because importance sampling is less likely to work well if the marginal posterior and LOO posterior are very different. This is more likely to happen with a non-robust model and highly influential observations.\n",
      "  warnings.warn(\n",
      "/Users/Eric/miniconda3/envs/pymc_env/lib/python3.11/site-packages/arviz/stats/stats.py:789: UserWarning: Estimated shape parameter of Pareto distribution is greater than 0.7 for one or more samples. You should consider using a more robust model, this is because importance sampling is less likely to work well if the marginal posterior and LOO posterior are very different. This is more likely to happen with a non-robust model and highly influential observations.\n",
      "  warnings.warn(\n"
     ]
    },
    {
     "data": {
      "text/plain": [
       "<Axes: title={'center': 'Model comparison\\nlower is better'}, xlabel='elpd_loo (deviance)', ylabel='ranked models'>"
      ]
     },
     "execution_count": 117,
     "metadata": {},
     "output_type": "execute_result"
    },
    {
     "data": {
      "image/png": "[encoded data removed]",
      "text/plain": [
       "<Figure size 600x300 with 1 Axes>"
      ]
     },
     "metadata": {},
     "output_type": "display_data"
    }
   ],
   "source": [
    "# create plot without EVM (reason to repeat az.compare)\n",
    "compareDict = {'EVPM':posteriorsEVPM, 'EVPBM':posteriorsEVPBM, 'EVPRM':posteriorsEVPRM,} # 'EVPRM_v2':posteriorsEVPRMv2}\n",
    "modelComparison = az.compare(compareDict, scale='deviance')\n",
    "az.plot_compare(modelComparison)"
   ]
  },
  {
   "cell_type": "markdown",
   "metadata": {},
   "source": [
    "$\\to$ no significant difference between EVPRM and EVPRMv2 $\\to$ further analyses with EVPRM only, because EVPRM has less free parameters"
   ]
  },
  {
   "cell_type": "code",
   "execution_count": null,
   "metadata": {},
   "outputs": [],
   "source": []
  },
  {
   "cell_type": "markdown",
   "metadata": {},
   "source": [
    "## Model Comparison Participant-Level"
   ]
  },
  {
   "cell_type": "code",
   "execution_count": 7,
   "metadata": {},
   "outputs": [],
   "source": [
    "#f = open('../data_empirical/LOOs.pkl', 'rb')\n",
    "#loosEVM, loosEVPM, loosEVPBM, loosEVPRM = pickle.load(f)\n",
    "#f.close()"
   ]
  },
  {
   "cell_type": "code",
   "execution_count": 13,
   "metadata": {},
   "outputs": [],
   "source": [
    "# load empirical data (to know the trial IDs of time out trials)\n",
    "dfData = pd.read_csv('../inference_data/data_behavior.csv', header=0, usecols=['Participant_ID', 'file_name', 'time_out', 'sequence_ID']) \n",
    "\n",
    "# get the participant Idxs of the non time out trials\n",
    "nonTimeOutIdxs = dfData.loc[dfData['time_out']==0, 'Participant_ID'].to_numpy()"
   ]
  },
  {
   "cell_type": "code",
   "execution_count": 10,
   "metadata": {},
   "outputs": [
    {
     "data": {
      "text/html": [
       "<div>\n",
       "<style scoped>\n",
       "    .dataframe tbody tr th:only-of-type {\n",
       "        vertical-align: middle;\n",
       "    }\n",
       "\n",
       "    .dataframe tbody tr th {\n",
       "        vertical-align: top;\n",
       "    }\n",
       "\n",
       "    .dataframe thead th {\n",
       "        text-align: right;\n",
       "    }\n",
       "</style>\n",
       "<table border=\"1\" class=\"dataframe\">\n",
       "  <thead>\n",
       "    <tr style=\"text-align: right;\">\n",
       "      <th></th>\n",
       "      <th>Participant_ID</th>\n",
       "      <th>EVM</th>\n",
       "      <th>EVPM</th>\n",
       "      <th>EVPBM</th>\n",
       "      <th>EVPRM</th>\n",
       "      <th>best_fit</th>\n",
       "      <th>file_name</th>\n",
       "    </tr>\n",
       "  </thead>\n",
       "  <tbody>\n",
       "    <tr>\n",
       "      <th>0</th>\n",
       "      <td>0</td>\n",
       "      <td>2403.180354</td>\n",
       "      <td>865.880793</td>\n",
       "      <td>863.100238</td>\n",
       "      <td>865.957918</td>\n",
       "      <td>EVPBM</td>\n",
       "      <td>1635170782.csv</td>\n",
       "    </tr>\n",
       "    <tr>\n",
       "      <th>1</th>\n",
       "      <td>1</td>\n",
       "      <td>2205.367658</td>\n",
       "      <td>577.384116</td>\n",
       "      <td>573.241222</td>\n",
       "      <td>577.382066</td>\n",
       "      <td>EVPBM</td>\n",
       "      <td>1635086955.csv</td>\n",
       "    </tr>\n",
       "    <tr>\n",
       "      <th>2</th>\n",
       "      <td>2</td>\n",
       "      <td>3380.777419</td>\n",
       "      <td>1809.344016</td>\n",
       "      <td>1809.130683</td>\n",
       "      <td>1475.132897</td>\n",
       "      <td>EVPRM</td>\n",
       "      <td>1635587894.csv</td>\n",
       "    </tr>\n",
       "    <tr>\n",
       "      <th>3</th>\n",
       "      <td>3</td>\n",
       "      <td>2229.268938</td>\n",
       "      <td>750.982170</td>\n",
       "      <td>747.323072</td>\n",
       "      <td>767.043619</td>\n",
       "      <td>EVPBM</td>\n",
       "      <td>1635169562.csv</td>\n",
       "    </tr>\n",
       "    <tr>\n",
       "      <th>4</th>\n",
       "      <td>4</td>\n",
       "      <td>1691.499682</td>\n",
       "      <td>406.377459</td>\n",
       "      <td>408.104072</td>\n",
       "      <td>410.624857</td>\n",
       "      <td>EVPM</td>\n",
       "      <td>1635250159.csv</td>\n",
       "    </tr>\n",
       "    <tr>\n",
       "      <th>...</th>\n",
       "      <td>...</td>\n",
       "      <td>...</td>\n",
       "      <td>...</td>\n",
       "      <td>...</td>\n",
       "      <td>...</td>\n",
       "      <td>...</td>\n",
       "      <td>...</td>\n",
       "    </tr>\n",
       "    <tr>\n",
       "      <th>65</th>\n",
       "      <td>65</td>\n",
       "      <td>2241.460656</td>\n",
       "      <td>882.615477</td>\n",
       "      <td>884.905881</td>\n",
       "      <td>888.071702</td>\n",
       "      <td>EVPM</td>\n",
       "      <td>1635702814.csv</td>\n",
       "    </tr>\n",
       "    <tr>\n",
       "      <th>66</th>\n",
       "      <td>66</td>\n",
       "      <td>2137.107017</td>\n",
       "      <td>617.515625</td>\n",
       "      <td>615.593564</td>\n",
       "      <td>615.105489</td>\n",
       "      <td>EVPRM</td>\n",
       "      <td>1635431069.csv</td>\n",
       "    </tr>\n",
       "    <tr>\n",
       "      <th>67</th>\n",
       "      <td>67</td>\n",
       "      <td>2168.559483</td>\n",
       "      <td>569.777387</td>\n",
       "      <td>552.456146</td>\n",
       "      <td>573.887888</td>\n",
       "      <td>EVPBM</td>\n",
       "      <td>1635254246.csv</td>\n",
       "    </tr>\n",
       "    <tr>\n",
       "      <th>68</th>\n",
       "      <td>68</td>\n",
       "      <td>2361.985411</td>\n",
       "      <td>1218.009680</td>\n",
       "      <td>1207.743448</td>\n",
       "      <td>1203.992552</td>\n",
       "      <td>EVPRM</td>\n",
       "      <td>1635198780.csv</td>\n",
       "    </tr>\n",
       "    <tr>\n",
       "      <th>69</th>\n",
       "      <td>69</td>\n",
       "      <td>2301.220590</td>\n",
       "      <td>1055.365702</td>\n",
       "      <td>1059.803702</td>\n",
       "      <td>1062.821408</td>\n",
       "      <td>EVPM</td>\n",
       "      <td>1634936702.csv</td>\n",
       "    </tr>\n",
       "  </tbody>\n",
       "</table>\n",
       "<p>70 rows × 7 columns</p>\n",
       "</div>"
      ],
      "text/plain": [
       "    Participant_ID          EVM         EVPM        EVPBM        EVPRM  \\\n",
       "0                0  2403.180354   865.880793   863.100238   865.957918   \n",
       "1                1  2205.367658   577.384116   573.241222   577.382066   \n",
       "2                2  3380.777419  1809.344016  1809.130683  1475.132897   \n",
       "3                3  2229.268938   750.982170   747.323072   767.043619   \n",
       "4                4  1691.499682   406.377459   408.104072   410.624857   \n",
       "..             ...          ...          ...          ...          ...   \n",
       "65              65  2241.460656   882.615477   884.905881   888.071702   \n",
       "66              66  2137.107017   617.515625   615.593564   615.105489   \n",
       "67              67  2168.559483   569.777387   552.456146   573.887888   \n",
       "68              68  2361.985411  1218.009680  1207.743448  1203.992552   \n",
       "69              69  2301.220590  1055.365702  1059.803702  1062.821408   \n",
       "\n",
       "   best_fit       file_name  \n",
       "0     EVPBM  1635170782.csv  \n",
       "1     EVPBM  1635086955.csv  \n",
       "2     EVPRM  1635587894.csv  \n",
       "3     EVPBM  1635169562.csv  \n",
       "4      EVPM  1635250159.csv  \n",
       "..      ...             ...  \n",
       "65     EVPM  1635702814.csv  \n",
       "66    EVPRM  1635431069.csv  \n",
       "67    EVPBM  1635254246.csv  \n",
       "68    EVPRM  1635198780.csv  \n",
       "69     EVPM  1634936702.csv  \n",
       "\n",
       "[70 rows x 7 columns]"
      ]
     },
     "execution_count": 10,
     "metadata": {},
     "output_type": "execute_result"
    }
   ],
   "source": [
    "# create df with individual LOOs\n",
    "# model.loo_i: trial-wise LOOs, excluding time-out trials\n",
    "dfLOO = pd.DataFrame()\n",
    "\n",
    "dfLOO['Participant_ID'] = nonTimeOutIdxs\n",
    "dfLOO['EVM'] = loosEVM.loo_i.to_numpy().flatten()\n",
    "dfLOO['EVPM'] = loosEVPM.loo_i.to_numpy().flatten()\n",
    "dfLOO['EVPBM'] = loosEVPBM.loo_i.to_numpy().flatten()\n",
    "dfLOO['EVPRM'] = loosEVPRM.loo_i.to_numpy().flatten()\n",
    "# dfLOO['EVPRM_v2'] = loosEVPRMv2.loo_i.to_numpy().flatten()\n",
    "\n",
    "# calculate sums\n",
    "dfLOO = dfLOO.groupby(['Participant_ID']).sum() #.reset_index()\n",
    "\n",
    "# add column with best model fit\n",
    "bestModelParticipant = dfLOO.idxmin(axis=1)\n",
    "dfLOO['best_fit'] = bestModelParticipant\n",
    "\n",
    "# add file name column\n",
    "dfLOO = pd.merge(dfLOO, dfData[['Participant_ID', 'file_name']].groupby(dfData['Participant_ID']).nth(1).reset_index(), on='Participant_ID')\n",
    "dfLOO.drop(columns='index', inplace=True)\n",
    "dfLOO"
   ]
  },
  {
   "cell_type": "code",
   "execution_count": 12,
   "metadata": {},
   "outputs": [],
   "source": [
    "#f = open('../data_empirical/results_model_comparison.pkl', 'wb')\n",
    "#pickle.dump(dfLOO, f)\n",
    "#f.close()"
   ]
  },
  {
   "cell_type": "code",
   "execution_count": 12,
   "metadata": {},
   "outputs": [],
   "source": [
    "dfLOO.to_csv('../data_empirical/results_model_comparison_new.csv', index=False)"
   ]
  },
  {
   "cell_type": "markdown",
   "metadata": {},
   "source": [
    "#### best fit overview"
   ]
  },
  {
   "cell_type": "code",
   "execution_count": 18,
   "metadata": {},
   "outputs": [
    {
     "data": {
      "text/plain": [
       "best_fit\n",
       "EVPM     28\n",
       "EVPRM    27\n",
       "EVPBM    15\n",
       "Name: count, dtype: int64"
      ]
     },
     "execution_count": 18,
     "metadata": {},
     "output_type": "execute_result"
    }
   ],
   "source": [
    "dfLOO['best_fit'].value_counts()"
   ]
  },
  {
   "cell_type": "code",
   "execution_count": null,
   "metadata": {},
   "outputs": [],
   "source": []
  },
  {
   "cell_type": "markdown",
   "metadata": {},
   "source": [
    "#### calculate LOO differences for each participant grouped by best fit for plotting"
   ]
  },
  {
   "cell_type": "code",
   "execution_count": 19,
   "metadata": {},
   "outputs": [],
   "source": [
    "dfLOO = pd.read_pickle('../data_empirical/results_model_comparison.pkl')"
   ]
  },
  {
   "cell_type": "code",
   "execution_count": 20,
   "metadata": {},
   "outputs": [],
   "source": [
    "dfLOO.sort_values('best_fit', inplace=True)\n",
    "dfLOO['participant_ID'] = np.arange(len(dfLOO))"
   ]
  },
  {
   "cell_type": "code",
   "execution_count": 21,
   "metadata": {},
   "outputs": [],
   "source": [
    "dfLoosMelted = dfLOO.melt(id_vars=['participant_ID', 'best_fit'], \n",
    "                            value_vars=['EVPM', 'EVPRM', 'EVPBM'], \n",
    "                            var_name='model', value_name='LOO')"
   ]
  },
  {
   "cell_type": "code",
   "execution_count": null,
   "metadata": {},
   "outputs": [
    {
     "data": {
      "text/plain": [
       "<Figure size 1000x600 with 0 Axes>"
      ]
     },
     "metadata": {},
     "output_type": "display_data"
    },
    {
     "data": {
      "image/png": "[encoded data removed]",
      "text/plain": [
       "<Figure size 2000x600 with 3 Axes>"
      ]
     },
     "metadata": {},
     "output_type": "display_data"
    }
   ],
   "source": [
    "plt.figure()\n",
    "fig, axBottom = plt.subplots(1,3, figsize=(20,6), width_ratios=[1,.6,1.1], sharey=True)\n",
    "\n",
    "# 1) best fit EVPRM\n",
    "dfPlot = dfLoosMelted.loc[dfLoosMelted['best_fit']=='EVPRM']\n",
    "sns.scatterplot(data=dfPlot, x='participant_ID', y='LOO', hue='model', style='model', edgecolor='black', s=100, ax=axBottom[0])\n",
    "axBottom[0].set_ylabel('LOOIC\\n(lower is better)', fontsize=16)\n",
    "axBottom[0].set_xlabel('Best Fit by EVPRM', fontsize=16)\n",
    "axBottom[0].set_xticks([])\n",
    "axBottom[0].set_ylim([0, 2650])\n",
    "axBottom[0].get_legend().remove()\n",
    "# axBottom[0].text(31, 2700, 'C', fontsize=20, weight='bold')\n",
    "\n",
    "# 2) best fit EVPBM\n",
    "dfPlot = dfLoosMelted.loc[dfLoosMelted['best_fit']=='EVPBM']\n",
    "sns.scatterplot(data=dfPlot, x='participant_ID', y='LOO', style='model', s=100, hue='model', edgecolor='black', ax=axBottom[1])\n",
    "axBottom[1].set_ylabel('')\n",
    "axBottom[1].set_xlabel('Best Fit by EVPBM', fontsize=16)\n",
    "axBottom[1].set_xticks([])\n",
    "axBottom[1].get_legend().remove()\n",
    "\n",
    "# 3) best fit EVPM\n",
    "dfPlot = dfLoosMelted.loc[dfLoosMelted['best_fit']=='EVPM']\n",
    "sns.scatterplot(data=dfPlot, x='participant_ID', y='LOO', style=dfPlot['model'], hue=dfPlot['model'], s=100, edgecolor='black', ax=axBottom[2]) #.map(legendMap)\n",
    "axBottom[2].set_ylabel('')\n",
    "axBottom[2].set_xlabel('Best Fit by EVPM', fontsize=16)\n",
    "axBottom[2].set_xticks([])\n",
    "axBottom[2].legend(title='Model', fontsize=14, title_fontsize=14)\n",
    "\n",
    "#plt.savefig('../figures/model_comparison_axis_0.svg', format='svg')\n",
    "\n",
    "sns.despine()\n",
    "plt.show()"
   ]
  },
  {
   "cell_type": "code",
   "execution_count": null,
   "metadata": {},
   "outputs": [],
   "source": []
  },
  {
   "cell_type": "markdown",
   "metadata": {},
   "source": [
    "# Create table with fitted parameters"
   ]
  },
  {
   "cell_type": "code",
   "execution_count": 26,
   "metadata": {},
   "outputs": [],
   "source": [
    "dfInference = pd.read_pickle('../data_empirical/inferred_parameters.pkl')"
   ]
  },
  {
   "cell_type": "code",
   "execution_count": 23,
   "metadata": {},
   "outputs": [],
   "source": [
    "def add_inferred_parameters(df, posterior, modelName, parameters):\n",
    "    # loop over parameters\n",
    "    for p in parameters:\n",
    "        parameterValues = az.summary(posterior, var_names=[p]) # calculate means and SDs\n",
    "\n",
    "        # add both to existing df\n",
    "        df[f'{modelName}_{p}_mean'] = parameterValues['mean'].to_numpy()\n",
    "        df[f'{modelName}_{p}_sd'] = parameterValues['sd'].to_numpy()\n",
    "    \n",
    "    return df"
   ]
  },
  {
   "cell_type": "code",
   "execution_count": null,
   "metadata": {},
   "outputs": [],
   "source": [
    "dfInference = pd.DataFrame()\n",
    "dfInference = add_inferred_parameters(dfInference, posteriorsEVM, 'EVM', ['beta'])\n",
    "dfInference = add_inferred_parameters(dfInference, posteriorsEVPM, 'EVPM', ['beta', 'R0'])\n",
    "dfInference = add_inferred_parameters(dfInference, posteriorsEVPBM, 'EVPBM', ['beta', 'R0', 'bias'])\n",
    "dfInference = add_inferred_parameters(dfInference, posteriorsEVPRM, 'EVPRM', ['beta', 'R0', 'h'])\n",
    "#dfInference = add_inferred_parameters(dfInference, posteriorsEVPRMv2, 'EVPRM_v2', ['beta', 'R0', 'h', 'h_DAS'])"
   ]
  },
  {
   "cell_type": "code",
   "execution_count": 28,
   "metadata": {},
   "outputs": [],
   "source": [
    "# add best fitting model and p(DAS)\n",
    "dfInference['best_fit'] = bestModelParticipant"
   ]
  },
  {
   "cell_type": "code",
   "execution_count": 29,
   "metadata": {},
   "outputs": [],
   "source": [
    "IdxDAS = 4\n",
    "dfData['DAS'] = np.where(dfData['sequence_ID']==IdxDAS, 1, 0)\n",
    "dfInference['p(DAS)'] = dfData['DAS'].groupby(dfData['Participant_ID']).mean()"
   ]
  },
  {
   "cell_type": "code",
   "execution_count": 34,
   "metadata": {},
   "outputs": [],
   "source": [
    "dfInference.to_pickle('../data_empirical/inferred_parameters.pkl')"
   ]
  },
  {
   "cell_type": "code",
   "execution_count": null,
   "metadata": {},
   "outputs": [],
   "source": []
  },
  {
   "cell_type": "markdown",
   "metadata": {},
   "source": [
    "### Look at EVPRM parameter distributions depending on best fit"
   ]
  },
  {
   "cell_type": "code",
   "execution_count": null,
   "metadata": {},
   "outputs": [
    {
     "name": "stderr",
     "output_type": "stream",
     "text": [
      "C:\\Users\\s3090986\\AppData\\Local\\Temp\\ipykernel_6556\\3783747460.py:53: UserWarning: This figure includes Axes that are not compatible with tight_layout, so results might be incorrect.\n",
      "  plt.tight_layout()\n"
     ]
    },
    {
     "data": {
      "image/png": "[encoded data removed]",
      "text/plain": [
       "<Figure size 1500x700 with 3 Axes>"
      ]
     },
     "metadata": {},
     "output_type": "display_data"
    }
   ],
   "source": [
    "fig, axs = plt.subplots(1,3, figsize=(15,7), gridspec_kw={'wspace':.3})\n",
    "\n",
    "colorMap = sns.color_palette(\"deep\")\n",
    "colors = [colorMap[1], colorMap[2], colorMap[0]]\n",
    "\n",
    "# repetition bias h\n",
    "sns.boxplot(data=dfInference.sort_values('EVPRM_h_mean', ascending=False), \n",
    "            x='best_fit', \n",
    "            y='EVPRM_h_mean', \n",
    "            hue='best_fit', \n",
    "            palette=colors,\n",
    "            ax=axs[0]) #legend=False,\n",
    "axs[0].set_title(r'Repetition Bias Strength', fontsize=14, fontweight='bold')\n",
    "axs[0].set_xlabel('Best Fit Model', fontsize=16)\n",
    "axs[0].set_ylabel(r'$h$', fontsize=18)\n",
    "#axs[0].get_legend().remove()\n",
    "axs[0].set_ylim([-.05,1])\n",
    "axs[0].text(-1.7, 1.05, 'A', fontsize=20, weight='bold')\n",
    "\n",
    "# precision on expected rewards beta\n",
    "sns.boxplot(data=dfInference.sort_values('EVPRM_h_mean', ascending=False), \n",
    "            x='best_fit', \n",
    "            y='EVPRM_beta_mean', \n",
    "            hue='best_fit', \n",
    "            palette=colors,\n",
    "            ax=axs[1])\n",
    "axs[1].set_title(r'Precision Expected Rewards', fontsize=14, fontweight='bold')\n",
    "axs[1].set_xlabel('Best Fit Model', fontsize=16)\n",
    "axs[1].set_ylabel(r'$\\beta$', fontsize=18)\n",
    "#axs[1].get_legend().remove()\n",
    "axs[1].set_ylim([-.5,17.95])\n",
    "axs[1].text(-2.2, 20, 'B', fontsize=20, weight='bold')\n",
    "\n",
    "# approximated reward R0\n",
    "sns.boxplot(data=dfInference.sort_values('EVPRM_h_mean', ascending=False), \n",
    "            x='best_fit', \n",
    "            y='EVPRM_R0_mean', \n",
    "            hue='best_fit', \n",
    "            palette=colors, \n",
    "            ax=axs[2])\n",
    "axs[2].set_title(r'Approximated Reward', fontsize=14, fontweight='bold')\n",
    "axs[2].set_xlabel('Best Fit Model', fontsize=16)\n",
    "axs[2].set_ylabel(r'$R_0$', fontsize=18)\n",
    "#axs[2].get_legend().remove()\n",
    "axs[2].set_ylim([0,85])\n",
    "axs[2].text(-1.8, 92.8, 'C', fontsize=20, weight='bold')\n",
    "\n",
    "for ax in [axs[0], axs[1], axs[2]]:\n",
    "    ax.tick_params(axis='x', labelsize=12)\n",
    "    ax.tick_params(axis='y', labelsize=16)\n",
    "\n",
    "sns.despine()\n",
    "plt.tight_layout()\n",
    "\n",
    "#plt.savefig('../figures/parameters_by_best_fit.svg', format='svg')\n",
    "\n",
    "plt.show()"
   ]
  },
  {
   "cell_type": "markdown",
   "metadata": {},
   "source": [
    "#### Calculate statistics for this figure\n",
    "Test for each parameter, if participants have different parameter values depending on best fitting model."
   ]
  },
  {
   "cell_type": "code",
   "execution_count": 11,
   "metadata": {},
   "outputs": [],
   "source": [
    "# load data\n",
    "f = open('../data_empirical/inferred_parameters.pkl', 'rb')\n",
    "dfInference = pickle.load(f)\n",
    "f.close()"
   ]
  },
  {
   "cell_type": "code",
   "execution_count": null,
   "metadata": {},
   "outputs": [
    {
     "data": {
      "text/plain": [
       "best_fit\n",
       "EVPM     28\n",
       "EVPRM    27\n",
       "EVPBM    15\n",
       "Name: count, dtype: int64"
      ]
     },
     "execution_count": 21,
     "metadata": {},
     "output_type": "execute_result"
    }
   ],
   "source": [
    "# samnity check\n",
    "dfInference['best_fit'].value_counts()"
   ]
  },
  {
   "cell_type": "code",
   "execution_count": 12,
   "metadata": {},
   "outputs": [
    {
     "data": {
      "text/html": [
       "<div>\n",
       "<style scoped>\n",
       "    .dataframe tbody tr th:only-of-type {\n",
       "        vertical-align: middle;\n",
       "    }\n",
       "\n",
       "    .dataframe tbody tr th {\n",
       "        vertical-align: top;\n",
       "    }\n",
       "\n",
       "    .dataframe thead th {\n",
       "        text-align: right;\n",
       "    }\n",
       "</style>\n",
       "<table border=\"1\" class=\"dataframe\">\n",
       "  <thead>\n",
       "    <tr style=\"text-align: right;\">\n",
       "      <th></th>\n",
       "      <th>EVM_beta_mean</th>\n",
       "      <th>EVM_beta_sd</th>\n",
       "      <th>EVPM_beta_mean</th>\n",
       "      <th>EVPM_beta_sd</th>\n",
       "      <th>EVPM_R0_mean</th>\n",
       "      <th>EVPM_R0_sd</th>\n",
       "      <th>EVPBM_beta_mean</th>\n",
       "      <th>EVPBM_beta_sd</th>\n",
       "      <th>EVPBM_R0_mean</th>\n",
       "      <th>EVPBM_R0_sd</th>\n",
       "      <th>EVPBM_bias_mean</th>\n",
       "      <th>EVPBM_bias_sd</th>\n",
       "      <th>EVPRM_beta_mean</th>\n",
       "      <th>EVPRM_beta_sd</th>\n",
       "      <th>EVPRM_R0_mean</th>\n",
       "      <th>EVPRM_R0_sd</th>\n",
       "      <th>EVPRM_h_mean</th>\n",
       "      <th>EVPRM_h_sd</th>\n",
       "      <th>best_fit</th>\n",
       "      <th>p(DAS)</th>\n",
       "    </tr>\n",
       "  </thead>\n",
       "  <tbody>\n",
       "    <tr>\n",
       "      <th>0</th>\n",
       "      <td>1.695</td>\n",
       "      <td>0.197</td>\n",
       "      <td>10.488</td>\n",
       "      <td>0.940</td>\n",
       "      <td>56.842</td>\n",
       "      <td>2.253</td>\n",
       "      <td>10.433</td>\n",
       "      <td>0.915</td>\n",
       "      <td>58.780</td>\n",
       "      <td>2.260</td>\n",
       "      <td>4.958</td>\n",
       "      <td>1.535</td>\n",
       "      <td>10.555</td>\n",
       "      <td>0.928</td>\n",
       "      <td>59.575</td>\n",
       "      <td>2.285</td>\n",
       "      <td>0.014</td>\n",
       "      <td>0.007</td>\n",
       "      <td>EVPBM</td>\n",
       "      <td>0.556250</td>\n",
       "    </tr>\n",
       "    <tr>\n",
       "      <th>1</th>\n",
       "      <td>2.365</td>\n",
       "      <td>0.236</td>\n",
       "      <td>7.334</td>\n",
       "      <td>0.678</td>\n",
       "      <td>39.843</td>\n",
       "      <td>2.634</td>\n",
       "      <td>7.468</td>\n",
       "      <td>0.723</td>\n",
       "      <td>43.802</td>\n",
       "      <td>3.005</td>\n",
       "      <td>8.990</td>\n",
       "      <td>2.483</td>\n",
       "      <td>7.729</td>\n",
       "      <td>0.791</td>\n",
       "      <td>47.418</td>\n",
       "      <td>3.540</td>\n",
       "      <td>0.034</td>\n",
       "      <td>0.024</td>\n",
       "      <td>EVPBM</td>\n",
       "      <td>0.750000</td>\n",
       "    </tr>\n",
       "    <tr>\n",
       "      <th>2</th>\n",
       "      <td>0.101</td>\n",
       "      <td>0.050</td>\n",
       "      <td>0.782</td>\n",
       "      <td>0.043</td>\n",
       "      <td>2.478</td>\n",
       "      <td>0.469</td>\n",
       "      <td>0.727</td>\n",
       "      <td>0.042</td>\n",
       "      <td>3.653</td>\n",
       "      <td>0.755</td>\n",
       "      <td>134.177</td>\n",
       "      <td>37.511</td>\n",
       "      <td>0.032</td>\n",
       "      <td>0.013</td>\n",
       "      <td>69.177</td>\n",
       "      <td>9.860</td>\n",
       "      <td>0.927</td>\n",
       "      <td>0.038</td>\n",
       "      <td>EVPRM</td>\n",
       "      <td>0.387500</td>\n",
       "    </tr>\n",
       "    <tr>\n",
       "      <th>3</th>\n",
       "      <td>2.361</td>\n",
       "      <td>0.233</td>\n",
       "      <td>3.351</td>\n",
       "      <td>0.246</td>\n",
       "      <td>18.276</td>\n",
       "      <td>2.023</td>\n",
       "      <td>3.174</td>\n",
       "      <td>0.248</td>\n",
       "      <td>20.234</td>\n",
       "      <td>2.329</td>\n",
       "      <td>19.860</td>\n",
       "      <td>6.531</td>\n",
       "      <td>3.153</td>\n",
       "      <td>0.264</td>\n",
       "      <td>21.135</td>\n",
       "      <td>2.607</td>\n",
       "      <td>0.016</td>\n",
       "      <td>0.034</td>\n",
       "      <td>EVPBM</td>\n",
       "      <td>0.756250</td>\n",
       "    </tr>\n",
       "    <tr>\n",
       "      <th>4</th>\n",
       "      <td>5.636</td>\n",
       "      <td>0.419</td>\n",
       "      <td>10.715</td>\n",
       "      <td>0.964</td>\n",
       "      <td>48.331</td>\n",
       "      <td>2.238</td>\n",
       "      <td>10.790</td>\n",
       "      <td>0.985</td>\n",
       "      <td>50.259</td>\n",
       "      <td>2.368</td>\n",
       "      <td>3.907</td>\n",
       "      <td>1.493</td>\n",
       "      <td>11.123</td>\n",
       "      <td>1.035</td>\n",
       "      <td>51.585</td>\n",
       "      <td>2.485</td>\n",
       "      <td>0.013</td>\n",
       "      <td>0.007</td>\n",
       "      <td>EVPM</td>\n",
       "      <td>0.684375</td>\n",
       "    </tr>\n",
       "    <tr>\n",
       "      <th>...</th>\n",
       "      <td>...</td>\n",
       "      <td>...</td>\n",
       "      <td>...</td>\n",
       "      <td>...</td>\n",
       "      <td>...</td>\n",
       "      <td>...</td>\n",
       "      <td>...</td>\n",
       "      <td>...</td>\n",
       "      <td>...</td>\n",
       "      <td>...</td>\n",
       "      <td>...</td>\n",
       "      <td>...</td>\n",
       "      <td>...</td>\n",
       "      <td>...</td>\n",
       "      <td>...</td>\n",
       "      <td>...</td>\n",
       "      <td>...</td>\n",
       "      <td>...</td>\n",
       "      <td>...</td>\n",
       "      <td>...</td>\n",
       "    </tr>\n",
       "    <tr>\n",
       "      <th>65</th>\n",
       "      <td>2.562</td>\n",
       "      <td>0.234</td>\n",
       "      <td>9.590</td>\n",
       "      <td>0.825</td>\n",
       "      <td>55.523</td>\n",
       "      <td>2.344</td>\n",
       "      <td>9.445</td>\n",
       "      <td>0.814</td>\n",
       "      <td>56.729</td>\n",
       "      <td>2.444</td>\n",
       "      <td>3.878</td>\n",
       "      <td>1.534</td>\n",
       "      <td>9.647</td>\n",
       "      <td>0.831</td>\n",
       "      <td>58.124</td>\n",
       "      <td>2.426</td>\n",
       "      <td>0.012</td>\n",
       "      <td>0.006</td>\n",
       "      <td>EVPM</td>\n",
       "      <td>0.518750</td>\n",
       "    </tr>\n",
       "    <tr>\n",
       "      <th>66</th>\n",
       "      <td>2.397</td>\n",
       "      <td>0.231</td>\n",
       "      <td>6.632</td>\n",
       "      <td>0.559</td>\n",
       "      <td>36.430</td>\n",
       "      <td>2.419</td>\n",
       "      <td>6.400</td>\n",
       "      <td>0.588</td>\n",
       "      <td>38.626</td>\n",
       "      <td>2.752</td>\n",
       "      <td>8.807</td>\n",
       "      <td>2.737</td>\n",
       "      <td>6.396</td>\n",
       "      <td>0.622</td>\n",
       "      <td>41.982</td>\n",
       "      <td>3.115</td>\n",
       "      <td>0.030</td>\n",
       "      <td>0.016</td>\n",
       "      <td>EVPBM</td>\n",
       "      <td>0.753125</td>\n",
       "    </tr>\n",
       "    <tr>\n",
       "      <th>67</th>\n",
       "      <td>2.387</td>\n",
       "      <td>0.230</td>\n",
       "      <td>6.475</td>\n",
       "      <td>0.564</td>\n",
       "      <td>34.997</td>\n",
       "      <td>2.480</td>\n",
       "      <td>6.447</td>\n",
       "      <td>0.617</td>\n",
       "      <td>40.854</td>\n",
       "      <td>3.089</td>\n",
       "      <td>15.920</td>\n",
       "      <td>3.452</td>\n",
       "      <td>6.637</td>\n",
       "      <td>0.694</td>\n",
       "      <td>47.742</td>\n",
       "      <td>6.209</td>\n",
       "      <td>0.159</td>\n",
       "      <td>0.186</td>\n",
       "      <td>EVPBM</td>\n",
       "      <td>0.784375</td>\n",
       "    </tr>\n",
       "    <tr>\n",
       "      <th>68</th>\n",
       "      <td>1.849</td>\n",
       "      <td>0.201</td>\n",
       "      <td>3.222</td>\n",
       "      <td>0.246</td>\n",
       "      <td>23.537</td>\n",
       "      <td>2.295</td>\n",
       "      <td>2.947</td>\n",
       "      <td>0.236</td>\n",
       "      <td>25.206</td>\n",
       "      <td>2.510</td>\n",
       "      <td>24.802</td>\n",
       "      <td>6.712</td>\n",
       "      <td>2.849</td>\n",
       "      <td>0.251</td>\n",
       "      <td>25.953</td>\n",
       "      <td>2.670</td>\n",
       "      <td>0.022</td>\n",
       "      <td>0.008</td>\n",
       "      <td>EVPBM</td>\n",
       "      <td>0.587500</td>\n",
       "    </tr>\n",
       "    <tr>\n",
       "      <th>69</th>\n",
       "      <td>1.594</td>\n",
       "      <td>0.183</td>\n",
       "      <td>7.220</td>\n",
       "      <td>0.586</td>\n",
       "      <td>48.300</td>\n",
       "      <td>2.361</td>\n",
       "      <td>7.003</td>\n",
       "      <td>0.589</td>\n",
       "      <td>48.345</td>\n",
       "      <td>2.473</td>\n",
       "      <td>2.320</td>\n",
       "      <td>1.200</td>\n",
       "      <td>7.030</td>\n",
       "      <td>0.571</td>\n",
       "      <td>49.486</td>\n",
       "      <td>2.418</td>\n",
       "      <td>0.007</td>\n",
       "      <td>0.005</td>\n",
       "      <td>EVPM</td>\n",
       "      <td>0.459375</td>\n",
       "    </tr>\n",
       "  </tbody>\n",
       "</table>\n",
       "<p>70 rows × 20 columns</p>\n",
       "</div>"
      ],
      "text/plain": [
       "    EVM_beta_mean  EVM_beta_sd  EVPM_beta_mean  EVPM_beta_sd  EVPM_R0_mean  \\\n",
       "0           1.695        0.197          10.488         0.940        56.842   \n",
       "1           2.365        0.236           7.334         0.678        39.843   \n",
       "2           0.101        0.050           0.782         0.043         2.478   \n",
       "3           2.361        0.233           3.351         0.246        18.276   \n",
       "4           5.636        0.419          10.715         0.964        48.331   \n",
       "..            ...          ...             ...           ...           ...   \n",
       "65          2.562        0.234           9.590         0.825        55.523   \n",
       "66          2.397        0.231           6.632         0.559        36.430   \n",
       "67          2.387        0.230           6.475         0.564        34.997   \n",
       "68          1.849        0.201           3.222         0.246        23.537   \n",
       "69          1.594        0.183           7.220         0.586        48.300   \n",
       "\n",
       "    EVPM_R0_sd  EVPBM_beta_mean  EVPBM_beta_sd  EVPBM_R0_mean  EVPBM_R0_sd  \\\n",
       "0        2.253           10.433          0.915         58.780        2.260   \n",
       "1        2.634            7.468          0.723         43.802        3.005   \n",
       "2        0.469            0.727          0.042          3.653        0.755   \n",
       "3        2.023            3.174          0.248         20.234        2.329   \n",
       "4        2.238           10.790          0.985         50.259        2.368   \n",
       "..         ...              ...            ...            ...          ...   \n",
       "65       2.344            9.445          0.814         56.729        2.444   \n",
       "66       2.419            6.400          0.588         38.626        2.752   \n",
       "67       2.480            6.447          0.617         40.854        3.089   \n",
       "68       2.295            2.947          0.236         25.206        2.510   \n",
       "69       2.361            7.003          0.589         48.345        2.473   \n",
       "\n",
       "    EVPBM_bias_mean  EVPBM_bias_sd  EVPRM_beta_mean  EVPRM_beta_sd  \\\n",
       "0             4.958          1.535           10.555          0.928   \n",
       "1             8.990          2.483            7.729          0.791   \n",
       "2           134.177         37.511            0.032          0.013   \n",
       "3            19.860          6.531            3.153          0.264   \n",
       "4             3.907          1.493           11.123          1.035   \n",
       "..              ...            ...              ...            ...   \n",
       "65            3.878          1.534            9.647          0.831   \n",
       "66            8.807          2.737            6.396          0.622   \n",
       "67           15.920          3.452            6.637          0.694   \n",
       "68           24.802          6.712            2.849          0.251   \n",
       "69            2.320          1.200            7.030          0.571   \n",
       "\n",
       "    EVPRM_R0_mean  EVPRM_R0_sd  EVPRM_h_mean  EVPRM_h_sd best_fit    p(DAS)  \n",
       "0          59.575        2.285         0.014       0.007    EVPBM  0.556250  \n",
       "1          47.418        3.540         0.034       0.024    EVPBM  0.750000  \n",
       "2          69.177        9.860         0.927       0.038    EVPRM  0.387500  \n",
       "3          21.135        2.607         0.016       0.034    EVPBM  0.756250  \n",
       "4          51.585        2.485         0.013       0.007     EVPM  0.684375  \n",
       "..            ...          ...           ...         ...      ...       ...  \n",
       "65         58.124        2.426         0.012       0.006     EVPM  0.518750  \n",
       "66         41.982        3.115         0.030       0.016    EVPBM  0.753125  \n",
       "67         47.742        6.209         0.159       0.186    EVPBM  0.784375  \n",
       "68         25.953        2.670         0.022       0.008    EVPBM  0.587500  \n",
       "69         49.486        2.418         0.007       0.005     EVPM  0.459375  \n",
       "\n",
       "[70 rows x 20 columns]"
      ]
     },
     "execution_count": 12,
     "metadata": {},
     "output_type": "execute_result"
    }
   ],
   "source": [
    "dfInference"
   ]
  },
  {
   "cell_type": "code",
   "execution_count": 13,
   "metadata": {},
   "outputs": [],
   "source": [
    "from scipy.stats import shapiro\n",
    "from scipy.stats import levene\n",
    "from scipy.stats import kruskal\n",
    "import scikit_posthocs as sp"
   ]
  },
  {
   "cell_type": "code",
   "execution_count": null,
   "metadata": {},
   "outputs": [],
   "source": [
    "def eta_square_kruskal(H, k, N):\n",
    "    return (H-k+1)/(N-k)"
   ]
  },
  {
   "cell_type": "code",
   "execution_count": null,
   "metadata": {},
   "outputs": [
    {
     "name": "stdout",
     "output_type": "stream",
     "text": [
      "h:\n",
      "Shapiro-Wilk test for normality\n",
      "Model EVPRM: stat=0.79 p=0.0\n",
      "Model EVPBM: stat=0.65 p=0.0\n",
      "Model EVPM: stat=0.38 p=0.0\n",
      "\n",
      "Levene test: stat=5.07 p=0.009\n",
      "\n",
      "Kruskal-Wallis-Test for h: H=47.66, p=0.0, eta2=0.681\n",
      "\n",
      "Conover Post-hoc:\n",
      "              1             2             3\n",
      "1  1.000000e+00  1.417172e-08  1.343377e-18\n",
      "2  1.417172e-08  1.000000e+00  3.758177e-04\n",
      "3  1.343377e-18  3.758177e-04  1.000000e+00\n",
      "\n",
      "beta:\n",
      "Shapiro-Wilk test for normality\n",
      "Model EVPRM: stat=0.69 p=0.0\n",
      "Model EVPBM: stat=0.91 p=0.123\n",
      "Model EVPM: stat=0.96 p=0.314\n",
      "\n",
      "Levene test: stat=0.37 p=0.69\n",
      "\n",
      "Kruskal-Wallis-Test for beta: H=31.61, p=0.0, eta2=0.442\n",
      "\n",
      "Conover Post-hoc:\n",
      "              1         2             3\n",
      "1  1.000000e+00  0.000224  2.043559e-10\n",
      "2  2.238607e-04  1.000000  2.005865e-02\n",
      "3  2.043559e-10  0.020059  1.000000e+00\n",
      "\n",
      "R0:\n",
      "Shapiro-Wilk test for normality\n",
      "Model EVPRM: stat=0.89 p=0.009\n",
      "Model EVPBM: stat=0.96 p=0.609\n",
      "Model EVPM: stat=0.91 p=0.023\n",
      "\n",
      "Levene test: stat=4.86 p=0.011\n",
      "\n",
      "Kruskal-Wallis-Test for R0: H=6.09, p=0.0475, eta2=0.061\n",
      "\n",
      "Conover Post-hoc:\n",
      "          1         2         3\n",
      "1  1.000000  0.013762  0.420676\n",
      "2  0.013762  1.000000  0.066798\n",
      "3  0.420676  0.066798  1.000000\n",
      "\n"
     ]
    }
   ],
   "source": [
    "parameterNames = ['h', 'beta', 'R0']\n",
    "modelNames = ['EVPRM', 'EVPBM', 'EVPM'] \n",
    "\n",
    "N = 70\n",
    "k = 3\n",
    "\n",
    "# loop over parameters\n",
    "for param in parameterNames:\n",
    "    print(f'{param}:')\n",
    "    # select corresponding data\n",
    "    df = dfInference.loc[:, ['best_fit', f'EVPRM_{param}_mean']]\n",
    "\n",
    "    # test for normality with Shapiro-Wilk (p<.05 -> no assumption of normality)\n",
    "    print('Shapiro-Wilk test for normality')\n",
    "    for m in modelNames:\n",
    "        stat, p = shapiro(df.loc[df['best_fit']==m, f'EVPRM_{param}_mean'])\n",
    "        print(f'Model {m}: stat={np.round(stat, 2)} p={np.round(p,3)}')\n",
    "\n",
    "    # test for equal variances with Levene (p<.05 -> no assumption of homogene variances)\n",
    "    dataLevene = [ df.loc[df['best_fit']==m, f'EVPRM_{param}_mean'] for m in modelNames ]\n",
    "    stat, p = levene(*dataLevene, center='mean')\n",
    "    print(f'\\nLevene test: stat={np.round(stat, 2)} p={np.round(p, 3)}')\n",
    "\n",
    "    # perform Kruskal-Wallis\n",
    "    stat, p = kruskal(*dataLevene)\n",
    "    print(f'\\nKruskal-Wallis-Test for {param}: H={np.round(stat, 2)}, p={np.round(p, 4)}, eta2={np.round(eta_square_kruskal(stat, k, N),3)}\\n')\n",
    "\n",
    "    print(f'Conover Post-hoc:\\n{sp.posthoc_conover(dataLevene)}\\n')\n"
   ]
  },
  {
   "cell_type": "code",
   "execution_count": null,
   "metadata": {},
   "outputs": [],
   "source": []
  },
  {
   "cell_type": "code",
   "execution_count": 2,
   "metadata": {},
   "outputs": [
    {
     "name": "stdout",
     "output_type": "stream",
     "text": [
      "Last updated: Fri Sep 27 2024\n",
      "\n",
      "Python implementation: CPython\n",
      "Python version       : 3.11.0\n",
      "IPython version      : 8.20.0\n",
      "\n",
      "numpy     : 1.25.2\n",
      "arviz     : 0.17.1\n",
      "seaborn   : 0.12.2\n",
      "pandas    : 2.2.1\n",
      "matplotlib: 3.8.4\n",
      "sys       : 3.11.0 | packaged by conda-forge | (main, Jan 15 2023, 05:44:48) [Clang 14.0.6 ]\n",
      "\n",
      "Watermark: 2.3.1\n",
      "\n"
     ]
    }
   ],
   "source": [
    "%load_ext watermark\n",
    "%watermark -n -u -v -iv -w"
   ]
  }
 ],
 "metadata": {
  "kernelspec": {
   "display_name": "pymc_env",
   "language": "python",
   "name": "python3"
  },
  "language_info": {
   "codemirror_mode": {
    "name": "ipython",
    "version": 3
   },
   "file_extension": ".py",
   "mimetype": "text/x-python",
   "name": "python",
   "nbconvert_exporter": "python",
   "pygments_lexer": "ipython3",
   "version": "3.11.0"
  },
  "orig_nbformat": 4
 },
 "nbformat": 4,
 "nbformat_minor": 2
}
